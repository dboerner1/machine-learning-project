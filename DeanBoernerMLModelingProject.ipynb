{
 "cells": [
  {
   "cell_type": "markdown",
   "metadata": {
    "id": "fo67isgB4OxW"
   },
   "source": [
    "For my MSDS 599 final project, I decided to use machine learning to see: a) if data indicates a true number of baseball pitch types and how these pitch types differ from convention, and b) to see how info on pitch differences might be used to predict effectiveness.  \n",
    "\n",
    "I addressed this two-parted across three sections. In the first section, I deploy an unsupervised learning model on a dozen or so variables tracking exactly how a pitch moves through the air after its release. \n",
    "\n",
    "The second and third sections get at the second part of my question. Specificaly, I look to see whether I can predict a swing and a miss, which is a good indication of pitch effectiveness. First, I deploy a machine learning model without any information gained via my unsupervised learning model. Then, I build a model using insights gained from that unsupervised learning model.  \n",
    "\n",
    "I used Statcast data pulled from Baseball Savant, looking at 40,000 pitches thrown over an 11-day sample period last May. It has dozens of columns, but I limit myself to just 36 that provide just about everything you could want to know about a given pitch. \n",
    "\n",
    "For my unsupervised portion, I limit myself to just the dozen or so features that measure what a pitch is doing in the air. These are:  \n",
    "- release_speed: pitch velocity in MPH\n",
    "- pfx_x: horizontal movement in feet\n",
    "- pfx_z: vertical movement in feet\n",
    "- vx0: velocity of the pitch, in feet per second, in x-dimension, determined at y=50 feet\n",
    "- vy0: velocity of the pitch, in feet per second, in y-dimension, determined at y=50 feet\n",
    "- vz0: velocity of the pitch, in feet per second, in z-dimension, determined at y=50 feet\n",
    "- ax: acceleration of the pitch, in feet per second per second, in x-dimension, determined at y=50 feet\n",
    "- ay: acceleration of the pitch, in feet per second per second, in y-dimension, determined at y=50 feet\n",
    "- az: acceleration of the pitch, in feet per second per second, in z-dimension, determined at y=50 feet\n",
    "- release_spin_rate: in revolutions per minute\n",
    "- spin_axis: The Spin Axis in the 2D X-Z plane in degrees from 0 to 360, such that 180 represents a pure backspin fastball and 0 degrees represents a pure topspin (12-6) curveball.  \n",
    "\n",
    "Some of these could be redundant, such as release_speed and velocity at 50 feet, but movement occuring later in a pitch's flight as opposed to early makes [a big difference](https://www.youtube.com/shorts/cnYVYpMfqKA).  \n",
    "\n",
    "For my supervised portion, my analysis at first consisted of all the information in these above-mentioned variables, plus a dozen or so more. These are mostly locational, e.g. release position and pitch location relative to the plate. For predictive purposes I also engineer a feature capturing *previous pitch* information, as what a batter has seen the previous pitch can greatly affect their chances against the next one. I then use insights from section 1 to streamline this information into a lighter model."
   ]
  },
  {
   "cell_type": "code",
   "execution_count": 165,
   "metadata": {
    "id": "ysy6wjRDto1v"
   },
   "outputs": [],
   "source": [
    "import numpy as np\n",
    "import pandas as pd\n",
    "import matplotlib.pyplot as plt"
   ]
  },
  {
   "cell_type": "code",
   "execution_count": 166,
   "metadata": {
    "id": "tdaXGuJ3Rzct"
   },
   "outputs": [],
   "source": [
    "from sklearn.cluster import KMeans\n",
    "from sklearn.preprocessing import StandardScaler "
   ]
  },
  {
   "cell_type": "code",
   "execution_count": 167,
   "metadata": {
    "id": "3zq6CDty4XR3"
   },
   "outputs": [],
   "source": [
    "from sklearn.linear_model import LogisticRegression\n",
    "from sklearn.neighbors import KNeighborsClassifier\n",
    "from sklearn.ensemble import BaggingClassifier\n",
    "from sklearn.tree import DecisionTreeClassifier\n",
    "from sklearn.ensemble import RandomForestClassifier\n",
    "from sklearn.ensemble import GradientBoostingClassifier\n",
    "from sklearn import metrics\n",
    "from sklearn.model_selection import cross_validate\n",
    "from sklearn.model_selection import GridSearchCV\n",
    "from sklearn.metrics import f1_score\n",
    "from sklearn.metrics import accuracy_score\n",
    "from sklearn.metrics import classification_report\n",
    "from sklearn.metrics import roc_curve, roc_auc_score\n",
    "from sklearn.metrics import average_precision_score, precision_recall_curve\n",
    "from tqdm import tqdm"
   ]
  },
  {
   "cell_type": "code",
   "execution_count": 168,
   "metadata": {
    "id": "mcvTL4r5OlYX"
   },
   "outputs": [],
   "source": [
    "from sklearn.model_selection import train_test_split"
   ]
  },
  {
   "cell_type": "code",
   "execution_count": 169,
   "metadata": {
    "id": "OtGcYiRv-J4U"
   },
   "outputs": [],
   "source": [
    "import imblearn\n",
    "from imblearn.over_sampling import SMOTE\n",
    "oversample = SMOTE()"
   ]
  },
  {
   "cell_type": "code",
   "execution_count": 170,
   "metadata": {
    "id": "BGdD6BoHrozH"
   },
   "outputs": [],
   "source": [
    "mlb_raw = pd.read_csv('/content/drive/MyDrive/Data/savant_data (2).csv')"
   ]
  },
  {
   "cell_type": "code",
   "execution_count": 171,
   "metadata": {
    "id": "lJoWTkxFrwTd"
   },
   "outputs": [],
   "source": [
    "#(for part 2) sorting values chronologically -- by unique game ID, at_bat number, and pitch number -- for engineering new features with prior pitch info\n",
    "mlb_raw.sort_values(by=['game_pk', 'at_bat_number', 'pitch_number'], ascending=False, inplace=True)"
   ]
  },
  {
   "cell_type": "code",
   "execution_count": 172,
   "metadata": {
    "id": "G_3qzhcdwLJs"
   },
   "outputs": [],
   "source": [
    "#listing columns of interest\n",
    "cols_of_interest1 = ['pitch_type', 'game_date',\n",
    " 'release_speed',\n",
    " 'release_pos_x',\n",
    " 'release_pos_z',\n",
    " 'player_name',\n",
    " 'pitcher',\n",
    " 'events',\n",
    " 'zone',\n",
    " 'p_throws',\n",
    " 'type',\n",
    " 'balls',\n",
    " 'strikes',\n",
    " 'pfx_x',\n",
    " 'pfx_z',\n",
    " 'plate_x',\n",
    " 'plate_z',\n",
    " 'hc_x',\n",
    " 'hc_y',\n",
    " 'vx0',\n",
    " 'vy0',\n",
    " 'vz0',\n",
    " 'ax',\n",
    " 'ay',\n",
    " 'az',\n",
    " 'sz_top',\n",
    " 'sz_bot',\n",
    " 'effective_speed',\n",
    " 'release_spin_rate',\n",
    " 'release_extension',\n",
    " 'game_pk',\n",
    " 'release_pos_y',\n",
    " 'at_bat_number',\n",
    " 'pitch_number',\n",
    " 'pitch_name',\n",
    " 'spin_axis', \n",
    " 'description']"
   ]
  },
  {
   "cell_type": "markdown",
   "metadata": {
    "id": "LyNWF7WpHcoC"
   },
   "source": [
    "# **Section 1**"
   ]
  },
  {
   "cell_type": "markdown",
   "metadata": {
    "id": "7ytegxkCv9Ym"
   },
   "source": [
    "# Unsupervised Learning: Clustering Pitch Types"
   ]
  },
  {
   "cell_type": "code",
   "execution_count": 173,
   "metadata": {
    "id": "O5BbiNiMFDhH"
   },
   "outputs": [],
   "source": [
    "features = ['release_speed', 'pfx_x',\t'pfx_z', 'vx0',\t'vy0', 'vz0',\t'ax', 'ay', 'az', 'release_spin_rate', 'spin_axis']"
   ]
  },
  {
   "cell_type": "code",
   "execution_count": 174,
   "metadata": {
    "colab": {
     "base_uri": "https://localhost:8080/"
    },
    "id": "dcyHQrLQDWRm",
    "outputId": "dd1105ee-3ce1-4ef5-fcff-dd0dc44554bb"
   },
   "outputs": [
    {
     "name": "stderr",
     "output_type": "stream",
     "text": [
      "/usr/local/lib/python3.7/dist-packages/pandas/util/_decorators.py:311: SettingWithCopyWarning: \n",
      "A value is trying to be set on a copy of a slice from a DataFrame\n",
      "\n",
      "See the caveats in the documentation: https://pandas.pydata.org/pandas-docs/stable/user_guide/indexing.html#returning-a-view-versus-a-copy\n",
      "  return func(*args, **kwargs)\n"
     ]
    }
   ],
   "source": [
    "#filtering columns, splitting by handedness, dropping NA rows, and then finally filtering to features measuring pitch trajectory.\n",
    "pitches = mlb_raw.copy()[cols_of_interest1]\n",
    "righties = pitches[pitches['p_throws'] == 'R']\n",
    "lefties = pitches[pitches['p_throws'] == 'L']\n",
    "righties.dropna(inplace=True)\n",
    "lefties.dropna(inplace=True)\n",
    "righty_features = righties[features]\n",
    "lefty_features = lefties[features]\n",
    "\n",
    "#scaling\n",
    "scaler = StandardScaler()\n",
    "righty_features_scaled = scaler.fit_transform(righty_features)\n",
    "lefty_features_scaled = scaler.fit_transform(lefty_features)"
   ]
  },
  {
   "cell_type": "markdown",
   "metadata": {
    "id": "3g7I4xU6FJ8y"
   },
   "source": [
    "# K-Means Clustering"
   ]
  },
  {
   "cell_type": "code",
   "execution_count": 175,
   "metadata": {
    "id": "FEfuKz5-RfDo"
   },
   "outputs": [],
   "source": [
    "#using the function from the lecture to inform number-of-clusters decisions\n",
    "def km_mse(inputs,k):\n",
    "    mse=[]\n",
    "    for i in range(1,k):\n",
    "        errors=[]\n",
    "        kmeans = KMeans(n_clusters=i, n_init=50,random_state=0).fit(inputs)\n",
    "        for pt,lab in zip(inputs,kmeans.labels_):\n",
    "            errors.append(np.linalg.norm(pt-kmeans.cluster_centers_[lab])**2)\n",
    "        mse.append(np.mean(errors))\n",
    "    return mse"
   ]
  },
  {
   "cell_type": "markdown",
   "metadata": {
    "id": "UTP9J86mRdWg"
   },
   "source": [
    "Righties"
   ]
  },
  {
   "cell_type": "code",
   "execution_count": 176,
   "metadata": {
    "id": "u8h70uW1UmpF"
   },
   "outputs": [],
   "source": [
    "mse=km_mse(righty_features_scaled, 10)"
   ]
  },
  {
   "cell_type": "code",
   "execution_count": 177,
   "metadata": {
    "colab": {
     "base_uri": "https://localhost:8080/",
     "height": 374
    },
    "id": "UCODHu6ZV0Jn",
    "outputId": "30f13f0d-55b0-4ed0-cb0f-42ef1620ecdf"
   },
   "outputs": [
    {
     "data": {
      "image/png": "[encoded data removed]",
      "text/plain": [
       "<Figure size 576x432 with 1 Axes>"
      ]
     },
     "metadata": {
      "needs_background": "light"
     },
     "output_type": "display_data"
    }
   ],
   "source": [
    "plt.figure(figsize=(8,6))\n",
    "plt.plot(list(range(1,10)),mse)\n",
    "plt.show()"
   ]
  },
  {
   "cell_type": "markdown",
   "metadata": {
    "id": "BtCPXYZ9WDtu"
   },
   "source": [
    "Lefties"
   ]
  },
  {
   "cell_type": "code",
   "execution_count": 178,
   "metadata": {
    "id": "VGmZqMYaWosx"
   },
   "outputs": [],
   "source": [
    "mse2=km_mse(lefty_features_scaled, 10)"
   ]
  },
  {
   "cell_type": "code",
   "execution_count": 179,
   "metadata": {
    "colab": {
     "base_uri": "https://localhost:8080/",
     "height": 374
    },
    "id": "4ZdOW_R2XV-U",
    "outputId": "4f55e09d-359b-407c-bf25-af0bf617e14e"
   },
   "outputs": [
    {
     "data": {
      "image/png": "[encoded data removed]",
      "text/plain": [
       "<Figure size 576x432 with 1 Axes>"
      ]
     },
     "metadata": {
      "needs_background": "light"
     },
     "output_type": "display_data"
    }
   ],
   "source": [
    "plt.figure(figsize=(8,6))\n",
    "plt.plot(list(range(1,10)),mse2)\n",
    "plt.show()"
   ]
  },
  {
   "cell_type": "markdown",
   "metadata": {
    "id": "_gOurDPwVhuN"
   },
   "source": [
    "For both righties and lefties, we see defined elbows at 2 clusters and similarly defined but slightly less distinguishable ones at 3. "
   ]
  },
  {
   "cell_type": "markdown",
   "metadata": {
    "id": "d5KLYsG5g-RW"
   },
   "source": [
    "Now, I'll fit models based on handedness and use 3 clusters, which could be a sensible way to think about different pitches based on their characteristics. "
   ]
  },
  {
   "cell_type": "code",
   "execution_count": 180,
   "metadata": {
    "id": "XCPOB2ynXoRE"
   },
   "outputs": [],
   "source": [
    "#fitting the models based on handedness\n",
    "kmeans_righties = KMeans(n_clusters=3, random_state=0).fit(righty_features_scaled)\n",
    "kmeans_lefties = KMeans(n_clusters=3, random_state=0).fit(lefty_features_scaled)"
   ]
  },
  {
   "cell_type": "code",
   "execution_count": 181,
   "metadata": {
    "colab": {
     "base_uri": "https://localhost:8080/"
    },
    "id": "nyBEHTrwY9Sm",
    "outputId": "707ea7c1-ea09-4631-fad0-5c5678acf439"
   },
   "outputs": [
    {
     "name": "stderr",
     "output_type": "stream",
     "text": [
      "/usr/local/lib/python3.7/dist-packages/ipykernel_launcher.py:1: SettingWithCopyWarning: \n",
      "A value is trying to be set on a copy of a slice from a DataFrame.\n",
      "Try using .loc[row_indexer,col_indexer] = value instead\n",
      "\n",
      "See the caveats in the documentation: https://pandas.pydata.org/pandas-docs/stable/user_guide/indexing.html#returning-a-view-versus-a-copy\n",
      "  \"\"\"Entry point for launching an IPython kernel.\n"
     ]
    }
   ],
   "source": [
    "righty_features['Cluster'] = kmeans_righties.labels_"
   ]
  },
  {
   "cell_type": "code",
   "execution_count": 182,
   "metadata": {
    "colab": {
     "base_uri": "https://localhost:8080/"
    },
    "id": "H2QH3Shnajpt",
    "outputId": "a14e94e8-0ce8-43b0-a2c3-06b74d5e5a4c"
   },
   "outputs": [
    {
     "name": "stderr",
     "output_type": "stream",
     "text": [
      "/usr/local/lib/python3.7/dist-packages/ipykernel_launcher.py:1: SettingWithCopyWarning: \n",
      "A value is trying to be set on a copy of a slice from a DataFrame.\n",
      "Try using .loc[row_indexer,col_indexer] = value instead\n",
      "\n",
      "See the caveats in the documentation: https://pandas.pydata.org/pandas-docs/stable/user_guide/indexing.html#returning-a-view-versus-a-copy\n",
      "  \"\"\"Entry point for launching an IPython kernel.\n"
     ]
    }
   ],
   "source": [
    "lefty_features['Cluster'] = kmeans_lefties.labels_"
   ]
  },
  {
   "cell_type": "markdown",
   "metadata": {
    "id": "nZIb-H67a3qV"
   },
   "source": [
    "By looking how features differ by cluster, we can get a sense of what sorts of pitches are grouped together here. The most obvious place to look first is at release speed. Then we can look at how some of the more obscure movement statistics differ by cluster. "
   ]
  },
  {
   "cell_type": "code",
   "execution_count": 183,
   "metadata": {
    "colab": {
     "base_uri": "https://localhost:8080/"
    },
    "id": "rPD9C0T-bdZ4",
    "outputId": "4095ca56-e0b2-4cae-841a-127ce14c05eb"
   },
   "outputs": [
    {
     "name": "stdout",
     "output_type": "stream",
     "text": [
      "83.35543710021317\n",
      "93.88065075921922\n",
      "86.22591206735262\n"
     ]
    }
   ],
   "source": [
    "print(righty_features[righty_features['Cluster'] == 0]['release_speed'].mean())\n",
    "print(righty_features[righty_features['Cluster'] == 1]['release_speed'].mean())\n",
    "print(righty_features[righty_features['Cluster'] == 2]['release_speed'].mean())"
   ]
  },
  {
   "cell_type": "code",
   "execution_count": 184,
   "metadata": {
    "colab": {
     "base_uri": "https://localhost:8080/"
    },
    "id": "Ktz7dKpGb5oT",
    "outputId": "bdcbff5b-c3fc-442e-c640-b21a903ac2a9"
   },
   "outputs": [
    {
     "name": "stdout",
     "output_type": "stream",
     "text": [
      "92.54576446280977\n",
      "85.05763888888893\n",
      "82.08881431767335\n"
     ]
    }
   ],
   "source": [
    "print(lefty_features[lefty_features['Cluster'] == 0]['release_speed'].mean())\n",
    "print(lefty_features[lefty_features['Cluster'] == 1]['release_speed'].mean())\n",
    "print(lefty_features[lefty_features['Cluster'] == 2]['release_speed'].mean())"
   ]
  },
  {
   "cell_type": "markdown",
   "metadata": {
    "id": "awoqhlO_cDuH"
   },
   "source": [
    "It's not surprising there looks to be a cluster for what are fastballs ('1' for righties, '0' for lefties. Fastballs are characterized by being much faster and straighter than other pitches."
   ]
  },
  {
   "cell_type": "code",
   "execution_count": 185,
   "metadata": {
    "colab": {
     "base_uri": "https://localhost:8080/",
     "height": 300
    },
    "id": "PdwciVplchh4",
    "outputId": "e71404db-7679-494d-b9bb-aab4a3199938"
   },
   "outputs": [
    {
     "data": {
      "text/html": [
       "\n",
       "  <div id=\"df-096cc15b-a3d9-4d82-9610-e9544bcb17aa\">\n",
       "    <div class=\"colab-df-container\">\n",
       "      <div>\n",
       "<style scoped>\n",
       "    .dataframe tbody tr th:only-of-type {\n",
       "        vertical-align: middle;\n",
       "    }\n",
       "\n",
       "    .dataframe tbody tr th {\n",
       "        vertical-align: top;\n",
       "    }\n",
       "\n",
       "    .dataframe thead th {\n",
       "        text-align: right;\n",
       "    }\n",
       "</style>\n",
       "<table border=\"1\" class=\"dataframe\">\n",
       "  <thead>\n",
       "    <tr style=\"text-align: right;\">\n",
       "      <th></th>\n",
       "      <th>release_speed</th>\n",
       "      <th>pfx_x</th>\n",
       "      <th>pfx_z</th>\n",
       "      <th>vx0</th>\n",
       "      <th>vy0</th>\n",
       "      <th>vz0</th>\n",
       "      <th>ax</th>\n",
       "      <th>ay</th>\n",
       "      <th>az</th>\n",
       "      <th>release_spin_rate</th>\n",
       "      <th>spin_axis</th>\n",
       "      <th>Cluster</th>\n",
       "    </tr>\n",
       "  </thead>\n",
       "  <tbody>\n",
       "    <tr>\n",
       "      <th>count</th>\n",
       "      <td>2305.000000</td>\n",
       "      <td>2305.000000</td>\n",
       "      <td>2305.000000</td>\n",
       "      <td>2305.000000</td>\n",
       "      <td>2305.000000</td>\n",
       "      <td>2305.000000</td>\n",
       "      <td>2305.000000</td>\n",
       "      <td>2305.000000</td>\n",
       "      <td>2305.000000</td>\n",
       "      <td>2305.000000</td>\n",
       "      <td>2305.000000</td>\n",
       "      <td>2305.0</td>\n",
       "    </tr>\n",
       "    <tr>\n",
       "      <th>mean</th>\n",
       "      <td>93.880651</td>\n",
       "      <td>-0.746698</td>\n",
       "      <td>1.192629</td>\n",
       "      <td>6.113841</td>\n",
       "      <td>-136.501975</td>\n",
       "      <td>-5.663962</td>\n",
       "      <td>-10.737821</td>\n",
       "      <td>30.118898</td>\n",
       "      <td>-16.189106</td>\n",
       "      <td>2306.822560</td>\n",
       "      <td>210.993059</td>\n",
       "      <td>1.0</td>\n",
       "    </tr>\n",
       "    <tr>\n",
       "      <th>std</th>\n",
       "      <td>2.306057</td>\n",
       "      <td>0.478655</td>\n",
       "      <td>0.358041</td>\n",
       "      <td>2.234076</td>\n",
       "      <td>3.341522</td>\n",
       "      <td>1.881505</td>\n",
       "      <td>6.251695</td>\n",
       "      <td>2.738411</td>\n",
       "      <td>4.742691</td>\n",
       "      <td>196.429302</td>\n",
       "      <td>14.974340</td>\n",
       "      <td>0.0</td>\n",
       "    </tr>\n",
       "    <tr>\n",
       "      <th>min</th>\n",
       "      <td>86.200000</td>\n",
       "      <td>-1.930000</td>\n",
       "      <td>0.050000</td>\n",
       "      <td>-1.304490</td>\n",
       "      <td>-147.486189</td>\n",
       "      <td>-12.068774</td>\n",
       "      <td>-26.883057</td>\n",
       "      <td>22.371699</td>\n",
       "      <td>-30.945733</td>\n",
       "      <td>1301.000000</td>\n",
       "      <td>94.000000</td>\n",
       "      <td>1.0</td>\n",
       "    </tr>\n",
       "    <tr>\n",
       "      <th>25%</th>\n",
       "      <td>92.500000</td>\n",
       "      <td>-1.110000</td>\n",
       "      <td>0.950000</td>\n",
       "      <td>4.668295</td>\n",
       "      <td>-138.697684</td>\n",
       "      <td>-6.851628</td>\n",
       "      <td>-15.474843</td>\n",
       "      <td>28.251452</td>\n",
       "      <td>-19.519757</td>\n",
       "      <td>2170.000000</td>\n",
       "      <td>203.000000</td>\n",
       "      <td>1.0</td>\n",
       "    </tr>\n",
       "    <tr>\n",
       "      <th>50%</th>\n",
       "      <td>93.900000</td>\n",
       "      <td>-0.750000</td>\n",
       "      <td>1.250000</td>\n",
       "      <td>6.177074</td>\n",
       "      <td>-136.487731</td>\n",
       "      <td>-5.654003</td>\n",
       "      <td>-10.807949</td>\n",
       "      <td>30.073647</td>\n",
       "      <td>-15.532577</td>\n",
       "      <td>2303.000000</td>\n",
       "      <td>211.000000</td>\n",
       "      <td>1.0</td>\n",
       "    </tr>\n",
       "    <tr>\n",
       "      <th>75%</th>\n",
       "      <td>95.400000</td>\n",
       "      <td>-0.410000</td>\n",
       "      <td>1.470000</td>\n",
       "      <td>7.584422</td>\n",
       "      <td>-134.436888</td>\n",
       "      <td>-4.365839</td>\n",
       "      <td>-6.343924</td>\n",
       "      <td>31.946999</td>\n",
       "      <td>-12.556253</td>\n",
       "      <td>2429.000000</td>\n",
       "      <td>220.000000</td>\n",
       "      <td>1.0</td>\n",
       "    </tr>\n",
       "    <tr>\n",
       "      <th>max</th>\n",
       "      <td>101.300000</td>\n",
       "      <td>0.620000</td>\n",
       "      <td>1.990000</td>\n",
       "      <td>14.155221</td>\n",
       "      <td>-125.129496</td>\n",
       "      <td>1.201784</td>\n",
       "      <td>6.996810</td>\n",
       "      <td>40.161057</td>\n",
       "      <td>-5.590773</td>\n",
       "      <td>3139.000000</td>\n",
       "      <td>330.000000</td>\n",
       "      <td>1.0</td>\n",
       "    </tr>\n",
       "  </tbody>\n",
       "</table>\n",
       "</div>\n",
       "      <button class=\"colab-df-convert\" onclick=\"convertToInteractive('df-096cc15b-a3d9-4d82-9610-e9544bcb17aa')\"\n",
       "              title=\"Convert this dataframe to an interactive table.\"\n",
       "              style=\"display:none;\">\n",
       "        \n",
       "  <svg xmlns=\"http://www.w3.org/2000/svg\" height=\"24px\"viewBox=\"0 0 24 24\"\n",
       "       width=\"24px\">\n",
       "    <path d=\"M0 0h24v24H0V0z\" fill=\"none\"/>\n",
       "    <path d=\"M18.56 5.44l.94 2.06.94-2.06 2.06-.94-2.06-.94-.94-2.06-.94 2.06-2.06.94zm-11 1L8.5 8.5l.94-2.06 2.06-.94-2.06-.94L8.5 2.5l-.94 2.06-2.06.94zm10 10l.94 2.06.94-2.06 2.06-.94-2.06-.94-.94-2.06-.94 2.06-2.06.94z\"/><path d=\"M17.41 7.96l-1.37-1.37c-.4-.4-.92-.59-1.43-.59-.52 0-1.04.2-1.43.59L10.3 9.45l-7.72 7.72c-.78.78-.78 2.05 0 2.83L4 21.41c.39.39.9.59 1.41.59.51 0 1.02-.2 1.41-.59l7.78-7.78 2.81-2.81c.8-.78.8-2.07 0-2.86zM5.41 20L4 18.59l7.72-7.72 1.47 1.35L5.41 20z\"/>\n",
       "  </svg>\n",
       "      </button>\n",
       "      \n",
       "  <style>\n",
       "    .colab-df-container {\n",
       "      display:flex;\n",
       "      flex-wrap:wrap;\n",
       "      gap: 12px;\n",
       "    }\n",
       "\n",
       "    .colab-df-convert {\n",
       "      background-color: #E8F0FE;\n",
       "      border: none;\n",
       "      border-radius: 50%;\n",
       "      cursor: pointer;\n",
       "      display: none;\n",
       "      fill: #1967D2;\n",
       "      height: 32px;\n",
       "      padding: 0 0 0 0;\n",
       "      width: 32px;\n",
       "    }\n",
       "\n",
       "    .colab-df-convert:hover {\n",
       "      background-color: #E2EBFA;\n",
       "      box-shadow: 0px 1px 2px rgba(60, 64, 67, 0.3), 0px 1px 3px 1px rgba(60, 64, 67, 0.15);\n",
       "      fill: #174EA6;\n",
       "    }\n",
       "\n",
       "    [theme=dark] .colab-df-convert {\n",
       "      background-color: #3B4455;\n",
       "      fill: #D2E3FC;\n",
       "    }\n",
       "\n",
       "    [theme=dark] .colab-df-convert:hover {\n",
       "      background-color: #434B5C;\n",
       "      box-shadow: 0px 1px 3px 1px rgba(0, 0, 0, 0.15);\n",
       "      filter: drop-shadow(0px 1px 2px rgba(0, 0, 0, 0.3));\n",
       "      fill: #FFFFFF;\n",
       "    }\n",
       "  </style>\n",
       "\n",
       "      <script>\n",
       "        const buttonEl =\n",
       "          document.querySelector('#df-096cc15b-a3d9-4d82-9610-e9544bcb17aa button.colab-df-convert');\n",
       "        buttonEl.style.display =\n",
       "          google.colab.kernel.accessAllowed ? 'block' : 'none';\n",
       "\n",
       "        async function convertToInteractive(key) {\n",
       "          const element = document.querySelector('#df-096cc15b-a3d9-4d82-9610-e9544bcb17aa');\n",
       "          const dataTable =\n",
       "            await google.colab.kernel.invokeFunction('convertToInteractive',\n",
       "                                                     [key], {});\n",
       "          if (!dataTable) return;\n",
       "\n",
       "          const docLinkHtml = 'Like what you see? Visit the ' +\n",
       "            '<a target=\"_blank\" href=https://colab.research.google.com/notebooks/data_table.ipynb>data table notebook</a>'\n",
       "            + ' to learn more about interactive tables.';\n",
       "          element.innerHTML = '';\n",
       "          dataTable['output_type'] = 'display_data';\n",
       "          await google.colab.output.renderOutput(dataTable, element);\n",
       "          const docLink = document.createElement('div');\n",
       "          docLink.innerHTML = docLinkHtml;\n",
       "          element.appendChild(docLink);\n",
       "        }\n",
       "      </script>\n",
       "    </div>\n",
       "  </div>\n",
       "  "
      ],
      "text/plain": [
       "       release_speed        pfx_x        pfx_z          vx0          vy0  \\\n",
       "count    2305.000000  2305.000000  2305.000000  2305.000000  2305.000000   \n",
       "mean       93.880651    -0.746698     1.192629     6.113841  -136.501975   \n",
       "std         2.306057     0.478655     0.358041     2.234076     3.341522   \n",
       "min        86.200000    -1.930000     0.050000    -1.304490  -147.486189   \n",
       "25%        92.500000    -1.110000     0.950000     4.668295  -138.697684   \n",
       "50%        93.900000    -0.750000     1.250000     6.177074  -136.487731   \n",
       "75%        95.400000    -0.410000     1.470000     7.584422  -134.436888   \n",
       "max       101.300000     0.620000     1.990000    14.155221  -125.129496   \n",
       "\n",
       "               vz0           ax           ay           az  release_spin_rate  \\\n",
       "count  2305.000000  2305.000000  2305.000000  2305.000000        2305.000000   \n",
       "mean     -5.663962   -10.737821    30.118898   -16.189106        2306.822560   \n",
       "std       1.881505     6.251695     2.738411     4.742691         196.429302   \n",
       "min     -12.068774   -26.883057    22.371699   -30.945733        1301.000000   \n",
       "25%      -6.851628   -15.474843    28.251452   -19.519757        2170.000000   \n",
       "50%      -5.654003   -10.807949    30.073647   -15.532577        2303.000000   \n",
       "75%      -4.365839    -6.343924    31.946999   -12.556253        2429.000000   \n",
       "max       1.201784     6.996810    40.161057    -5.590773        3139.000000   \n",
       "\n",
       "         spin_axis  Cluster  \n",
       "count  2305.000000   2305.0  \n",
       "mean    210.993059      1.0  \n",
       "std      14.974340      0.0  \n",
       "min      94.000000      1.0  \n",
       "25%     203.000000      1.0  \n",
       "50%     211.000000      1.0  \n",
       "75%     220.000000      1.0  \n",
       "max     330.000000      1.0  "
      ]
     },
     "execution_count": 185,
     "metadata": {},
     "output_type": "execute_result"
    }
   ],
   "source": [
    "#looking like fastballs to me\n",
    "righty_features[righty_features['Cluster'] == 1].describe()"
   ]
  },
  {
   "cell_type": "code",
   "execution_count": 186,
   "metadata": {
    "colab": {
     "base_uri": "https://localhost:8080/",
     "height": 300
    },
    "id": "RAtSZDolcwOH",
    "outputId": "ffb9f194-7108-4784-dcd3-a74b934678f8"
   },
   "outputs": [
    {
     "data": {
      "text/html": [
       "\n",
       "  <div id=\"df-6e0bcecd-aff8-4eea-ae5d-1bb57ccee2cd\">\n",
       "    <div class=\"colab-df-container\">\n",
       "      <div>\n",
       "<style scoped>\n",
       "    .dataframe tbody tr th:only-of-type {\n",
       "        vertical-align: middle;\n",
       "    }\n",
       "\n",
       "    .dataframe tbody tr th {\n",
       "        vertical-align: top;\n",
       "    }\n",
       "\n",
       "    .dataframe thead th {\n",
       "        text-align: right;\n",
       "    }\n",
       "</style>\n",
       "<table border=\"1\" class=\"dataframe\">\n",
       "  <thead>\n",
       "    <tr style=\"text-align: right;\">\n",
       "      <th></th>\n",
       "      <th>release_speed</th>\n",
       "      <th>pfx_x</th>\n",
       "      <th>pfx_z</th>\n",
       "      <th>vx0</th>\n",
       "      <th>vy0</th>\n",
       "      <th>vz0</th>\n",
       "      <th>ax</th>\n",
       "      <th>ay</th>\n",
       "      <th>az</th>\n",
       "      <th>release_spin_rate</th>\n",
       "      <th>spin_axis</th>\n",
       "      <th>Cluster</th>\n",
       "    </tr>\n",
       "  </thead>\n",
       "  <tbody>\n",
       "    <tr>\n",
       "      <th>count</th>\n",
       "      <td>968.000000</td>\n",
       "      <td>968.000000</td>\n",
       "      <td>968.000000</td>\n",
       "      <td>968.000000</td>\n",
       "      <td>968.000000</td>\n",
       "      <td>968.000000</td>\n",
       "      <td>968.000000</td>\n",
       "      <td>968.000000</td>\n",
       "      <td>968.000000</td>\n",
       "      <td>968.000000</td>\n",
       "      <td>968.000000</td>\n",
       "      <td>968.0</td>\n",
       "    </tr>\n",
       "    <tr>\n",
       "      <th>mean</th>\n",
       "      <td>92.545764</td>\n",
       "      <td>0.684029</td>\n",
       "      <td>1.286105</td>\n",
       "      <td>-6.180042</td>\n",
       "      <td>-134.534721</td>\n",
       "      <td>-5.894424</td>\n",
       "      <td>9.715905</td>\n",
       "      <td>29.377427</td>\n",
       "      <td>-15.437885</td>\n",
       "      <td>2258.913223</td>\n",
       "      <td>148.052686</td>\n",
       "      <td>0.0</td>\n",
       "    </tr>\n",
       "    <tr>\n",
       "      <th>std</th>\n",
       "      <td>2.621304</td>\n",
       "      <td>0.456635</td>\n",
       "      <td>0.299210</td>\n",
       "      <td>2.433750</td>\n",
       "      <td>3.790196</td>\n",
       "      <td>1.885385</td>\n",
       "      <td>5.813461</td>\n",
       "      <td>2.787131</td>\n",
       "      <td>3.991392</td>\n",
       "      <td>196.230861</td>\n",
       "      <td>14.492387</td>\n",
       "      <td>0.0</td>\n",
       "    </tr>\n",
       "    <tr>\n",
       "      <th>min</th>\n",
       "      <td>83.400000</td>\n",
       "      <td>-0.610000</td>\n",
       "      <td>0.060000</td>\n",
       "      <td>-14.220082</td>\n",
       "      <td>-147.492485</td>\n",
       "      <td>-11.414792</td>\n",
       "      <td>-5.416831</td>\n",
       "      <td>20.276131</td>\n",
       "      <td>-30.558772</td>\n",
       "      <td>1523.000000</td>\n",
       "      <td>75.000000</td>\n",
       "      <td>0.0</td>\n",
       "    </tr>\n",
       "    <tr>\n",
       "      <th>25%</th>\n",
       "      <td>91.000000</td>\n",
       "      <td>0.367500</td>\n",
       "      <td>1.100000</td>\n",
       "      <td>-7.849864</td>\n",
       "      <td>-136.915770</td>\n",
       "      <td>-7.190943</td>\n",
       "      <td>5.636997</td>\n",
       "      <td>27.408246</td>\n",
       "      <td>-18.040951</td>\n",
       "      <td>2120.750000</td>\n",
       "      <td>139.750000</td>\n",
       "      <td>0.0</td>\n",
       "    </tr>\n",
       "    <tr>\n",
       "      <th>50%</th>\n",
       "      <td>92.600000</td>\n",
       "      <td>0.690000</td>\n",
       "      <td>1.320000</td>\n",
       "      <td>-6.144896</td>\n",
       "      <td>-134.592958</td>\n",
       "      <td>-5.825346</td>\n",
       "      <td>9.864673</td>\n",
       "      <td>29.307875</td>\n",
       "      <td>-15.034411</td>\n",
       "      <td>2265.500000</td>\n",
       "      <td>147.000000</td>\n",
       "      <td>0.0</td>\n",
       "    </tr>\n",
       "    <tr>\n",
       "      <th>75%</th>\n",
       "      <td>94.200000</td>\n",
       "      <td>1.020000</td>\n",
       "      <td>1.500000</td>\n",
       "      <td>-4.425229</td>\n",
       "      <td>-132.270820</td>\n",
       "      <td>-4.598480</td>\n",
       "      <td>13.818703</td>\n",
       "      <td>31.202296</td>\n",
       "      <td>-12.678463</td>\n",
       "      <td>2396.250000</td>\n",
       "      <td>156.000000</td>\n",
       "      <td>0.0</td>\n",
       "    </tr>\n",
       "    <tr>\n",
       "      <th>max</th>\n",
       "      <td>101.600000</td>\n",
       "      <td>1.790000</td>\n",
       "      <td>1.930000</td>\n",
       "      <td>0.502764</td>\n",
       "      <td>-121.272049</td>\n",
       "      <td>-0.559669</td>\n",
       "      <td>23.593620</td>\n",
       "      <td>39.847159</td>\n",
       "      <td>-3.315677</td>\n",
       "      <td>2876.000000</td>\n",
       "      <td>252.000000</td>\n",
       "      <td>0.0</td>\n",
       "    </tr>\n",
       "  </tbody>\n",
       "</table>\n",
       "</div>\n",
       "      <button class=\"colab-df-convert\" onclick=\"convertToInteractive('df-6e0bcecd-aff8-4eea-ae5d-1bb57ccee2cd')\"\n",
       "              title=\"Convert this dataframe to an interactive table.\"\n",
       "              style=\"display:none;\">\n",
       "        \n",
       "  <svg xmlns=\"http://www.w3.org/2000/svg\" height=\"24px\"viewBox=\"0 0 24 24\"\n",
       "       width=\"24px\">\n",
       "    <path d=\"M0 0h24v24H0V0z\" fill=\"none\"/>\n",
       "    <path d=\"M18.56 5.44l.94 2.06.94-2.06 2.06-.94-2.06-.94-.94-2.06-.94 2.06-2.06.94zm-11 1L8.5 8.5l.94-2.06 2.06-.94-2.06-.94L8.5 2.5l-.94 2.06-2.06.94zm10 10l.94 2.06.94-2.06 2.06-.94-2.06-.94-.94-2.06-.94 2.06-2.06.94z\"/><path d=\"M17.41 7.96l-1.37-1.37c-.4-.4-.92-.59-1.43-.59-.52 0-1.04.2-1.43.59L10.3 9.45l-7.72 7.72c-.78.78-.78 2.05 0 2.83L4 21.41c.39.39.9.59 1.41.59.51 0 1.02-.2 1.41-.59l7.78-7.78 2.81-2.81c.8-.78.8-2.07 0-2.86zM5.41 20L4 18.59l7.72-7.72 1.47 1.35L5.41 20z\"/>\n",
       "  </svg>\n",
       "      </button>\n",
       "      \n",
       "  <style>\n",
       "    .colab-df-container {\n",
       "      display:flex;\n",
       "      flex-wrap:wrap;\n",
       "      gap: 12px;\n",
       "    }\n",
       "\n",
       "    .colab-df-convert {\n",
       "      background-color: #E8F0FE;\n",
       "      border: none;\n",
       "      border-radius: 50%;\n",
       "      cursor: pointer;\n",
       "      display: none;\n",
       "      fill: #1967D2;\n",
       "      height: 32px;\n",
       "      padding: 0 0 0 0;\n",
       "      width: 32px;\n",
       "    }\n",
       "\n",
       "    .colab-df-convert:hover {\n",
       "      background-color: #E2EBFA;\n",
       "      box-shadow: 0px 1px 2px rgba(60, 64, 67, 0.3), 0px 1px 3px 1px rgba(60, 64, 67, 0.15);\n",
       "      fill: #174EA6;\n",
       "    }\n",
       "\n",
       "    [theme=dark] .colab-df-convert {\n",
       "      background-color: #3B4455;\n",
       "      fill: #D2E3FC;\n",
       "    }\n",
       "\n",
       "    [theme=dark] .colab-df-convert:hover {\n",
       "      background-color: #434B5C;\n",
       "      box-shadow: 0px 1px 3px 1px rgba(0, 0, 0, 0.15);\n",
       "      filter: drop-shadow(0px 1px 2px rgba(0, 0, 0, 0.3));\n",
       "      fill: #FFFFFF;\n",
       "    }\n",
       "  </style>\n",
       "\n",
       "      <script>\n",
       "        const buttonEl =\n",
       "          document.querySelector('#df-6e0bcecd-aff8-4eea-ae5d-1bb57ccee2cd button.colab-df-convert');\n",
       "        buttonEl.style.display =\n",
       "          google.colab.kernel.accessAllowed ? 'block' : 'none';\n",
       "\n",
       "        async function convertToInteractive(key) {\n",
       "          const element = document.querySelector('#df-6e0bcecd-aff8-4eea-ae5d-1bb57ccee2cd');\n",
       "          const dataTable =\n",
       "            await google.colab.kernel.invokeFunction('convertToInteractive',\n",
       "                                                     [key], {});\n",
       "          if (!dataTable) return;\n",
       "\n",
       "          const docLinkHtml = 'Like what you see? Visit the ' +\n",
       "            '<a target=\"_blank\" href=https://colab.research.google.com/notebooks/data_table.ipynb>data table notebook</a>'\n",
       "            + ' to learn more about interactive tables.';\n",
       "          element.innerHTML = '';\n",
       "          dataTable['output_type'] = 'display_data';\n",
       "          await google.colab.output.renderOutput(dataTable, element);\n",
       "          const docLink = document.createElement('div');\n",
       "          docLink.innerHTML = docLinkHtml;\n",
       "          element.appendChild(docLink);\n",
       "        }\n",
       "      </script>\n",
       "    </div>\n",
       "  </div>\n",
       "  "
      ],
      "text/plain": [
       "       release_speed       pfx_x       pfx_z         vx0         vy0  \\\n",
       "count     968.000000  968.000000  968.000000  968.000000  968.000000   \n",
       "mean       92.545764    0.684029    1.286105   -6.180042 -134.534721   \n",
       "std         2.621304    0.456635    0.299210    2.433750    3.790196   \n",
       "min        83.400000   -0.610000    0.060000  -14.220082 -147.492485   \n",
       "25%        91.000000    0.367500    1.100000   -7.849864 -136.915770   \n",
       "50%        92.600000    0.690000    1.320000   -6.144896 -134.592958   \n",
       "75%        94.200000    1.020000    1.500000   -4.425229 -132.270820   \n",
       "max       101.600000    1.790000    1.930000    0.502764 -121.272049   \n",
       "\n",
       "              vz0          ax          ay          az  release_spin_rate  \\\n",
       "count  968.000000  968.000000  968.000000  968.000000         968.000000   \n",
       "mean    -5.894424    9.715905   29.377427  -15.437885        2258.913223   \n",
       "std      1.885385    5.813461    2.787131    3.991392         196.230861   \n",
       "min    -11.414792   -5.416831   20.276131  -30.558772        1523.000000   \n",
       "25%     -7.190943    5.636997   27.408246  -18.040951        2120.750000   \n",
       "50%     -5.825346    9.864673   29.307875  -15.034411        2265.500000   \n",
       "75%     -4.598480   13.818703   31.202296  -12.678463        2396.250000   \n",
       "max     -0.559669   23.593620   39.847159   -3.315677        2876.000000   \n",
       "\n",
       "        spin_axis  Cluster  \n",
       "count  968.000000    968.0  \n",
       "mean   148.052686      0.0  \n",
       "std     14.492387      0.0  \n",
       "min     75.000000      0.0  \n",
       "25%    139.750000      0.0  \n",
       "50%    147.000000      0.0  \n",
       "75%    156.000000      0.0  \n",
       "max    252.000000      0.0  "
      ]
     },
     "execution_count": 186,
     "metadata": {},
     "output_type": "execute_result"
    }
   ],
   "source": [
    "#lefty fastballs\n",
    "lefty_features[lefty_features['Cluster'] == 0].describe()"
   ]
  },
  {
   "cell_type": "code",
   "execution_count": 187,
   "metadata": {
    "colab": {
     "base_uri": "https://localhost:8080/",
     "height": 300
    },
    "id": "FqctDHg7HW8x",
    "outputId": "d53034f8-849e-4b1e-deff-13423e5935cd"
   },
   "outputs": [
    {
     "data": {
      "text/html": [
       "\n",
       "  <div id=\"df-eb054c37-8617-4263-80b5-c9bd560cfc6c\">\n",
       "    <div class=\"colab-df-container\">\n",
       "      <div>\n",
       "<style scoped>\n",
       "    .dataframe tbody tr th:only-of-type {\n",
       "        vertical-align: middle;\n",
       "    }\n",
       "\n",
       "    .dataframe tbody tr th {\n",
       "        vertical-align: top;\n",
       "    }\n",
       "\n",
       "    .dataframe thead th {\n",
       "        text-align: right;\n",
       "    }\n",
       "</style>\n",
       "<table border=\"1\" class=\"dataframe\">\n",
       "  <thead>\n",
       "    <tr style=\"text-align: right;\">\n",
       "      <th></th>\n",
       "      <th>release_speed</th>\n",
       "      <th>pfx_x</th>\n",
       "      <th>pfx_z</th>\n",
       "      <th>release_spin_rate</th>\n",
       "    </tr>\n",
       "  </thead>\n",
       "  <tbody>\n",
       "    <tr>\n",
       "      <th>count</th>\n",
       "      <td>2305.000000</td>\n",
       "      <td>2305.000000</td>\n",
       "      <td>2305.000000</td>\n",
       "      <td>2305.000000</td>\n",
       "    </tr>\n",
       "    <tr>\n",
       "      <th>mean</th>\n",
       "      <td>93.880651</td>\n",
       "      <td>-0.746698</td>\n",
       "      <td>1.192629</td>\n",
       "      <td>2306.822560</td>\n",
       "    </tr>\n",
       "    <tr>\n",
       "      <th>std</th>\n",
       "      <td>2.306057</td>\n",
       "      <td>0.478655</td>\n",
       "      <td>0.358041</td>\n",
       "      <td>196.429302</td>\n",
       "    </tr>\n",
       "    <tr>\n",
       "      <th>min</th>\n",
       "      <td>86.200000</td>\n",
       "      <td>-1.930000</td>\n",
       "      <td>0.050000</td>\n",
       "      <td>1301.000000</td>\n",
       "    </tr>\n",
       "    <tr>\n",
       "      <th>25%</th>\n",
       "      <td>92.500000</td>\n",
       "      <td>-1.110000</td>\n",
       "      <td>0.950000</td>\n",
       "      <td>2170.000000</td>\n",
       "    </tr>\n",
       "    <tr>\n",
       "      <th>50%</th>\n",
       "      <td>93.900000</td>\n",
       "      <td>-0.750000</td>\n",
       "      <td>1.250000</td>\n",
       "      <td>2303.000000</td>\n",
       "    </tr>\n",
       "    <tr>\n",
       "      <th>75%</th>\n",
       "      <td>95.400000</td>\n",
       "      <td>-0.410000</td>\n",
       "      <td>1.470000</td>\n",
       "      <td>2429.000000</td>\n",
       "    </tr>\n",
       "    <tr>\n",
       "      <th>max</th>\n",
       "      <td>101.300000</td>\n",
       "      <td>0.620000</td>\n",
       "      <td>1.990000</td>\n",
       "      <td>3139.000000</td>\n",
       "    </tr>\n",
       "  </tbody>\n",
       "</table>\n",
       "</div>\n",
       "      <button class=\"colab-df-convert\" onclick=\"convertToInteractive('df-eb054c37-8617-4263-80b5-c9bd560cfc6c')\"\n",
       "              title=\"Convert this dataframe to an interactive table.\"\n",
       "              style=\"display:none;\">\n",
       "        \n",
       "  <svg xmlns=\"http://www.w3.org/2000/svg\" height=\"24px\"viewBox=\"0 0 24 24\"\n",
       "       width=\"24px\">\n",
       "    <path d=\"M0 0h24v24H0V0z\" fill=\"none\"/>\n",
       "    <path d=\"M18.56 5.44l.94 2.06.94-2.06 2.06-.94-2.06-.94-.94-2.06-.94 2.06-2.06.94zm-11 1L8.5 8.5l.94-2.06 2.06-.94-2.06-.94L8.5 2.5l-.94 2.06-2.06.94zm10 10l.94 2.06.94-2.06 2.06-.94-2.06-.94-.94-2.06-.94 2.06-2.06.94z\"/><path d=\"M17.41 7.96l-1.37-1.37c-.4-.4-.92-.59-1.43-.59-.52 0-1.04.2-1.43.59L10.3 9.45l-7.72 7.72c-.78.78-.78 2.05 0 2.83L4 21.41c.39.39.9.59 1.41.59.51 0 1.02-.2 1.41-.59l7.78-7.78 2.81-2.81c.8-.78.8-2.07 0-2.86zM5.41 20L4 18.59l7.72-7.72 1.47 1.35L5.41 20z\"/>\n",
       "  </svg>\n",
       "      </button>\n",
       "      \n",
       "  <style>\n",
       "    .colab-df-container {\n",
       "      display:flex;\n",
       "      flex-wrap:wrap;\n",
       "      gap: 12px;\n",
       "    }\n",
       "\n",
       "    .colab-df-convert {\n",
       "      background-color: #E8F0FE;\n",
       "      border: none;\n",
       "      border-radius: 50%;\n",
       "      cursor: pointer;\n",
       "      display: none;\n",
       "      fill: #1967D2;\n",
       "      height: 32px;\n",
       "      padding: 0 0 0 0;\n",
       "      width: 32px;\n",
       "    }\n",
       "\n",
       "    .colab-df-convert:hover {\n",
       "      background-color: #E2EBFA;\n",
       "      box-shadow: 0px 1px 2px rgba(60, 64, 67, 0.3), 0px 1px 3px 1px rgba(60, 64, 67, 0.15);\n",
       "      fill: #174EA6;\n",
       "    }\n",
       "\n",
       "    [theme=dark] .colab-df-convert {\n",
       "      background-color: #3B4455;\n",
       "      fill: #D2E3FC;\n",
       "    }\n",
       "\n",
       "    [theme=dark] .colab-df-convert:hover {\n",
       "      background-color: #434B5C;\n",
       "      box-shadow: 0px 1px 3px 1px rgba(0, 0, 0, 0.15);\n",
       "      filter: drop-shadow(0px 1px 2px rgba(0, 0, 0, 0.3));\n",
       "      fill: #FFFFFF;\n",
       "    }\n",
       "  </style>\n",
       "\n",
       "      <script>\n",
       "        const buttonEl =\n",
       "          document.querySelector('#df-eb054c37-8617-4263-80b5-c9bd560cfc6c button.colab-df-convert');\n",
       "        buttonEl.style.display =\n",
       "          google.colab.kernel.accessAllowed ? 'block' : 'none';\n",
       "\n",
       "        async function convertToInteractive(key) {\n",
       "          const element = document.querySelector('#df-eb054c37-8617-4263-80b5-c9bd560cfc6c');\n",
       "          const dataTable =\n",
       "            await google.colab.kernel.invokeFunction('convertToInteractive',\n",
       "                                                     [key], {});\n",
       "          if (!dataTable) return;\n",
       "\n",
       "          const docLinkHtml = 'Like what you see? Visit the ' +\n",
       "            '<a target=\"_blank\" href=https://colab.research.google.com/notebooks/data_table.ipynb>data table notebook</a>'\n",
       "            + ' to learn more about interactive tables.';\n",
       "          element.innerHTML = '';\n",
       "          dataTable['output_type'] = 'display_data';\n",
       "          await google.colab.output.renderOutput(dataTable, element);\n",
       "          const docLink = document.createElement('div');\n",
       "          docLink.innerHTML = docLinkHtml;\n",
       "          element.appendChild(docLink);\n",
       "        }\n",
       "      </script>\n",
       "    </div>\n",
       "  </div>\n",
       "  "
      ],
      "text/plain": [
       "       release_speed        pfx_x        pfx_z  release_spin_rate\n",
       "count    2305.000000  2305.000000  2305.000000        2305.000000\n",
       "mean       93.880651    -0.746698     1.192629        2306.822560\n",
       "std         2.306057     0.478655     0.358041         196.429302\n",
       "min        86.200000    -1.930000     0.050000        1301.000000\n",
       "25%        92.500000    -1.110000     0.950000        2170.000000\n",
       "50%        93.900000    -0.750000     1.250000        2303.000000\n",
       "75%        95.400000    -0.410000     1.470000        2429.000000\n",
       "max       101.300000     0.620000     1.990000        3139.000000"
      ]
     },
     "execution_count": 187,
     "metadata": {},
     "output_type": "execute_result"
    }
   ],
   "source": [
    "righty_features[righty_features['Cluster'] == 1][['release_speed', 'pfx_x', 'pfx_z', 'release_spin_rate']].describe()"
   ]
  },
  {
   "cell_type": "markdown",
   "metadata": {
    "id": "e3Y9SDgyc2GI"
   },
   "source": [
    "Now's a good time to consider some other features and how they tend to differ by conventional pitch categorizations. Definitions are given by Baseball Savant and typical ranges are gleaned from stats during the last week of April 2022. Spoiler alert: Along with release speed, spin rates are where the biggest differences across clusters are, so the below info on movement is less important to digest. \n",
    "- pfx_x: horizontal movement in feet, where positive values indicate leftward movement from the behind-the-pitcher/TV camera perspective and negative values the opposite direction. \n",
    "  - Righty fastballs (e.g. four-seams, two-seams, sinkers, cutters) seem to range from between around -1.5 to 0.5 ft., lefties' from -0.5 to 1.5.\n",
    "  - Righty breaking balls (e.g. sliders and curveballs) seem to range between 0 and 2 feet, lefties from -2 and 0 feet.\n",
    "  - Righty off-speed pitches (e.g. changeups and splitters) seem to range from between -2 to 0 feet, lefties from 0 to 2 feet.\n",
    "- pfx_z: vertical movement in feet\n",
    "  - Righty and lefty fastballs both seem to \"rise\" between 0 and 2 ft.\n",
    "  - Lefty breaking balls seem to drop between 0 and 2 ft, whereas righty ones, interesingly enough, seem to range from dropping 1.5 feet to *rising* about 1.25 feet. (I think this difference comes from the fact lots of righties' advantages are to have some weird pitching styles, like the [Giants' own Tyler Rogers](https://baseballsavant.mlb.com/sporty-videos?playId=549dcbe5-ec78-4d8f-964a-c14198912f1c).)\n",
    "  - Righty and lefty off-speed pitches seem to range from dropping 0.5 feet to rising 1.5.\n",
    "- release_spin_rate: in RPMs\n",
    "  - Righty and lefty fastballs both seem to range from 1800 to 2700 RPMs\n",
    "  - Righty and lefty breaking balls seem to range from between 1800 to 3200 RPM\n",
    "  - Righty and lefty off-speed pitches seem to range from between 1000 and 2,500 RPMs\n",
    "\n",
    "All this noted and focusing on spin rates below, I think we can see that the k-means clustering algorithm has made clusters that at least roughly correspond to overarching pitch types of fastballs, breaking balls, and off-speed pitches. For righties, it looks like off-speed pitches tend to be labeled into cluster 1 and breaking pitches cluster 0. Likewise, for lefties, it looks like off-speed pitches are categorized as cluster 2, breaking pitches cluster 1.\n",
    "\n"
   ]
  },
  {
   "cell_type": "code",
   "execution_count": 188,
   "metadata": {
    "colab": {
     "base_uri": "https://localhost:8080/",
     "height": 300
    },
    "id": "8QIoC66sdmvG",
    "outputId": "f32e2d6e-c132-41da-91f3-3824a0402520"
   },
   "outputs": [
    {
     "data": {
      "text/html": [
       "\n",
       "  <div id=\"df-12471d96-66ff-4cee-928d-adf0b688ebe5\">\n",
       "    <div class=\"colab-df-container\">\n",
       "      <div>\n",
       "<style scoped>\n",
       "    .dataframe tbody tr th:only-of-type {\n",
       "        vertical-align: middle;\n",
       "    }\n",
       "\n",
       "    .dataframe tbody tr th {\n",
       "        vertical-align: top;\n",
       "    }\n",
       "\n",
       "    .dataframe thead th {\n",
       "        text-align: right;\n",
       "    }\n",
       "</style>\n",
       "<table border=\"1\" class=\"dataframe\">\n",
       "  <thead>\n",
       "    <tr style=\"text-align: right;\">\n",
       "      <th></th>\n",
       "      <th>release_speed</th>\n",
       "      <th>pfx_x</th>\n",
       "      <th>pfx_z</th>\n",
       "      <th>vx0</th>\n",
       "      <th>vy0</th>\n",
       "      <th>vz0</th>\n",
       "      <th>ax</th>\n",
       "      <th>ay</th>\n",
       "      <th>az</th>\n",
       "      <th>release_spin_rate</th>\n",
       "      <th>spin_axis</th>\n",
       "      <th>Cluster</th>\n",
       "    </tr>\n",
       "  </thead>\n",
       "  <tbody>\n",
       "    <tr>\n",
       "      <th>count</th>\n",
       "      <td>1069.000000</td>\n",
       "      <td>1069.000000</td>\n",
       "      <td>1069.000000</td>\n",
       "      <td>1069.000000</td>\n",
       "      <td>1069.000000</td>\n",
       "      <td>1069.000000</td>\n",
       "      <td>1069.000000</td>\n",
       "      <td>1069.000000</td>\n",
       "      <td>1069.000000</td>\n",
       "      <td>1069.000000</td>\n",
       "      <td>1069.000000</td>\n",
       "      <td>1069.0</td>\n",
       "    </tr>\n",
       "    <tr>\n",
       "      <th>mean</th>\n",
       "      <td>86.225912</td>\n",
       "      <td>-1.037212</td>\n",
       "      <td>0.533742</td>\n",
       "      <td>6.310307</td>\n",
       "      <td>-125.405509</td>\n",
       "      <td>-3.189550</td>\n",
       "      <td>-12.250444</td>\n",
       "      <td>24.814995</td>\n",
       "      <td>-26.124896</td>\n",
       "      <td>1867.962582</td>\n",
       "      <td>234.160898</td>\n",
       "      <td>2.0</td>\n",
       "    </tr>\n",
       "    <tr>\n",
       "      <th>std</th>\n",
       "      <td>3.815844</td>\n",
       "      <td>0.490689</td>\n",
       "      <td>0.432629</td>\n",
       "      <td>2.114117</td>\n",
       "      <td>5.548511</td>\n",
       "      <td>2.484904</td>\n",
       "      <td>5.550580</td>\n",
       "      <td>2.908207</td>\n",
       "      <td>4.745820</td>\n",
       "      <td>323.603442</td>\n",
       "      <td>26.341006</td>\n",
       "      <td>0.0</td>\n",
       "    </tr>\n",
       "    <tr>\n",
       "      <th>min</th>\n",
       "      <td>55.800000</td>\n",
       "      <td>-2.080000</td>\n",
       "      <td>-1.330000</td>\n",
       "      <td>0.217235</td>\n",
       "      <td>-140.526550</td>\n",
       "      <td>-8.591611</td>\n",
       "      <td>-23.820903</td>\n",
       "      <td>11.350073</td>\n",
       "      <td>-48.041875</td>\n",
       "      <td>645.000000</td>\n",
       "      <td>65.000000</td>\n",
       "      <td>2.0</td>\n",
       "    </tr>\n",
       "    <tr>\n",
       "      <th>25%</th>\n",
       "      <td>84.500000</td>\n",
       "      <td>-1.370000</td>\n",
       "      <td>0.270000</td>\n",
       "      <td>4.854209</td>\n",
       "      <td>-128.614522</td>\n",
       "      <td>-4.686162</td>\n",
       "      <td>-16.197106</td>\n",
       "      <td>22.992074</td>\n",
       "      <td>-28.950350</td>\n",
       "      <td>1653.000000</td>\n",
       "      <td>221.000000</td>\n",
       "      <td>2.0</td>\n",
       "    </tr>\n",
       "    <tr>\n",
       "      <th>50%</th>\n",
       "      <td>86.400000</td>\n",
       "      <td>-1.170000</td>\n",
       "      <td>0.550000</td>\n",
       "      <td>6.274705</td>\n",
       "      <td>-125.673839</td>\n",
       "      <td>-3.511460</td>\n",
       "      <td>-13.438218</td>\n",
       "      <td>24.883501</td>\n",
       "      <td>-25.915015</td>\n",
       "      <td>1884.000000</td>\n",
       "      <td>232.000000</td>\n",
       "      <td>2.0</td>\n",
       "    </tr>\n",
       "    <tr>\n",
       "      <th>75%</th>\n",
       "      <td>88.400000</td>\n",
       "      <td>-0.850000</td>\n",
       "      <td>0.790000</td>\n",
       "      <td>7.753098</td>\n",
       "      <td>-122.915765</td>\n",
       "      <td>-2.211103</td>\n",
       "      <td>-9.690853</td>\n",
       "      <td>26.698403</td>\n",
       "      <td>-23.251729</td>\n",
       "      <td>2080.000000</td>\n",
       "      <td>245.000000</td>\n",
       "      <td>2.0</td>\n",
       "    </tr>\n",
       "    <tr>\n",
       "      <th>max</th>\n",
       "      <td>96.600000</td>\n",
       "      <td>0.350000</td>\n",
       "      <td>1.630000</td>\n",
       "      <td>14.063577</td>\n",
       "      <td>-81.018151</td>\n",
       "      <td>13.951024</td>\n",
       "      <td>2.690208</td>\n",
       "      <td>36.362509</td>\n",
       "      <td>-14.615326</td>\n",
       "      <td>3141.000000</td>\n",
       "      <td>357.000000</td>\n",
       "      <td>2.0</td>\n",
       "    </tr>\n",
       "  </tbody>\n",
       "</table>\n",
       "</div>\n",
       "      <button class=\"colab-df-convert\" onclick=\"convertToInteractive('df-12471d96-66ff-4cee-928d-adf0b688ebe5')\"\n",
       "              title=\"Convert this dataframe to an interactive table.\"\n",
       "              style=\"display:none;\">\n",
       "        \n",
       "  <svg xmlns=\"http://www.w3.org/2000/svg\" height=\"24px\"viewBox=\"0 0 24 24\"\n",
       "       width=\"24px\">\n",
       "    <path d=\"M0 0h24v24H0V0z\" fill=\"none\"/>\n",
       "    <path d=\"M18.56 5.44l.94 2.06.94-2.06 2.06-.94-2.06-.94-.94-2.06-.94 2.06-2.06.94zm-11 1L8.5 8.5l.94-2.06 2.06-.94-2.06-.94L8.5 2.5l-.94 2.06-2.06.94zm10 10l.94 2.06.94-2.06 2.06-.94-2.06-.94-.94-2.06-.94 2.06-2.06.94z\"/><path d=\"M17.41 7.96l-1.37-1.37c-.4-.4-.92-.59-1.43-.59-.52 0-1.04.2-1.43.59L10.3 9.45l-7.72 7.72c-.78.78-.78 2.05 0 2.83L4 21.41c.39.39.9.59 1.41.59.51 0 1.02-.2 1.41-.59l7.78-7.78 2.81-2.81c.8-.78.8-2.07 0-2.86zM5.41 20L4 18.59l7.72-7.72 1.47 1.35L5.41 20z\"/>\n",
       "  </svg>\n",
       "      </button>\n",
       "      \n",
       "  <style>\n",
       "    .colab-df-container {\n",
       "      display:flex;\n",
       "      flex-wrap:wrap;\n",
       "      gap: 12px;\n",
       "    }\n",
       "\n",
       "    .colab-df-convert {\n",
       "      background-color: #E8F0FE;\n",
       "      border: none;\n",
       "      border-radius: 50%;\n",
       "      cursor: pointer;\n",
       "      display: none;\n",
       "      fill: #1967D2;\n",
       "      height: 32px;\n",
       "      padding: 0 0 0 0;\n",
       "      width: 32px;\n",
       "    }\n",
       "\n",
       "    .colab-df-convert:hover {\n",
       "      background-color: #E2EBFA;\n",
       "      box-shadow: 0px 1px 2px rgba(60, 64, 67, 0.3), 0px 1px 3px 1px rgba(60, 64, 67, 0.15);\n",
       "      fill: #174EA6;\n",
       "    }\n",
       "\n",
       "    [theme=dark] .colab-df-convert {\n",
       "      background-color: #3B4455;\n",
       "      fill: #D2E3FC;\n",
       "    }\n",
       "\n",
       "    [theme=dark] .colab-df-convert:hover {\n",
       "      background-color: #434B5C;\n",
       "      box-shadow: 0px 1px 3px 1px rgba(0, 0, 0, 0.15);\n",
       "      filter: drop-shadow(0px 1px 2px rgba(0, 0, 0, 0.3));\n",
       "      fill: #FFFFFF;\n",
       "    }\n",
       "  </style>\n",
       "\n",
       "      <script>\n",
       "        const buttonEl =\n",
       "          document.querySelector('#df-12471d96-66ff-4cee-928d-adf0b688ebe5 button.colab-df-convert');\n",
       "        buttonEl.style.display =\n",
       "          google.colab.kernel.accessAllowed ? 'block' : 'none';\n",
       "\n",
       "        async function convertToInteractive(key) {\n",
       "          const element = document.querySelector('#df-12471d96-66ff-4cee-928d-adf0b688ebe5');\n",
       "          const dataTable =\n",
       "            await google.colab.kernel.invokeFunction('convertToInteractive',\n",
       "                                                     [key], {});\n",
       "          if (!dataTable) return;\n",
       "\n",
       "          const docLinkHtml = 'Like what you see? Visit the ' +\n",
       "            '<a target=\"_blank\" href=https://colab.research.google.com/notebooks/data_table.ipynb>data table notebook</a>'\n",
       "            + ' to learn more about interactive tables.';\n",
       "          element.innerHTML = '';\n",
       "          dataTable['output_type'] = 'display_data';\n",
       "          await google.colab.output.renderOutput(dataTable, element);\n",
       "          const docLink = document.createElement('div');\n",
       "          docLink.innerHTML = docLinkHtml;\n",
       "          element.appendChild(docLink);\n",
       "        }\n",
       "      </script>\n",
       "    </div>\n",
       "  </div>\n",
       "  "
      ],
      "text/plain": [
       "       release_speed        pfx_x        pfx_z          vx0          vy0  \\\n",
       "count    1069.000000  1069.000000  1069.000000  1069.000000  1069.000000   \n",
       "mean       86.225912    -1.037212     0.533742     6.310307  -125.405509   \n",
       "std         3.815844     0.490689     0.432629     2.114117     5.548511   \n",
       "min        55.800000    -2.080000    -1.330000     0.217235  -140.526550   \n",
       "25%        84.500000    -1.370000     0.270000     4.854209  -128.614522   \n",
       "50%        86.400000    -1.170000     0.550000     6.274705  -125.673839   \n",
       "75%        88.400000    -0.850000     0.790000     7.753098  -122.915765   \n",
       "max        96.600000     0.350000     1.630000    14.063577   -81.018151   \n",
       "\n",
       "               vz0           ax           ay           az  release_spin_rate  \\\n",
       "count  1069.000000  1069.000000  1069.000000  1069.000000        1069.000000   \n",
       "mean     -3.189550   -12.250444    24.814995   -26.124896        1867.962582   \n",
       "std       2.484904     5.550580     2.908207     4.745820         323.603442   \n",
       "min      -8.591611   -23.820903    11.350073   -48.041875         645.000000   \n",
       "25%      -4.686162   -16.197106    22.992074   -28.950350        1653.000000   \n",
       "50%      -3.511460   -13.438218    24.883501   -25.915015        1884.000000   \n",
       "75%      -2.211103    -9.690853    26.698403   -23.251729        2080.000000   \n",
       "max      13.951024     2.690208    36.362509   -14.615326        3141.000000   \n",
       "\n",
       "         spin_axis  Cluster  \n",
       "count  1069.000000   1069.0  \n",
       "mean    234.160898      2.0  \n",
       "std      26.341006      0.0  \n",
       "min      65.000000      2.0  \n",
       "25%     221.000000      2.0  \n",
       "50%     232.000000      2.0  \n",
       "75%     245.000000      2.0  \n",
       "max     357.000000      2.0  "
      ]
     },
     "execution_count": 188,
     "metadata": {},
     "output_type": "execute_result"
    }
   ],
   "source": [
    "#low velocity/low spin-rate averages characteristic of off-speed pitches\n",
    "righty_features[righty_features['Cluster'] == 2].describe()"
   ]
  },
  {
   "cell_type": "code",
   "execution_count": 189,
   "metadata": {
    "colab": {
     "base_uri": "https://localhost:8080/",
     "height": 300
    },
    "id": "SJQutMlJygMX",
    "outputId": "19a52710-b30a-44a6-bef8-f4a884c581c1"
   },
   "outputs": [
    {
     "data": {
      "text/html": [
       "\n",
       "  <div id=\"df-c4fd9fd2-4d5a-4dfd-8b8d-e46ad67d1dd9\">\n",
       "    <div class=\"colab-df-container\">\n",
       "      <div>\n",
       "<style scoped>\n",
       "    .dataframe tbody tr th:only-of-type {\n",
       "        vertical-align: middle;\n",
       "    }\n",
       "\n",
       "    .dataframe tbody tr th {\n",
       "        vertical-align: top;\n",
       "    }\n",
       "\n",
       "    .dataframe thead th {\n",
       "        text-align: right;\n",
       "    }\n",
       "</style>\n",
       "<table border=\"1\" class=\"dataframe\">\n",
       "  <thead>\n",
       "    <tr style=\"text-align: right;\">\n",
       "      <th></th>\n",
       "      <th>release_speed</th>\n",
       "      <th>pfx_x</th>\n",
       "      <th>pfx_z</th>\n",
       "      <th>vx0</th>\n",
       "      <th>vy0</th>\n",
       "      <th>vz0</th>\n",
       "      <th>ax</th>\n",
       "      <th>ay</th>\n",
       "      <th>az</th>\n",
       "      <th>release_spin_rate</th>\n",
       "      <th>spin_axis</th>\n",
       "      <th>Cluster</th>\n",
       "    </tr>\n",
       "  </thead>\n",
       "  <tbody>\n",
       "    <tr>\n",
       "      <th>count</th>\n",
       "      <td>1407.000000</td>\n",
       "      <td>1407.000000</td>\n",
       "      <td>1407.000000</td>\n",
       "      <td>1407.000000</td>\n",
       "      <td>1407.000000</td>\n",
       "      <td>1407.000000</td>\n",
       "      <td>1407.000000</td>\n",
       "      <td>1407.000000</td>\n",
       "      <td>1407.000000</td>\n",
       "      <td>1407.000000</td>\n",
       "      <td>1407.000000</td>\n",
       "      <td>1407.0</td>\n",
       "    </tr>\n",
       "    <tr>\n",
       "      <th>mean</th>\n",
       "      <td>83.355437</td>\n",
       "      <td>0.610519</td>\n",
       "      <td>-0.149552</td>\n",
       "      <td>3.519325</td>\n",
       "      <td>-121.364346</td>\n",
       "      <td>-1.821216</td>\n",
       "      <td>5.182746</td>\n",
       "      <td>23.600075</td>\n",
       "      <td>-33.164291</td>\n",
       "      <td>2529.479033</td>\n",
       "      <td>86.686567</td>\n",
       "      <td>0.0</td>\n",
       "    </tr>\n",
       "    <tr>\n",
       "      <th>std</th>\n",
       "      <td>4.144438</td>\n",
       "      <td>0.389699</td>\n",
       "      <td>0.616469</td>\n",
       "      <td>1.981780</td>\n",
       "      <td>6.066014</td>\n",
       "      <td>2.325495</td>\n",
       "      <td>3.607048</td>\n",
       "      <td>2.537953</td>\n",
       "      <td>6.000580</td>\n",
       "      <td>271.473005</td>\n",
       "      <td>52.734586</td>\n",
       "      <td>0.0</td>\n",
       "    </tr>\n",
       "    <tr>\n",
       "      <th>min</th>\n",
       "      <td>51.600000</td>\n",
       "      <td>-0.200000</td>\n",
       "      <td>-1.840000</td>\n",
       "      <td>-2.266805</td>\n",
       "      <td>-134.774500</td>\n",
       "      <td>-9.110119</td>\n",
       "      <td>-2.968519</td>\n",
       "      <td>10.529892</td>\n",
       "      <td>-48.516489</td>\n",
       "      <td>1043.000000</td>\n",
       "      <td>0.000000</td>\n",
       "      <td>0.0</td>\n",
       "    </tr>\n",
       "    <tr>\n",
       "      <th>25%</th>\n",
       "      <td>81.000000</td>\n",
       "      <td>0.330000</td>\n",
       "      <td>-0.535000</td>\n",
       "      <td>2.135602</td>\n",
       "      <td>-125.738325</td>\n",
       "      <td>-3.461873</td>\n",
       "      <td>2.660631</td>\n",
       "      <td>22.027338</td>\n",
       "      <td>-37.359037</td>\n",
       "      <td>2350.500000</td>\n",
       "      <td>45.000000</td>\n",
       "      <td>0.0</td>\n",
       "    </tr>\n",
       "    <tr>\n",
       "      <th>50%</th>\n",
       "      <td>83.900000</td>\n",
       "      <td>0.540000</td>\n",
       "      <td>-0.030000</td>\n",
       "      <td>3.518118</td>\n",
       "      <td>-122.217672</td>\n",
       "      <td>-1.989681</td>\n",
       "      <td>4.757406</td>\n",
       "      <td>23.605393</td>\n",
       "      <td>-32.409410</td>\n",
       "      <td>2511.000000</td>\n",
       "      <td>72.000000</td>\n",
       "      <td>0.0</td>\n",
       "    </tr>\n",
       "    <tr>\n",
       "      <th>75%</th>\n",
       "      <td>86.300000</td>\n",
       "      <td>0.840000</td>\n",
       "      <td>0.300000</td>\n",
       "      <td>4.979155</td>\n",
       "      <td>-117.864182</td>\n",
       "      <td>-0.340916</td>\n",
       "      <td>7.314326</td>\n",
       "      <td>25.331832</td>\n",
       "      <td>-28.647718</td>\n",
       "      <td>2717.000000</td>\n",
       "      <td>124.000000</td>\n",
       "      <td>0.0</td>\n",
       "    </tr>\n",
       "    <tr>\n",
       "      <th>max</th>\n",
       "      <td>92.500000</td>\n",
       "      <td>2.400000</td>\n",
       "      <td>1.440000</td>\n",
       "      <td>9.411594</td>\n",
       "      <td>-74.895677</td>\n",
       "      <td>8.617230</td>\n",
       "      <td>20.828075</td>\n",
       "      <td>35.978380</td>\n",
       "      <td>-19.445531</td>\n",
       "      <td>3514.000000</td>\n",
       "      <td>360.000000</td>\n",
       "      <td>0.0</td>\n",
       "    </tr>\n",
       "  </tbody>\n",
       "</table>\n",
       "</div>\n",
       "      <button class=\"colab-df-convert\" onclick=\"convertToInteractive('df-c4fd9fd2-4d5a-4dfd-8b8d-e46ad67d1dd9')\"\n",
       "              title=\"Convert this dataframe to an interactive table.\"\n",
       "              style=\"display:none;\">\n",
       "        \n",
       "  <svg xmlns=\"http://www.w3.org/2000/svg\" height=\"24px\"viewBox=\"0 0 24 24\"\n",
       "       width=\"24px\">\n",
       "    <path d=\"M0 0h24v24H0V0z\" fill=\"none\"/>\n",
       "    <path d=\"M18.56 5.44l.94 2.06.94-2.06 2.06-.94-2.06-.94-.94-2.06-.94 2.06-2.06.94zm-11 1L8.5 8.5l.94-2.06 2.06-.94-2.06-.94L8.5 2.5l-.94 2.06-2.06.94zm10 10l.94 2.06.94-2.06 2.06-.94-2.06-.94-.94-2.06-.94 2.06-2.06.94z\"/><path d=\"M17.41 7.96l-1.37-1.37c-.4-.4-.92-.59-1.43-.59-.52 0-1.04.2-1.43.59L10.3 9.45l-7.72 7.72c-.78.78-.78 2.05 0 2.83L4 21.41c.39.39.9.59 1.41.59.51 0 1.02-.2 1.41-.59l7.78-7.78 2.81-2.81c.8-.78.8-2.07 0-2.86zM5.41 20L4 18.59l7.72-7.72 1.47 1.35L5.41 20z\"/>\n",
       "  </svg>\n",
       "      </button>\n",
       "      \n",
       "  <style>\n",
       "    .colab-df-container {\n",
       "      display:flex;\n",
       "      flex-wrap:wrap;\n",
       "      gap: 12px;\n",
       "    }\n",
       "\n",
       "    .colab-df-convert {\n",
       "      background-color: #E8F0FE;\n",
       "      border: none;\n",
       "      border-radius: 50%;\n",
       "      cursor: pointer;\n",
       "      display: none;\n",
       "      fill: #1967D2;\n",
       "      height: 32px;\n",
       "      padding: 0 0 0 0;\n",
       "      width: 32px;\n",
       "    }\n",
       "\n",
       "    .colab-df-convert:hover {\n",
       "      background-color: #E2EBFA;\n",
       "      box-shadow: 0px 1px 2px rgba(60, 64, 67, 0.3), 0px 1px 3px 1px rgba(60, 64, 67, 0.15);\n",
       "      fill: #174EA6;\n",
       "    }\n",
       "\n",
       "    [theme=dark] .colab-df-convert {\n",
       "      background-color: #3B4455;\n",
       "      fill: #D2E3FC;\n",
       "    }\n",
       "\n",
       "    [theme=dark] .colab-df-convert:hover {\n",
       "      background-color: #434B5C;\n",
       "      box-shadow: 0px 1px 3px 1px rgba(0, 0, 0, 0.15);\n",
       "      filter: drop-shadow(0px 1px 2px rgba(0, 0, 0, 0.3));\n",
       "      fill: #FFFFFF;\n",
       "    }\n",
       "  </style>\n",
       "\n",
       "      <script>\n",
       "        const buttonEl =\n",
       "          document.querySelector('#df-c4fd9fd2-4d5a-4dfd-8b8d-e46ad67d1dd9 button.colab-df-convert');\n",
       "        buttonEl.style.display =\n",
       "          google.colab.kernel.accessAllowed ? 'block' : 'none';\n",
       "\n",
       "        async function convertToInteractive(key) {\n",
       "          const element = document.querySelector('#df-c4fd9fd2-4d5a-4dfd-8b8d-e46ad67d1dd9');\n",
       "          const dataTable =\n",
       "            await google.colab.kernel.invokeFunction('convertToInteractive',\n",
       "                                                     [key], {});\n",
       "          if (!dataTable) return;\n",
       "\n",
       "          const docLinkHtml = 'Like what you see? Visit the ' +\n",
       "            '<a target=\"_blank\" href=https://colab.research.google.com/notebooks/data_table.ipynb>data table notebook</a>'\n",
       "            + ' to learn more about interactive tables.';\n",
       "          element.innerHTML = '';\n",
       "          dataTable['output_type'] = 'display_data';\n",
       "          await google.colab.output.renderOutput(dataTable, element);\n",
       "          const docLink = document.createElement('div');\n",
       "          docLink.innerHTML = docLinkHtml;\n",
       "          element.appendChild(docLink);\n",
       "        }\n",
       "      </script>\n",
       "    </div>\n",
       "  </div>\n",
       "  "
      ],
      "text/plain": [
       "       release_speed        pfx_x        pfx_z          vx0          vy0  \\\n",
       "count    1407.000000  1407.000000  1407.000000  1407.000000  1407.000000   \n",
       "mean       83.355437     0.610519    -0.149552     3.519325  -121.364346   \n",
       "std         4.144438     0.389699     0.616469     1.981780     6.066014   \n",
       "min        51.600000    -0.200000    -1.840000    -2.266805  -134.774500   \n",
       "25%        81.000000     0.330000    -0.535000     2.135602  -125.738325   \n",
       "50%        83.900000     0.540000    -0.030000     3.518118  -122.217672   \n",
       "75%        86.300000     0.840000     0.300000     4.979155  -117.864182   \n",
       "max        92.500000     2.400000     1.440000     9.411594   -74.895677   \n",
       "\n",
       "               vz0           ax           ay           az  release_spin_rate  \\\n",
       "count  1407.000000  1407.000000  1407.000000  1407.000000        1407.000000   \n",
       "mean     -1.821216     5.182746    23.600075   -33.164291        2529.479033   \n",
       "std       2.325495     3.607048     2.537953     6.000580         271.473005   \n",
       "min      -9.110119    -2.968519    10.529892   -48.516489        1043.000000   \n",
       "25%      -3.461873     2.660631    22.027338   -37.359037        2350.500000   \n",
       "50%      -1.989681     4.757406    23.605393   -32.409410        2511.000000   \n",
       "75%      -0.340916     7.314326    25.331832   -28.647718        2717.000000   \n",
       "max       8.617230    20.828075    35.978380   -19.445531        3514.000000   \n",
       "\n",
       "         spin_axis  Cluster  \n",
       "count  1407.000000   1407.0  \n",
       "mean     86.686567      0.0  \n",
       "std      52.734586      0.0  \n",
       "min       0.000000      0.0  \n",
       "25%      45.000000      0.0  \n",
       "50%      72.000000      0.0  \n",
       "75%     124.000000      0.0  \n",
       "max     360.000000      0.0  "
      ]
     },
     "execution_count": 189,
     "metadata": {},
     "output_type": "execute_result"
    }
   ],
   "source": [
    "#low velocity/high spin-rate averages characteristic of breaking pitches\n",
    "righty_features[righty_features['Cluster'] == 0].describe()"
   ]
  },
  {
   "cell_type": "code",
   "execution_count": 190,
   "metadata": {
    "colab": {
     "base_uri": "https://localhost:8080/",
     "height": 300
    },
    "id": "XaJskN54yvqd",
    "outputId": "fe938f29-0ed0-4f07-9181-e6cb7cb584be"
   },
   "outputs": [
    {
     "data": {
      "text/html": [
       "\n",
       "  <div id=\"df-4b9a1d8c-688a-4bfd-84d7-2cc8d807d84d\">\n",
       "    <div class=\"colab-df-container\">\n",
       "      <div>\n",
       "<style scoped>\n",
       "    .dataframe tbody tr th:only-of-type {\n",
       "        vertical-align: middle;\n",
       "    }\n",
       "\n",
       "    .dataframe tbody tr th {\n",
       "        vertical-align: top;\n",
       "    }\n",
       "\n",
       "    .dataframe thead th {\n",
       "        text-align: right;\n",
       "    }\n",
       "</style>\n",
       "<table border=\"1\" class=\"dataframe\">\n",
       "  <thead>\n",
       "    <tr style=\"text-align: right;\">\n",
       "      <th></th>\n",
       "      <th>release_speed</th>\n",
       "      <th>pfx_x</th>\n",
       "      <th>pfx_z</th>\n",
       "      <th>vx0</th>\n",
       "      <th>vy0</th>\n",
       "      <th>vz0</th>\n",
       "      <th>ax</th>\n",
       "      <th>ay</th>\n",
       "      <th>az</th>\n",
       "      <th>release_spin_rate</th>\n",
       "      <th>spin_axis</th>\n",
       "      <th>Cluster</th>\n",
       "    </tr>\n",
       "  </thead>\n",
       "  <tbody>\n",
       "    <tr>\n",
       "      <th>count</th>\n",
       "      <td>576.000000</td>\n",
       "      <td>576.000000</td>\n",
       "      <td>576.000000</td>\n",
       "      <td>576.000000</td>\n",
       "      <td>576.000000</td>\n",
       "      <td>576.000000</td>\n",
       "      <td>576.000000</td>\n",
       "      <td>576.000000</td>\n",
       "      <td>576.000000</td>\n",
       "      <td>576.000000</td>\n",
       "      <td>576.000000</td>\n",
       "      <td>576.0</td>\n",
       "    </tr>\n",
       "    <tr>\n",
       "      <th>mean</th>\n",
       "      <td>85.057639</td>\n",
       "      <td>1.042413</td>\n",
       "      <td>0.588698</td>\n",
       "      <td>-6.417032</td>\n",
       "      <td>-123.700329</td>\n",
       "      <td>-2.973775</td>\n",
       "      <td>12.111351</td>\n",
       "      <td>24.345039</td>\n",
       "      <td>-25.828224</td>\n",
       "      <td>1865.352431</td>\n",
       "      <td>123.074653</td>\n",
       "      <td>1.0</td>\n",
       "    </tr>\n",
       "    <tr>\n",
       "      <th>std</th>\n",
       "      <td>4.557621</td>\n",
       "      <td>0.474632</td>\n",
       "      <td>0.403694</td>\n",
       "      <td>2.358557</td>\n",
       "      <td>6.585939</td>\n",
       "      <td>2.124019</td>\n",
       "      <td>5.484050</td>\n",
       "      <td>3.005056</td>\n",
       "      <td>4.187014</td>\n",
       "      <td>296.198704</td>\n",
       "      <td>26.108462</td>\n",
       "      <td>0.0</td>\n",
       "    </tr>\n",
       "    <tr>\n",
       "      <th>min</th>\n",
       "      <td>62.000000</td>\n",
       "      <td>-0.330000</td>\n",
       "      <td>-0.350000</td>\n",
       "      <td>-15.386673</td>\n",
       "      <td>-140.471016</td>\n",
       "      <td>-8.182777</td>\n",
       "      <td>-2.351765</td>\n",
       "      <td>12.847724</td>\n",
       "      <td>-36.482430</td>\n",
       "      <td>1030.000000</td>\n",
       "      <td>7.000000</td>\n",
       "      <td>1.0</td>\n",
       "    </tr>\n",
       "    <tr>\n",
       "      <th>25%</th>\n",
       "      <td>82.400000</td>\n",
       "      <td>0.880000</td>\n",
       "      <td>0.310000</td>\n",
       "      <td>-7.614014</td>\n",
       "      <td>-127.985336</td>\n",
       "      <td>-4.549507</td>\n",
       "      <td>9.614061</td>\n",
       "      <td>22.341057</td>\n",
       "      <td>-28.702886</td>\n",
       "      <td>1653.750000</td>\n",
       "      <td>116.000000</td>\n",
       "      <td>1.0</td>\n",
       "    </tr>\n",
       "    <tr>\n",
       "      <th>50%</th>\n",
       "      <td>85.000000</td>\n",
       "      <td>1.155000</td>\n",
       "      <td>0.575000</td>\n",
       "      <td>-6.074707</td>\n",
       "      <td>-123.645326</td>\n",
       "      <td>-3.182057</td>\n",
       "      <td>12.831944</td>\n",
       "      <td>24.369892</td>\n",
       "      <td>-25.490873</td>\n",
       "      <td>1887.500000</td>\n",
       "      <td>127.000000</td>\n",
       "      <td>1.0</td>\n",
       "    </tr>\n",
       "    <tr>\n",
       "      <th>75%</th>\n",
       "      <td>87.925000</td>\n",
       "      <td>1.370000</td>\n",
       "      <td>0.860000</td>\n",
       "      <td>-4.852093</td>\n",
       "      <td>-119.848409</td>\n",
       "      <td>-1.822474</td>\n",
       "      <td>15.743871</td>\n",
       "      <td>26.381799</td>\n",
       "      <td>-23.018941</td>\n",
       "      <td>2093.250000</td>\n",
       "      <td>136.000000</td>\n",
       "      <td>1.0</td>\n",
       "    </tr>\n",
       "    <tr>\n",
       "      <th>max</th>\n",
       "      <td>96.600000</td>\n",
       "      <td>1.830000</td>\n",
       "      <td>1.630000</td>\n",
       "      <td>-0.527634</td>\n",
       "      <td>-90.271862</td>\n",
       "      <td>5.166024</td>\n",
       "      <td>24.366974</td>\n",
       "      <td>31.459735</td>\n",
       "      <td>-15.682719</td>\n",
       "      <td>2987.000000</td>\n",
       "      <td>228.000000</td>\n",
       "      <td>1.0</td>\n",
       "    </tr>\n",
       "  </tbody>\n",
       "</table>\n",
       "</div>\n",
       "      <button class=\"colab-df-convert\" onclick=\"convertToInteractive('df-4b9a1d8c-688a-4bfd-84d7-2cc8d807d84d')\"\n",
       "              title=\"Convert this dataframe to an interactive table.\"\n",
       "              style=\"display:none;\">\n",
       "        \n",
       "  <svg xmlns=\"http://www.w3.org/2000/svg\" height=\"24px\"viewBox=\"0 0 24 24\"\n",
       "       width=\"24px\">\n",
       "    <path d=\"M0 0h24v24H0V0z\" fill=\"none\"/>\n",
       "    <path d=\"M18.56 5.44l.94 2.06.94-2.06 2.06-.94-2.06-.94-.94-2.06-.94 2.06-2.06.94zm-11 1L8.5 8.5l.94-2.06 2.06-.94-2.06-.94L8.5 2.5l-.94 2.06-2.06.94zm10 10l.94 2.06.94-2.06 2.06-.94-2.06-.94-.94-2.06-.94 2.06-2.06.94z\"/><path d=\"M17.41 7.96l-1.37-1.37c-.4-.4-.92-.59-1.43-.59-.52 0-1.04.2-1.43.59L10.3 9.45l-7.72 7.72c-.78.78-.78 2.05 0 2.83L4 21.41c.39.39.9.59 1.41.59.51 0 1.02-.2 1.41-.59l7.78-7.78 2.81-2.81c.8-.78.8-2.07 0-2.86zM5.41 20L4 18.59l7.72-7.72 1.47 1.35L5.41 20z\"/>\n",
       "  </svg>\n",
       "      </button>\n",
       "      \n",
       "  <style>\n",
       "    .colab-df-container {\n",
       "      display:flex;\n",
       "      flex-wrap:wrap;\n",
       "      gap: 12px;\n",
       "    }\n",
       "\n",
       "    .colab-df-convert {\n",
       "      background-color: #E8F0FE;\n",
       "      border: none;\n",
       "      border-radius: 50%;\n",
       "      cursor: pointer;\n",
       "      display: none;\n",
       "      fill: #1967D2;\n",
       "      height: 32px;\n",
       "      padding: 0 0 0 0;\n",
       "      width: 32px;\n",
       "    }\n",
       "\n",
       "    .colab-df-convert:hover {\n",
       "      background-color: #E2EBFA;\n",
       "      box-shadow: 0px 1px 2px rgba(60, 64, 67, 0.3), 0px 1px 3px 1px rgba(60, 64, 67, 0.15);\n",
       "      fill: #174EA6;\n",
       "    }\n",
       "\n",
       "    [theme=dark] .colab-df-convert {\n",
       "      background-color: #3B4455;\n",
       "      fill: #D2E3FC;\n",
       "    }\n",
       "\n",
       "    [theme=dark] .colab-df-convert:hover {\n",
       "      background-color: #434B5C;\n",
       "      box-shadow: 0px 1px 3px 1px rgba(0, 0, 0, 0.15);\n",
       "      filter: drop-shadow(0px 1px 2px rgba(0, 0, 0, 0.3));\n",
       "      fill: #FFFFFF;\n",
       "    }\n",
       "  </style>\n",
       "\n",
       "      <script>\n",
       "        const buttonEl =\n",
       "          document.querySelector('#df-4b9a1d8c-688a-4bfd-84d7-2cc8d807d84d button.colab-df-convert');\n",
       "        buttonEl.style.display =\n",
       "          google.colab.kernel.accessAllowed ? 'block' : 'none';\n",
       "\n",
       "        async function convertToInteractive(key) {\n",
       "          const element = document.querySelector('#df-4b9a1d8c-688a-4bfd-84d7-2cc8d807d84d');\n",
       "          const dataTable =\n",
       "            await google.colab.kernel.invokeFunction('convertToInteractive',\n",
       "                                                     [key], {});\n",
       "          if (!dataTable) return;\n",
       "\n",
       "          const docLinkHtml = 'Like what you see? Visit the ' +\n",
       "            '<a target=\"_blank\" href=https://colab.research.google.com/notebooks/data_table.ipynb>data table notebook</a>'\n",
       "            + ' to learn more about interactive tables.';\n",
       "          element.innerHTML = '';\n",
       "          dataTable['output_type'] = 'display_data';\n",
       "          await google.colab.output.renderOutput(dataTable, element);\n",
       "          const docLink = document.createElement('div');\n",
       "          docLink.innerHTML = docLinkHtml;\n",
       "          element.appendChild(docLink);\n",
       "        }\n",
       "      </script>\n",
       "    </div>\n",
       "  </div>\n",
       "  "
      ],
      "text/plain": [
       "       release_speed       pfx_x       pfx_z         vx0         vy0  \\\n",
       "count     576.000000  576.000000  576.000000  576.000000  576.000000   \n",
       "mean       85.057639    1.042413    0.588698   -6.417032 -123.700329   \n",
       "std         4.557621    0.474632    0.403694    2.358557    6.585939   \n",
       "min        62.000000   -0.330000   -0.350000  -15.386673 -140.471016   \n",
       "25%        82.400000    0.880000    0.310000   -7.614014 -127.985336   \n",
       "50%        85.000000    1.155000    0.575000   -6.074707 -123.645326   \n",
       "75%        87.925000    1.370000    0.860000   -4.852093 -119.848409   \n",
       "max        96.600000    1.830000    1.630000   -0.527634  -90.271862   \n",
       "\n",
       "              vz0          ax          ay          az  release_spin_rate  \\\n",
       "count  576.000000  576.000000  576.000000  576.000000         576.000000   \n",
       "mean    -2.973775   12.111351   24.345039  -25.828224        1865.352431   \n",
       "std      2.124019    5.484050    3.005056    4.187014         296.198704   \n",
       "min     -8.182777   -2.351765   12.847724  -36.482430        1030.000000   \n",
       "25%     -4.549507    9.614061   22.341057  -28.702886        1653.750000   \n",
       "50%     -3.182057   12.831944   24.369892  -25.490873        1887.500000   \n",
       "75%     -1.822474   15.743871   26.381799  -23.018941        2093.250000   \n",
       "max      5.166024   24.366974   31.459735  -15.682719        2987.000000   \n",
       "\n",
       "        spin_axis  Cluster  \n",
       "count  576.000000    576.0  \n",
       "mean   123.074653      1.0  \n",
       "std     26.108462      0.0  \n",
       "min      7.000000      1.0  \n",
       "25%    116.000000      1.0  \n",
       "50%    127.000000      1.0  \n",
       "75%    136.000000      1.0  \n",
       "max    228.000000      1.0  "
      ]
     },
     "execution_count": 190,
     "metadata": {},
     "output_type": "execute_result"
    }
   ],
   "source": [
    "#low velocity/low spin-rate averages characteristic of off-speed pitches\n",
    "lefty_features[lefty_features['Cluster'] == 1].describe()"
   ]
  },
  {
   "cell_type": "code",
   "execution_count": 191,
   "metadata": {
    "colab": {
     "base_uri": "https://localhost:8080/",
     "height": 300
    },
    "id": "NTlYQ5fGyrhm",
    "outputId": "921386f9-7888-46b3-c50f-450d4c186a55"
   },
   "outputs": [
    {
     "data": {
      "text/html": [
       "\n",
       "  <div id=\"df-082a9ecd-be82-48c9-84ac-521801018f72\">\n",
       "    <div class=\"colab-df-container\">\n",
       "      <div>\n",
       "<style scoped>\n",
       "    .dataframe tbody tr th:only-of-type {\n",
       "        vertical-align: middle;\n",
       "    }\n",
       "\n",
       "    .dataframe tbody tr th {\n",
       "        vertical-align: top;\n",
       "    }\n",
       "\n",
       "    .dataframe thead th {\n",
       "        text-align: right;\n",
       "    }\n",
       "</style>\n",
       "<table border=\"1\" class=\"dataframe\">\n",
       "  <thead>\n",
       "    <tr style=\"text-align: right;\">\n",
       "      <th></th>\n",
       "      <th>release_speed</th>\n",
       "      <th>pfx_x</th>\n",
       "      <th>pfx_z</th>\n",
       "      <th>vx0</th>\n",
       "      <th>vy0</th>\n",
       "      <th>vz0</th>\n",
       "      <th>ax</th>\n",
       "      <th>ay</th>\n",
       "      <th>az</th>\n",
       "      <th>release_spin_rate</th>\n",
       "      <th>spin_axis</th>\n",
       "      <th>Cluster</th>\n",
       "    </tr>\n",
       "  </thead>\n",
       "  <tbody>\n",
       "    <tr>\n",
       "      <th>count</th>\n",
       "      <td>447.000000</td>\n",
       "      <td>447.000000</td>\n",
       "      <td>447.000000</td>\n",
       "      <td>447.000000</td>\n",
       "      <td>447.000000</td>\n",
       "      <td>447.000000</td>\n",
       "      <td>447.000000</td>\n",
       "      <td>447.000000</td>\n",
       "      <td>447.000000</td>\n",
       "      <td>447.000000</td>\n",
       "      <td>447.000000</td>\n",
       "      <td>447.0</td>\n",
       "    </tr>\n",
       "    <tr>\n",
       "      <th>mean</th>\n",
       "      <td>82.088814</td>\n",
       "      <td>-0.594049</td>\n",
       "      <td>-0.107181</td>\n",
       "      <td>-3.547256</td>\n",
       "      <td>-119.516277</td>\n",
       "      <td>-1.841012</td>\n",
       "      <td>-4.839713</td>\n",
       "      <td>22.905892</td>\n",
       "      <td>-32.673210</td>\n",
       "      <td>2439.597315</td>\n",
       "      <td>271.438479</td>\n",
       "      <td>2.0</td>\n",
       "    </tr>\n",
       "    <tr>\n",
       "      <th>std</th>\n",
       "      <td>4.389409</td>\n",
       "      <td>0.414239</td>\n",
       "      <td>0.573628</td>\n",
       "      <td>1.986703</td>\n",
       "      <td>6.428037</td>\n",
       "      <td>2.196203</td>\n",
       "      <td>3.663771</td>\n",
       "      <td>2.297765</td>\n",
       "      <td>5.507976</td>\n",
       "      <td>259.869187</td>\n",
       "      <td>57.992578</td>\n",
       "      <td>0.0</td>\n",
       "    </tr>\n",
       "    <tr>\n",
       "      <th>min</th>\n",
       "      <td>56.200000</td>\n",
       "      <td>-1.870000</td>\n",
       "      <td>-1.560000</td>\n",
       "      <td>-10.878217</td>\n",
       "      <td>-131.804572</td>\n",
       "      <td>-6.966495</td>\n",
       "      <td>-14.687103</td>\n",
       "      <td>10.667895</td>\n",
       "      <td>-44.845203</td>\n",
       "      <td>1219.000000</td>\n",
       "      <td>21.000000</td>\n",
       "      <td>2.0</td>\n",
       "    </tr>\n",
       "    <tr>\n",
       "      <th>25%</th>\n",
       "      <td>79.600000</td>\n",
       "      <td>-0.825000</td>\n",
       "      <td>-0.415000</td>\n",
       "      <td>-5.031374</td>\n",
       "      <td>-124.019505</td>\n",
       "      <td>-3.396555</td>\n",
       "      <td>-6.958148</td>\n",
       "      <td>21.602732</td>\n",
       "      <td>-35.986426</td>\n",
       "      <td>2266.000000</td>\n",
       "      <td>213.500000</td>\n",
       "      <td>2.0</td>\n",
       "    </tr>\n",
       "    <tr>\n",
       "      <th>50%</th>\n",
       "      <td>82.500000</td>\n",
       "      <td>-0.470000</td>\n",
       "      <td>-0.050000</td>\n",
       "      <td>-3.544220</td>\n",
       "      <td>-120.176004</td>\n",
       "      <td>-1.942641</td>\n",
       "      <td>-4.079148</td>\n",
       "      <td>22.837048</td>\n",
       "      <td>-32.668210</td>\n",
       "      <td>2438.000000</td>\n",
       "      <td>296.000000</td>\n",
       "      <td>2.0</td>\n",
       "    </tr>\n",
       "    <tr>\n",
       "      <th>75%</th>\n",
       "      <td>85.100000</td>\n",
       "      <td>-0.300000</td>\n",
       "      <td>0.305000</td>\n",
       "      <td>-2.011056</td>\n",
       "      <td>-115.896966</td>\n",
       "      <td>-0.536037</td>\n",
       "      <td>-2.158095</td>\n",
       "      <td>24.363760</td>\n",
       "      <td>-28.701754</td>\n",
       "      <td>2619.500000</td>\n",
       "      <td>316.500000</td>\n",
       "      <td>2.0</td>\n",
       "    </tr>\n",
       "    <tr>\n",
       "      <th>max</th>\n",
       "      <td>90.400000</td>\n",
       "      <td>0.120000</td>\n",
       "      <td>1.310000</td>\n",
       "      <td>1.213252</td>\n",
       "      <td>-81.869212</td>\n",
       "      <td>4.321122</td>\n",
       "      <td>1.884239</td>\n",
       "      <td>31.414538</td>\n",
       "      <td>-20.366686</td>\n",
       "      <td>3303.000000</td>\n",
       "      <td>351.000000</td>\n",
       "      <td>2.0</td>\n",
       "    </tr>\n",
       "  </tbody>\n",
       "</table>\n",
       "</div>\n",
       "      <button class=\"colab-df-convert\" onclick=\"convertToInteractive('df-082a9ecd-be82-48c9-84ac-521801018f72')\"\n",
       "              title=\"Convert this dataframe to an interactive table.\"\n",
       "              style=\"display:none;\">\n",
       "        \n",
       "  <svg xmlns=\"http://www.w3.org/2000/svg\" height=\"24px\"viewBox=\"0 0 24 24\"\n",
       "       width=\"24px\">\n",
       "    <path d=\"M0 0h24v24H0V0z\" fill=\"none\"/>\n",
       "    <path d=\"M18.56 5.44l.94 2.06.94-2.06 2.06-.94-2.06-.94-.94-2.06-.94 2.06-2.06.94zm-11 1L8.5 8.5l.94-2.06 2.06-.94-2.06-.94L8.5 2.5l-.94 2.06-2.06.94zm10 10l.94 2.06.94-2.06 2.06-.94-2.06-.94-.94-2.06-.94 2.06-2.06.94z\"/><path d=\"M17.41 7.96l-1.37-1.37c-.4-.4-.92-.59-1.43-.59-.52 0-1.04.2-1.43.59L10.3 9.45l-7.72 7.72c-.78.78-.78 2.05 0 2.83L4 21.41c.39.39.9.59 1.41.59.51 0 1.02-.2 1.41-.59l7.78-7.78 2.81-2.81c.8-.78.8-2.07 0-2.86zM5.41 20L4 18.59l7.72-7.72 1.47 1.35L5.41 20z\"/>\n",
       "  </svg>\n",
       "      </button>\n",
       "      \n",
       "  <style>\n",
       "    .colab-df-container {\n",
       "      display:flex;\n",
       "      flex-wrap:wrap;\n",
       "      gap: 12px;\n",
       "    }\n",
       "\n",
       "    .colab-df-convert {\n",
       "      background-color: #E8F0FE;\n",
       "      border: none;\n",
       "      border-radius: 50%;\n",
       "      cursor: pointer;\n",
       "      display: none;\n",
       "      fill: #1967D2;\n",
       "      height: 32px;\n",
       "      padding: 0 0 0 0;\n",
       "      width: 32px;\n",
       "    }\n",
       "\n",
       "    .colab-df-convert:hover {\n",
       "      background-color: #E2EBFA;\n",
       "      box-shadow: 0px 1px 2px rgba(60, 64, 67, 0.3), 0px 1px 3px 1px rgba(60, 64, 67, 0.15);\n",
       "      fill: #174EA6;\n",
       "    }\n",
       "\n",
       "    [theme=dark] .colab-df-convert {\n",
       "      background-color: #3B4455;\n",
       "      fill: #D2E3FC;\n",
       "    }\n",
       "\n",
       "    [theme=dark] .colab-df-convert:hover {\n",
       "      background-color: #434B5C;\n",
       "      box-shadow: 0px 1px 3px 1px rgba(0, 0, 0, 0.15);\n",
       "      filter: drop-shadow(0px 1px 2px rgba(0, 0, 0, 0.3));\n",
       "      fill: #FFFFFF;\n",
       "    }\n",
       "  </style>\n",
       "\n",
       "      <script>\n",
       "        const buttonEl =\n",
       "          document.querySelector('#df-082a9ecd-be82-48c9-84ac-521801018f72 button.colab-df-convert');\n",
       "        buttonEl.style.display =\n",
       "          google.colab.kernel.accessAllowed ? 'block' : 'none';\n",
       "\n",
       "        async function convertToInteractive(key) {\n",
       "          const element = document.querySelector('#df-082a9ecd-be82-48c9-84ac-521801018f72');\n",
       "          const dataTable =\n",
       "            await google.colab.kernel.invokeFunction('convertToInteractive',\n",
       "                                                     [key], {});\n",
       "          if (!dataTable) return;\n",
       "\n",
       "          const docLinkHtml = 'Like what you see? Visit the ' +\n",
       "            '<a target=\"_blank\" href=https://colab.research.google.com/notebooks/data_table.ipynb>data table notebook</a>'\n",
       "            + ' to learn more about interactive tables.';\n",
       "          element.innerHTML = '';\n",
       "          dataTable['output_type'] = 'display_data';\n",
       "          await google.colab.output.renderOutput(dataTable, element);\n",
       "          const docLink = document.createElement('div');\n",
       "          docLink.innerHTML = docLinkHtml;\n",
       "          element.appendChild(docLink);\n",
       "        }\n",
       "      </script>\n",
       "    </div>\n",
       "  </div>\n",
       "  "
      ],
      "text/plain": [
       "       release_speed       pfx_x       pfx_z         vx0         vy0  \\\n",
       "count     447.000000  447.000000  447.000000  447.000000  447.000000   \n",
       "mean       82.088814   -0.594049   -0.107181   -3.547256 -119.516277   \n",
       "std         4.389409    0.414239    0.573628    1.986703    6.428037   \n",
       "min        56.200000   -1.870000   -1.560000  -10.878217 -131.804572   \n",
       "25%        79.600000   -0.825000   -0.415000   -5.031374 -124.019505   \n",
       "50%        82.500000   -0.470000   -0.050000   -3.544220 -120.176004   \n",
       "75%        85.100000   -0.300000    0.305000   -2.011056 -115.896966   \n",
       "max        90.400000    0.120000    1.310000    1.213252  -81.869212   \n",
       "\n",
       "              vz0          ax          ay          az  release_spin_rate  \\\n",
       "count  447.000000  447.000000  447.000000  447.000000         447.000000   \n",
       "mean    -1.841012   -4.839713   22.905892  -32.673210        2439.597315   \n",
       "std      2.196203    3.663771    2.297765    5.507976         259.869187   \n",
       "min     -6.966495  -14.687103   10.667895  -44.845203        1219.000000   \n",
       "25%     -3.396555   -6.958148   21.602732  -35.986426        2266.000000   \n",
       "50%     -1.942641   -4.079148   22.837048  -32.668210        2438.000000   \n",
       "75%     -0.536037   -2.158095   24.363760  -28.701754        2619.500000   \n",
       "max      4.321122    1.884239   31.414538  -20.366686        3303.000000   \n",
       "\n",
       "        spin_axis  Cluster  \n",
       "count  447.000000    447.0  \n",
       "mean   271.438479      2.0  \n",
       "std     57.992578      0.0  \n",
       "min     21.000000      2.0  \n",
       "25%    213.500000      2.0  \n",
       "50%    296.000000      2.0  \n",
       "75%    316.500000      2.0  \n",
       "max    351.000000      2.0  "
      ]
     },
     "execution_count": 191,
     "metadata": {},
     "output_type": "execute_result"
    }
   ],
   "source": [
    "#low velocity/high spin-rate averages characteristic of breaking pitches\n",
    "lefty_features[lefty_features['Cluster'] == 2].describe()"
   ]
  },
  {
   "cell_type": "markdown",
   "metadata": {
    "id": "-mZoawhgJoHS"
   },
   "source": [
    "I now look to see how these clusters match up against the conventional pitch labels given in the data. Using conventional wisdom, I'll encode each pitch name and cluster as either Fastball, Breaking Ball, or Offspeed Pitch and then see how often they match up and where some discrepancies are. "
   ]
  },
  {
   "cell_type": "code",
   "execution_count": 192,
   "metadata": {
    "id": "RPkofxlrK9MA"
   },
   "outputs": [],
   "source": [
    "#re-incorporating label info\n",
    "righty_features_appended = pd.merge(righty_features, righties[['pitch_name', 'player_name']], left_index=True, right_index=True)\n",
    "lefty_features_appended = pd.merge(lefty_features, lefties[['pitch_name', 'player_name']], left_index=True, right_index=True)"
   ]
  },
  {
   "cell_type": "code",
   "execution_count": 193,
   "metadata": {
    "id": "vx69EscYMK58"
   },
   "outputs": [],
   "source": [
    "#defining the functions\n",
    "def righty_cluster_classifier(df):\n",
    "  if df['Cluster'] == 0:\n",
    "    return 'Breaking Pitch'\n",
    "  if df['Cluster'] == 1:\n",
    "    return 'Fastball'\n",
    "  if df['Cluster'] == 2:\n",
    "    return 'Offspeed Pitch'\n",
    "\n",
    "def lefty_cluster_classifier(df):\n",
    "  if df['Cluster'] == 0:\n",
    "    return 'Fastball'\n",
    "  if df['Cluster'] == 1:\n",
    "    return 'Offspeed Pitch'\n",
    "  if df['Cluster'] == 2:\n",
    "    return 'Breaking Pitch'\n",
    "\n",
    "def pitch_classifier(df):\n",
    "  if (df['pitch_name'] == '4-Seam Fastball') | (df['pitch_name'] == 'Sinker') | (df['pitch_name'] == 'Cutter') | (df['pitch_name'] == 'Fastball'):\n",
    "    return 'Fastball'\n",
    "  if (df['pitch_name'] == 'Changeup') | (df['pitch_name'] == 'Split-Finger'):\n",
    "    return 'Offspeed Pitch'\n",
    "  else:\n",
    "    return 'Breaking Pitch'"
   ]
  },
  {
   "cell_type": "code",
   "execution_count": 194,
   "metadata": {
    "id": "BvHVUQCpO5TV"
   },
   "outputs": [],
   "source": [
    "#applying the functions\n",
    "righty_features_appended['Cluster_Assignment'] = righty_features_appended.apply(righty_cluster_classifier, axis=1)\n",
    "righty_features_appended['Actual_Label'] = righty_features_appended.apply(pitch_classifier, axis=1)\n",
    "lefty_features_appended['Cluster_Assignment'] = lefty_features_appended.apply(lefty_cluster_classifier, axis=1)\n",
    "lefty_features_appended['Actual_Label'] = lefty_features_appended.apply(pitch_classifier, axis=1)"
   ]
  },
  {
   "cell_type": "markdown",
   "metadata": {
    "id": "riaP_iiAkp_4"
   },
   "source": [
    "Starting with righties, I'll look at what percentage of pitches have cluster discrepancies and, of these pitches, what their specific conventional pitch type labels are. We can see what pitches show up disproportionally (relative to their actual usage amount). "
   ]
  },
  {
   "cell_type": "code",
   "execution_count": 195,
   "metadata": {
    "colab": {
     "base_uri": "https://localhost:8080/"
    },
    "id": "n37jKdL-MANF",
    "outputId": "bcac9619-9c4b-483d-8b34-f545886a09c8"
   },
   "outputs": [
    {
     "data": {
      "text/plain": [
       "546"
      ]
     },
     "execution_count": 195,
     "metadata": {},
     "output_type": "execute_result"
    }
   ],
   "source": [
    "(righty_features_appended['Cluster_Assignment'] != righty_features_appended['Actual_Label']).apply(lambda x: int(x)).sum()"
   ]
  },
  {
   "cell_type": "code",
   "execution_count": 196,
   "metadata": {
    "colab": {
     "base_uri": "https://localhost:8080/"
    },
    "id": "jneQhcBPkzoS",
    "outputId": "d9342fd5-42d1-4884-e352-33a1e714e610"
   },
   "outputs": [
    {
     "data": {
      "text/plain": [
       "4781"
      ]
     },
     "execution_count": 196,
     "metadata": {},
     "output_type": "execute_result"
    }
   ],
   "source": [
    "len(righty_features_appended)"
   ]
  },
  {
   "cell_type": "code",
   "execution_count": 197,
   "metadata": {
    "colab": {
     "base_uri": "https://localhost:8080/"
    },
    "id": "1ppRlJDQkyHn",
    "outputId": "79710ba4-4232-4c59-f734-c647639f5801"
   },
   "outputs": [
    {
     "data": {
      "text/plain": [
       "0.11420204978038068"
      ]
     },
     "execution_count": 197,
     "metadata": {},
     "output_type": "execute_result"
    }
   ],
   "source": [
    "(righty_features_appended['Cluster_Assignment'] != righty_features_appended['Actual_Label']).apply(lambda x: int(x)).sum() / len(righty_features_appended)"
   ]
  },
  {
   "cell_type": "code",
   "execution_count": 198,
   "metadata": {
    "colab": {
     "base_uri": "https://localhost:8080/"
    },
    "id": "PgC9nEIvVyrh",
    "outputId": "726d0516-fa13-4364-b1e5-aca308c65351"
   },
   "outputs": [
    {
     "data": {
      "text/plain": [
       "Cutter             0.346154\n",
       "Sinker             0.318681\n",
       "Slider             0.221612\n",
       "4-Seam Fastball    0.067766\n",
       "Changeup           0.025641\n",
       "Curveball          0.010989\n",
       "Fastball           0.007326\n",
       "Split-Finger       0.001832\n",
       "Name: pitch_name, dtype: float64"
      ]
     },
     "execution_count": 198,
     "metadata": {},
     "output_type": "execute_result"
    }
   ],
   "source": [
    "righty_features_appended[righty_features_appended['Cluster_Assignment'] != righty_features_appended['Actual_Label']]['pitch_name'].value_counts() / 546"
   ]
  },
  {
   "cell_type": "code",
   "execution_count": 199,
   "metadata": {
    "colab": {
     "base_uri": "https://localhost:8080/"
    },
    "id": "gODzQMU9XPHb",
    "outputId": "451eebbf-d7f2-4df8-8a59-1c001535dd00"
   },
   "outputs": [
    {
     "data": {
      "text/plain": [
       "4-Seam Fastball    0.325037\n",
       "Slider             0.197448\n",
       "Sinker             0.165865\n",
       "Changeup           0.137837\n",
       "Curveball          0.069232\n",
       "Cutter             0.064631\n",
       "Knuckle Curve      0.022171\n",
       "Split-Finger       0.016942\n",
       "Fastball           0.000837\n",
       "Name: pitch_name, dtype: float64"
      ]
     },
     "execution_count": 199,
     "metadata": {},
     "output_type": "execute_result"
    }
   ],
   "source": [
    "righty_features_appended['pitch_name'].value_counts() / 4781"
   ]
  },
  {
   "cell_type": "markdown",
   "metadata": {
    "id": "AQ3yusLNYYQW"
   },
   "source": [
    "For righties, we see that about 11% of pitches are classified differently. Cutters and sinkers make up about two-thirds of all discrepancies despite making up only about 23% of pitches. Conversely, fastballs are behind just under 7% of discrepancies despite composing about a third of all pitches."
   ]
  },
  {
   "cell_type": "code",
   "execution_count": 200,
   "metadata": {
    "colab": {
     "base_uri": "https://localhost:8080/",
     "height": 175
    },
    "id": "GeHXwMzyYy7S",
    "outputId": "be94eef0-896b-47a9-da70-e15c162ac3b8"
   },
   "outputs": [
    {
     "data": {
      "text/html": [
       "\n",
       "  <div id=\"df-8ae786e1-df3b-4913-b880-124aeec18b25\">\n",
       "    <div class=\"colab-df-container\">\n",
       "      <div>\n",
       "<style scoped>\n",
       "    .dataframe tbody tr th:only-of-type {\n",
       "        vertical-align: middle;\n",
       "    }\n",
       "\n",
       "    .dataframe tbody tr th {\n",
       "        vertical-align: top;\n",
       "    }\n",
       "\n",
       "    .dataframe thead th {\n",
       "        text-align: right;\n",
       "    }\n",
       "</style>\n",
       "<table border=\"1\" class=\"dataframe\">\n",
       "  <thead>\n",
       "    <tr style=\"text-align: right;\">\n",
       "      <th>Actual_Label</th>\n",
       "      <th>Breaking Pitch</th>\n",
       "      <th>Fastball</th>\n",
       "      <th>Offspeed Pitch</th>\n",
       "    </tr>\n",
       "    <tr>\n",
       "      <th>Cluster_Assignment</th>\n",
       "      <th></th>\n",
       "      <th></th>\n",
       "      <th></th>\n",
       "    </tr>\n",
       "  </thead>\n",
       "  <tbody>\n",
       "    <tr>\n",
       "      <th>Breaking Pitch</th>\n",
       "      <td>0</td>\n",
       "      <td>153</td>\n",
       "      <td>0</td>\n",
       "    </tr>\n",
       "    <tr>\n",
       "      <th>Fastball</th>\n",
       "      <td>34</td>\n",
       "      <td>0</td>\n",
       "      <td>15</td>\n",
       "    </tr>\n",
       "    <tr>\n",
       "      <th>Offspeed Pitch</th>\n",
       "      <td>93</td>\n",
       "      <td>251</td>\n",
       "      <td>0</td>\n",
       "    </tr>\n",
       "  </tbody>\n",
       "</table>\n",
       "</div>\n",
       "      <button class=\"colab-df-convert\" onclick=\"convertToInteractive('df-8ae786e1-df3b-4913-b880-124aeec18b25')\"\n",
       "              title=\"Convert this dataframe to an interactive table.\"\n",
       "              style=\"display:none;\">\n",
       "        \n",
       "  <svg xmlns=\"http://www.w3.org/2000/svg\" height=\"24px\"viewBox=\"0 0 24 24\"\n",
       "       width=\"24px\">\n",
       "    <path d=\"M0 0h24v24H0V0z\" fill=\"none\"/>\n",
       "    <path d=\"M18.56 5.44l.94 2.06.94-2.06 2.06-.94-2.06-.94-.94-2.06-.94 2.06-2.06.94zm-11 1L8.5 8.5l.94-2.06 2.06-.94-2.06-.94L8.5 2.5l-.94 2.06-2.06.94zm10 10l.94 2.06.94-2.06 2.06-.94-2.06-.94-.94-2.06-.94 2.06-2.06.94z\"/><path d=\"M17.41 7.96l-1.37-1.37c-.4-.4-.92-.59-1.43-.59-.52 0-1.04.2-1.43.59L10.3 9.45l-7.72 7.72c-.78.78-.78 2.05 0 2.83L4 21.41c.39.39.9.59 1.41.59.51 0 1.02-.2 1.41-.59l7.78-7.78 2.81-2.81c.8-.78.8-2.07 0-2.86zM5.41 20L4 18.59l7.72-7.72 1.47 1.35L5.41 20z\"/>\n",
       "  </svg>\n",
       "      </button>\n",
       "      \n",
       "  <style>\n",
       "    .colab-df-container {\n",
       "      display:flex;\n",
       "      flex-wrap:wrap;\n",
       "      gap: 12px;\n",
       "    }\n",
       "\n",
       "    .colab-df-convert {\n",
       "      background-color: #E8F0FE;\n",
       "      border: none;\n",
       "      border-radius: 50%;\n",
       "      cursor: pointer;\n",
       "      display: none;\n",
       "      fill: #1967D2;\n",
       "      height: 32px;\n",
       "      padding: 0 0 0 0;\n",
       "      width: 32px;\n",
       "    }\n",
       "\n",
       "    .colab-df-convert:hover {\n",
       "      background-color: #E2EBFA;\n",
       "      box-shadow: 0px 1px 2px rgba(60, 64, 67, 0.3), 0px 1px 3px 1px rgba(60, 64, 67, 0.15);\n",
       "      fill: #174EA6;\n",
       "    }\n",
       "\n",
       "    [theme=dark] .colab-df-convert {\n",
       "      background-color: #3B4455;\n",
       "      fill: #D2E3FC;\n",
       "    }\n",
       "\n",
       "    [theme=dark] .colab-df-convert:hover {\n",
       "      background-color: #434B5C;\n",
       "      box-shadow: 0px 1px 3px 1px rgba(0, 0, 0, 0.15);\n",
       "      filter: drop-shadow(0px 1px 2px rgba(0, 0, 0, 0.3));\n",
       "      fill: #FFFFFF;\n",
       "    }\n",
       "  </style>\n",
       "\n",
       "      <script>\n",
       "        const buttonEl =\n",
       "          document.querySelector('#df-8ae786e1-df3b-4913-b880-124aeec18b25 button.colab-df-convert');\n",
       "        buttonEl.style.display =\n",
       "          google.colab.kernel.accessAllowed ? 'block' : 'none';\n",
       "\n",
       "        async function convertToInteractive(key) {\n",
       "          const element = document.querySelector('#df-8ae786e1-df3b-4913-b880-124aeec18b25');\n",
       "          const dataTable =\n",
       "            await google.colab.kernel.invokeFunction('convertToInteractive',\n",
       "                                                     [key], {});\n",
       "          if (!dataTable) return;\n",
       "\n",
       "          const docLinkHtml = 'Like what you see? Visit the ' +\n",
       "            '<a target=\"_blank\" href=https://colab.research.google.com/notebooks/data_table.ipynb>data table notebook</a>'\n",
       "            + ' to learn more about interactive tables.';\n",
       "          element.innerHTML = '';\n",
       "          dataTable['output_type'] = 'display_data';\n",
       "          await google.colab.output.renderOutput(dataTable, element);\n",
       "          const docLink = document.createElement('div');\n",
       "          docLink.innerHTML = docLinkHtml;\n",
       "          element.appendChild(docLink);\n",
       "        }\n",
       "      </script>\n",
       "    </div>\n",
       "  </div>\n",
       "  "
      ],
      "text/plain": [
       "Actual_Label        Breaking Pitch  Fastball  Offspeed Pitch\n",
       "Cluster_Assignment                                          \n",
       "Breaking Pitch                   0       153               0\n",
       "Fastball                        34         0              15\n",
       "Offspeed Pitch                  93       251               0"
      ]
     },
     "execution_count": 200,
     "metadata": {},
     "output_type": "execute_result"
    }
   ],
   "source": [
    "pd.crosstab(righty_features_appended[righty_features_appended['Cluster_Assignment'] != righty_features_appended['Actual_Label']]['Cluster_Assignment'], \n",
    "              righty_features_appended[righty_features_appended['Cluster_Assignment'] != righty_features_appended['Actual_Label']]['Actual_Label'])"
   ]
  },
  {
   "cell_type": "markdown",
   "metadata": {
    "id": "nayO987_blmh"
   },
   "source": [
    "Most discrepancies were fastballs being put in the breaking pitch or offspeed pitch clusters."
   ]
  },
  {
   "cell_type": "markdown",
   "metadata": {
    "id": "6sFdFi40mu03"
   },
   "source": [
    "We do the same things for lefties."
   ]
  },
  {
   "cell_type": "code",
   "execution_count": 201,
   "metadata": {
    "colab": {
     "base_uri": "https://localhost:8080/"
    },
    "id": "XWw75ag5SCrt",
    "outputId": "469ad36b-1bf5-4c4f-e733-a6ce2ee73dcc"
   },
   "outputs": [
    {
     "data": {
      "text/plain": [
       "319"
      ]
     },
     "execution_count": 201,
     "metadata": {},
     "output_type": "execute_result"
    }
   ],
   "source": [
    "(lefty_features_appended['Cluster_Assignment'] != lefty_features_appended['Actual_Label']).apply(lambda x: int(x)).sum()"
   ]
  },
  {
   "cell_type": "code",
   "execution_count": 202,
   "metadata": {
    "colab": {
     "base_uri": "https://localhost:8080/"
    },
    "id": "ZyA4fRVVSIDR",
    "outputId": "ff570095-dd90-4ab3-b901-616370d639c4"
   },
   "outputs": [
    {
     "data": {
      "text/plain": [
       "1991"
      ]
     },
     "execution_count": 202,
     "metadata": {},
     "output_type": "execute_result"
    }
   ],
   "source": [
    "len(lefty_features_appended)"
   ]
  },
  {
   "cell_type": "code",
   "execution_count": 203,
   "metadata": {
    "colab": {
     "base_uri": "https://localhost:8080/"
    },
    "id": "AsrJs_qPm2LC",
    "outputId": "126eec54-42c1-4341-941f-af5700439260"
   },
   "outputs": [
    {
     "data": {
      "text/plain": [
       "0.16022099447513813"
      ]
     },
     "execution_count": 203,
     "metadata": {},
     "output_type": "execute_result"
    }
   ],
   "source": [
    "(lefty_features_appended['Cluster_Assignment'] != lefty_features_appended['Actual_Label']).apply(lambda x: int(x)).sum() / len(lefty_features_appended)"
   ]
  },
  {
   "cell_type": "code",
   "execution_count": 204,
   "metadata": {
    "colab": {
     "base_uri": "https://localhost:8080/"
    },
    "id": "9tp23WccVx1y",
    "outputId": "47e7e34d-2715-44f3-eaa1-fd1ae6540649"
   },
   "outputs": [
    {
     "data": {
      "text/plain": [
       "Sinker             0.410658\n",
       "Cutter             0.332288\n",
       "Slider             0.103448\n",
       "4-Seam Fastball    0.047022\n",
       "Changeup           0.047022\n",
       "Curveball          0.037618\n",
       "Fastball           0.021944\n",
       "Name: pitch_name, dtype: float64"
      ]
     },
     "execution_count": 204,
     "metadata": {},
     "output_type": "execute_result"
    }
   ],
   "source": [
    "lefty_features_appended[lefty_features_appended['Cluster_Assignment'] != lefty_features_appended['Actual_Label']]['pitch_name'].value_counts() / 319"
   ]
  },
  {
   "cell_type": "code",
   "execution_count": 205,
   "metadata": {
    "colab": {
     "base_uri": "https://localhost:8080/"
    },
    "id": "jOkGdLFCX_N6",
    "outputId": "03c227a5-63f1-4333-a555-1470e8855edd"
   },
   "outputs": [
    {
     "data": {
      "text/plain": [
       "4-Seam Fastball    0.353089\n",
       "Changeup           0.183325\n",
       "Sinker             0.160221\n",
       "Slider             0.136113\n",
       "Cutter             0.086389\n",
       "Curveball          0.066298\n",
       "Knuckle Curve      0.008538\n",
       "Fastball           0.003516\n",
       "Split-Finger       0.002511\n",
       "Name: pitch_name, dtype: float64"
      ]
     },
     "execution_count": 205,
     "metadata": {},
     "output_type": "execute_result"
    }
   ],
   "source": [
    "lefty_features_appended['pitch_name'].value_counts() / 1991"
   ]
  },
  {
   "cell_type": "code",
   "execution_count": 206,
   "metadata": {
    "colab": {
     "base_uri": "https://localhost:8080/",
     "height": 175
    },
    "id": "78eMsRxvcHch",
    "outputId": "b8dbe015-9596-4e61-bb32-d58bdc65eda8"
   },
   "outputs": [
    {
     "data": {
      "text/html": [
       "\n",
       "  <div id=\"df-1923b30e-c5da-42ef-a835-4a66e47e137f\">\n",
       "    <div class=\"colab-df-container\">\n",
       "      <div>\n",
       "<style scoped>\n",
       "    .dataframe tbody tr th:only-of-type {\n",
       "        vertical-align: middle;\n",
       "    }\n",
       "\n",
       "    .dataframe tbody tr th {\n",
       "        vertical-align: top;\n",
       "    }\n",
       "\n",
       "    .dataframe thead th {\n",
       "        text-align: right;\n",
       "    }\n",
       "</style>\n",
       "<table border=\"1\" class=\"dataframe\">\n",
       "  <thead>\n",
       "    <tr style=\"text-align: right;\">\n",
       "      <th>Actual_Label</th>\n",
       "      <th>Breaking Pitch</th>\n",
       "      <th>Fastball</th>\n",
       "      <th>Offspeed Pitch</th>\n",
       "    </tr>\n",
       "    <tr>\n",
       "      <th>Cluster_Assignment</th>\n",
       "      <th></th>\n",
       "      <th></th>\n",
       "      <th></th>\n",
       "    </tr>\n",
       "  </thead>\n",
       "  <tbody>\n",
       "    <tr>\n",
       "      <th>Breaking Pitch</th>\n",
       "      <td>0</td>\n",
       "      <td>72</td>\n",
       "      <td>0</td>\n",
       "    </tr>\n",
       "    <tr>\n",
       "      <th>Fastball</th>\n",
       "      <td>11</td>\n",
       "      <td>0</td>\n",
       "      <td>15</td>\n",
       "    </tr>\n",
       "    <tr>\n",
       "      <th>Offspeed Pitch</th>\n",
       "      <td>34</td>\n",
       "      <td>187</td>\n",
       "      <td>0</td>\n",
       "    </tr>\n",
       "  </tbody>\n",
       "</table>\n",
       "</div>\n",
       "      <button class=\"colab-df-convert\" onclick=\"convertToInteractive('df-1923b30e-c5da-42ef-a835-4a66e47e137f')\"\n",
       "              title=\"Convert this dataframe to an interactive table.\"\n",
       "              style=\"display:none;\">\n",
       "        \n",
       "  <svg xmlns=\"http://www.w3.org/2000/svg\" height=\"24px\"viewBox=\"0 0 24 24\"\n",
       "       width=\"24px\">\n",
       "    <path d=\"M0 0h24v24H0V0z\" fill=\"none\"/>\n",
       "    <path d=\"M18.56 5.44l.94 2.06.94-2.06 2.06-.94-2.06-.94-.94-2.06-.94 2.06-2.06.94zm-11 1L8.5 8.5l.94-2.06 2.06-.94-2.06-.94L8.5 2.5l-.94 2.06-2.06.94zm10 10l.94 2.06.94-2.06 2.06-.94-2.06-.94-.94-2.06-.94 2.06-2.06.94z\"/><path d=\"M17.41 7.96l-1.37-1.37c-.4-.4-.92-.59-1.43-.59-.52 0-1.04.2-1.43.59L10.3 9.45l-7.72 7.72c-.78.78-.78 2.05 0 2.83L4 21.41c.39.39.9.59 1.41.59.51 0 1.02-.2 1.41-.59l7.78-7.78 2.81-2.81c.8-.78.8-2.07 0-2.86zM5.41 20L4 18.59l7.72-7.72 1.47 1.35L5.41 20z\"/>\n",
       "  </svg>\n",
       "      </button>\n",
       "      \n",
       "  <style>\n",
       "    .colab-df-container {\n",
       "      display:flex;\n",
       "      flex-wrap:wrap;\n",
       "      gap: 12px;\n",
       "    }\n",
       "\n",
       "    .colab-df-convert {\n",
       "      background-color: #E8F0FE;\n",
       "      border: none;\n",
       "      border-radius: 50%;\n",
       "      cursor: pointer;\n",
       "      display: none;\n",
       "      fill: #1967D2;\n",
       "      height: 32px;\n",
       "      padding: 0 0 0 0;\n",
       "      width: 32px;\n",
       "    }\n",
       "\n",
       "    .colab-df-convert:hover {\n",
       "      background-color: #E2EBFA;\n",
       "      box-shadow: 0px 1px 2px rgba(60, 64, 67, 0.3), 0px 1px 3px 1px rgba(60, 64, 67, 0.15);\n",
       "      fill: #174EA6;\n",
       "    }\n",
       "\n",
       "    [theme=dark] .colab-df-convert {\n",
       "      background-color: #3B4455;\n",
       "      fill: #D2E3FC;\n",
       "    }\n",
       "\n",
       "    [theme=dark] .colab-df-convert:hover {\n",
       "      background-color: #434B5C;\n",
       "      box-shadow: 0px 1px 3px 1px rgba(0, 0, 0, 0.15);\n",
       "      filter: drop-shadow(0px 1px 2px rgba(0, 0, 0, 0.3));\n",
       "      fill: #FFFFFF;\n",
       "    }\n",
       "  </style>\n",
       "\n",
       "      <script>\n",
       "        const buttonEl =\n",
       "          document.querySelector('#df-1923b30e-c5da-42ef-a835-4a66e47e137f button.colab-df-convert');\n",
       "        buttonEl.style.display =\n",
       "          google.colab.kernel.accessAllowed ? 'block' : 'none';\n",
       "\n",
       "        async function convertToInteractive(key) {\n",
       "          const element = document.querySelector('#df-1923b30e-c5da-42ef-a835-4a66e47e137f');\n",
       "          const dataTable =\n",
       "            await google.colab.kernel.invokeFunction('convertToInteractive',\n",
       "                                                     [key], {});\n",
       "          if (!dataTable) return;\n",
       "\n",
       "          const docLinkHtml = 'Like what you see? Visit the ' +\n",
       "            '<a target=\"_blank\" href=https://colab.research.google.com/notebooks/data_table.ipynb>data table notebook</a>'\n",
       "            + ' to learn more about interactive tables.';\n",
       "          element.innerHTML = '';\n",
       "          dataTable['output_type'] = 'display_data';\n",
       "          await google.colab.output.renderOutput(dataTable, element);\n",
       "          const docLink = document.createElement('div');\n",
       "          docLink.innerHTML = docLinkHtml;\n",
       "          element.appendChild(docLink);\n",
       "        }\n",
       "      </script>\n",
       "    </div>\n",
       "  </div>\n",
       "  "
      ],
      "text/plain": [
       "Actual_Label        Breaking Pitch  Fastball  Offspeed Pitch\n",
       "Cluster_Assignment                                          \n",
       "Breaking Pitch                   0        72               0\n",
       "Fastball                        11         0              15\n",
       "Offspeed Pitch                  34       187               0"
      ]
     },
     "execution_count": 206,
     "metadata": {},
     "output_type": "execute_result"
    }
   ],
   "source": [
    "pd.crosstab(lefty_features_appended[lefty_features_appended['Cluster_Assignment'] != lefty_features_appended['Actual_Label']]['Cluster_Assignment'], \n",
    "              lefty_features_appended[lefty_features_appended['Cluster_Assignment'] != lefty_features_appended['Actual_Label']]['Actual_Label'])"
   ]
  },
  {
   "cell_type": "markdown",
   "metadata": {
    "id": "OIrB7HxXcgQD"
   },
   "source": [
    "For lefties, we see something similar: sinkers and sliders are the pitchest with the most relative discrepancies.  \n",
    "\n",
    "However, we do see some differences from the righties. About 16% of pitches have classification discrepancies. Also, sinkers make up almost half of all such discrepancies. And we see a greater proportion of fastballs being put in the offspeed pitch cluster. "
   ]
  },
  {
   "cell_type": "markdown",
   "metadata": {
    "id": "eQJ9J0ageDOd"
   },
   "source": [
    "Overall, we have:"
   ]
  },
  {
   "cell_type": "code",
   "execution_count": 207,
   "metadata": {
    "colab": {
     "base_uri": "https://localhost:8080/"
    },
    "id": "FFSxQXh4dPZ9",
    "outputId": "0ab11f51-2d03-47f3-8a77-3889cca42a41"
   },
   "outputs": [
    {
     "name": "stdout",
     "output_type": "stream",
     "text": [
      "Righty label discrepancy rate: 0.11420204978038068\n",
      "Lefty label discrepancy rate: 0.16022099447513813\n"
     ]
    }
   ],
   "source": [
    "print(f'Righty label discrepancy rate: {546 / 4781}')\n",
    "print(f'Lefty label discrepancy rate: {319 / 1991}')"
   ]
  },
  {
   "cell_type": "markdown",
   "metadata": {
    "id": "UZ3AFX3JeEnk"
   },
   "source": [
    "Aside from there being less lefty data, I think another possible reason for lefty pitches seeing more labeling discrepancies is that there's probably a wider range of professional left-handed pitchers than there is of righties. For being rarer, lefties can usually get away with having less fast fastballs or less breaking breaking pitches because they have the advantage of batters being less accustomed to them. But of course, you'll also have lefties with incredible physical abilities as well.  \n",
    "\n",
    "Another quick look at the fastball clusters shows this dynamic playing out in terms of release speed. Lefties have a lower average velocity, wider interquartile range, and higher standard deviation, though a lefty actually comes out on top in terms of fastest pitch observed during this 11-day period."
   ]
  },
  {
   "cell_type": "code",
   "execution_count": 208,
   "metadata": {
    "colab": {
     "base_uri": "https://localhost:8080/"
    },
    "id": "rdxzjdjgoIk2",
    "outputId": "64f100bd-fe66-4bb3-d1f8-2b95c4a3e954"
   },
   "outputs": [
    {
     "data": {
      "text/plain": [
       "count    968.000000\n",
       "mean      92.545764\n",
       "std        2.621304\n",
       "min       83.400000\n",
       "25%       91.000000\n",
       "50%       92.600000\n",
       "75%       94.200000\n",
       "max      101.600000\n",
       "Name: release_speed, dtype: float64"
      ]
     },
     "execution_count": 208,
     "metadata": {},
     "output_type": "execute_result"
    }
   ],
   "source": [
    "#lefty fastballs\n",
    "lefty_features[lefty_features['Cluster'] == 0]['release_speed'].describe()"
   ]
  },
  {
   "cell_type": "code",
   "execution_count": 209,
   "metadata": {
    "colab": {
     "base_uri": "https://localhost:8080/"
    },
    "id": "ywQiOGrJoIk1",
    "outputId": "0ec3fd4f-4177-434e-b615-1a90c0313e99"
   },
   "outputs": [
    {
     "data": {
      "text/plain": [
       "count    2305.000000\n",
       "mean       93.880651\n",
       "std         2.306057\n",
       "min        86.200000\n",
       "25%        92.500000\n",
       "50%        93.900000\n",
       "75%        95.400000\n",
       "max       101.300000\n",
       "Name: release_speed, dtype: float64"
      ]
     },
     "execution_count": 209,
     "metadata": {},
     "output_type": "execute_result"
    }
   ],
   "source": [
    "#looking like fastballs to me\n",
    "righty_features[righty_features['Cluster'] == 1]['release_speed'].describe()"
   ]
  },
  {
   "cell_type": "code",
   "execution_count": 210,
   "metadata": {
    "colab": {
     "base_uri": "https://localhost:8080/",
     "height": 191
    },
    "id": "C-3zV4wbf_Wl",
    "outputId": "e11fdb5f-63f8-4456-b2ef-e0dca011b49a"
   },
   "outputs": [
    {
     "data": {
      "text/html": [
       "\n",
       "  <div id=\"df-80218da4-01a7-4266-aa11-b579db5a832c\">\n",
       "    <div class=\"colab-df-container\">\n",
       "      <div>\n",
       "<style scoped>\n",
       "    .dataframe tbody tr th:only-of-type {\n",
       "        vertical-align: middle;\n",
       "    }\n",
       "\n",
       "    .dataframe tbody tr th {\n",
       "        vertical-align: top;\n",
       "    }\n",
       "\n",
       "    .dataframe thead th {\n",
       "        text-align: right;\n",
       "    }\n",
       "</style>\n",
       "<table border=\"1\" class=\"dataframe\">\n",
       "  <thead>\n",
       "    <tr style=\"text-align: right;\">\n",
       "      <th></th>\n",
       "      <th>pitch_type</th>\n",
       "      <th>game_date</th>\n",
       "      <th>release_speed</th>\n",
       "      <th>release_pos_x</th>\n",
       "      <th>release_pos_z</th>\n",
       "      <th>player_name</th>\n",
       "      <th>batter</th>\n",
       "      <th>pitcher</th>\n",
       "      <th>events</th>\n",
       "      <th>description</th>\n",
       "      <th>...</th>\n",
       "      <th>fld_score</th>\n",
       "      <th>post_away_score</th>\n",
       "      <th>post_home_score</th>\n",
       "      <th>post_bat_score</th>\n",
       "      <th>post_fld_score</th>\n",
       "      <th>if_fielding_alignment</th>\n",
       "      <th>of_fielding_alignment</th>\n",
       "      <th>spin_axis</th>\n",
       "      <th>delta_home_win_exp</th>\n",
       "      <th>delta_run_exp</th>\n",
       "    </tr>\n",
       "  </thead>\n",
       "  <tbody>\n",
       "    <tr>\n",
       "      <th>19760</th>\n",
       "      <td>SI</td>\n",
       "      <td>2021-05-11</td>\n",
       "      <td>102.5</td>\n",
       "      <td>1.14</td>\n",
       "      <td>6.37</td>\n",
       "      <td>Alvarado, José</td>\n",
       "      <td>665742</td>\n",
       "      <td>621237</td>\n",
       "      <td>NaN</td>\n",
       "      <td>blocked_ball</td>\n",
       "      <td>...</td>\n",
       "      <td>3</td>\n",
       "      <td>3</td>\n",
       "      <td>2</td>\n",
       "      <td>2</td>\n",
       "      <td>3</td>\n",
       "      <td>Standard</td>\n",
       "      <td>Standard</td>\n",
       "      <td>154.0</td>\n",
       "      <td>0.0</td>\n",
       "      <td>0.052</td>\n",
       "    </tr>\n",
       "  </tbody>\n",
       "</table>\n",
       "<p>1 rows × 92 columns</p>\n",
       "</div>\n",
       "      <button class=\"colab-df-convert\" onclick=\"convertToInteractive('df-80218da4-01a7-4266-aa11-b579db5a832c')\"\n",
       "              title=\"Convert this dataframe to an interactive table.\"\n",
       "              style=\"display:none;\">\n",
       "        \n",
       "  <svg xmlns=\"http://www.w3.org/2000/svg\" height=\"24px\"viewBox=\"0 0 24 24\"\n",
       "       width=\"24px\">\n",
       "    <path d=\"M0 0h24v24H0V0z\" fill=\"none\"/>\n",
       "    <path d=\"M18.56 5.44l.94 2.06.94-2.06 2.06-.94-2.06-.94-.94-2.06-.94 2.06-2.06.94zm-11 1L8.5 8.5l.94-2.06 2.06-.94-2.06-.94L8.5 2.5l-.94 2.06-2.06.94zm10 10l.94 2.06.94-2.06 2.06-.94-2.06-.94-.94-2.06-.94 2.06-2.06.94z\"/><path d=\"M17.41 7.96l-1.37-1.37c-.4-.4-.92-.59-1.43-.59-.52 0-1.04.2-1.43.59L10.3 9.45l-7.72 7.72c-.78.78-.78 2.05 0 2.83L4 21.41c.39.39.9.59 1.41.59.51 0 1.02-.2 1.41-.59l7.78-7.78 2.81-2.81c.8-.78.8-2.07 0-2.86zM5.41 20L4 18.59l7.72-7.72 1.47 1.35L5.41 20z\"/>\n",
       "  </svg>\n",
       "      </button>\n",
       "      \n",
       "  <style>\n",
       "    .colab-df-container {\n",
       "      display:flex;\n",
       "      flex-wrap:wrap;\n",
       "      gap: 12px;\n",
       "    }\n",
       "\n",
       "    .colab-df-convert {\n",
       "      background-color: #E8F0FE;\n",
       "      border: none;\n",
       "      border-radius: 50%;\n",
       "      cursor: pointer;\n",
       "      display: none;\n",
       "      fill: #1967D2;\n",
       "      height: 32px;\n",
       "      padding: 0 0 0 0;\n",
       "      width: 32px;\n",
       "    }\n",
       "\n",
       "    .colab-df-convert:hover {\n",
       "      background-color: #E2EBFA;\n",
       "      box-shadow: 0px 1px 2px rgba(60, 64, 67, 0.3), 0px 1px 3px 1px rgba(60, 64, 67, 0.15);\n",
       "      fill: #174EA6;\n",
       "    }\n",
       "\n",
       "    [theme=dark] .colab-df-convert {\n",
       "      background-color: #3B4455;\n",
       "      fill: #D2E3FC;\n",
       "    }\n",
       "\n",
       "    [theme=dark] .colab-df-convert:hover {\n",
       "      background-color: #434B5C;\n",
       "      box-shadow: 0px 1px 3px 1px rgba(0, 0, 0, 0.15);\n",
       "      filter: drop-shadow(0px 1px 2px rgba(0, 0, 0, 0.3));\n",
       "      fill: #FFFFFF;\n",
       "    }\n",
       "  </style>\n",
       "\n",
       "      <script>\n",
       "        const buttonEl =\n",
       "          document.querySelector('#df-80218da4-01a7-4266-aa11-b579db5a832c button.colab-df-convert');\n",
       "        buttonEl.style.display =\n",
       "          google.colab.kernel.accessAllowed ? 'block' : 'none';\n",
       "\n",
       "        async function convertToInteractive(key) {\n",
       "          const element = document.querySelector('#df-80218da4-01a7-4266-aa11-b579db5a832c');\n",
       "          const dataTable =\n",
       "            await google.colab.kernel.invokeFunction('convertToInteractive',\n",
       "                                                     [key], {});\n",
       "          if (!dataTable) return;\n",
       "\n",
       "          const docLinkHtml = 'Like what you see? Visit the ' +\n",
       "            '<a target=\"_blank\" href=https://colab.research.google.com/notebooks/data_table.ipynb>data table notebook</a>'\n",
       "            + ' to learn more about interactive tables.';\n",
       "          element.innerHTML = '';\n",
       "          dataTable['output_type'] = 'display_data';\n",
       "          await google.colab.output.renderOutput(dataTable, element);\n",
       "          const docLink = document.createElement('div');\n",
       "          docLink.innerHTML = docLinkHtml;\n",
       "          element.appendChild(docLink);\n",
       "        }\n",
       "      </script>\n",
       "    </div>\n",
       "  </div>\n",
       "  "
      ],
      "text/plain": [
       "      pitch_type   game_date  release_speed  release_pos_x  release_pos_z  \\\n",
       "19760         SI  2021-05-11          102.5           1.14           6.37   \n",
       "\n",
       "          player_name  batter  pitcher events   description  ...  fld_score  \\\n",
       "19760  Alvarado, José  665742   621237    NaN  blocked_ball  ...          3   \n",
       "\n",
       "       post_away_score  post_home_score  post_bat_score  post_fld_score  \\\n",
       "19760                3                2               2               3   \n",
       "\n",
       "      if_fielding_alignment of_fielding_alignment spin_axis  \\\n",
       "19760              Standard              Standard     154.0   \n",
       "\n",
       "      delta_home_win_exp delta_run_exp  \n",
       "19760                0.0         0.052  \n",
       "\n",
       "[1 rows x 92 columns]"
      ]
     },
     "execution_count": 210,
     "metadata": {},
     "output_type": "execute_result"
    }
   ],
   "source": [
    "#102 mph\n",
    "mlb_raw[mlb_raw['release_speed'] == mlb_raw['release_speed'].max()]"
   ]
  },
  {
   "cell_type": "markdown",
   "metadata": {
    "id": "WUCC6s5sHmtX"
   },
   "source": [
    "# **Section 2**"
   ]
  },
  {
   "cell_type": "markdown",
   "metadata": {
    "id": "hh8aJBNvBdIV"
   },
   "source": [
    "# Supervised Learning: Predicting Swings and Misses "
   ]
  },
  {
   "cell_type": "markdown",
   "metadata": {
    "id": "7srGuv6qRHpQ"
   },
   "source": [
    "Now I'll look to see how well pitch characteristics can be used to predict whether a batter swung and missed. This label is engineered from the dataset's 'description' variable. The balance of the dataset turns out to be pretty consistent with season-long trends: About 10% of all pitches are swung on and missed.  \n",
    "\n",
    "Continuing with the handedness dichotomy, I break the data into lefty and righty sets to build two models. I also decide to use previous pitch data in the models. This means applying functions seperately -- i.e. to each hands' training and validation sets -- that, for pitches 2 and later in an at-bat, populate columns with previous pitch info, and for pitch 1 of an at-bat, will impute training set medians, which should approximate league averages for those hands. \n",
    "\n",
    "I think this all requires that the data go unshuffled before being split into training and test sets, that way previous pitch info is readily available. And wanting to avoid data leakage, I can't impute training set first pitch observations with training set medians without having split the data first.  \n",
    "\n",
    "I think this is worth it. As mentioned, the previous pitch of an at-bat influences the effectiveness of the upcoming one. For instance, a changeup should be much, much more likely to be swung on and missed if following a fastball than if following a changeup.  "
   ]
  },
  {
   "cell_type": "markdown",
   "metadata": {
    "id": "cBSZaDgG2Blc"
   },
   "source": [
    "Below, I create the datasets necessary for my model(s). I create previous pitch columns with temporary values to be replaced later. "
   ]
  },
  {
   "cell_type": "code",
   "execution_count": 211,
   "metadata": {
    "id": "hXwlN3PPXFD3"
   },
   "outputs": [],
   "source": [
    "#adding label\n",
    "pitches['Missed_Swing'] = (pitches['description'].str.contains('swinging_strike')).apply(int)\n",
    "\n",
    "#breaking by handedness and dropping observations with NAs in variable columns\n",
    "righty_set = pitches[pitches['p_throws'] == 'R'].dropna(subset=['release_spin_rate', 'spin_axis', 'release_extension'])\n",
    "lefty_set = pitches[pitches['p_throws'] == 'L'].dropna(subset=['release_spin_rate', 'spin_axis', 'release_extension'])\n",
    "\n",
    "#creating columns to populate\n",
    "\n",
    "#original is 2nd column index\n",
    "righty_set['prev_release_speed'] = 37 #taking the 37th column index, and so on...\n",
    "lefty_set['prev_release_speed'] = 37\n",
    "\n",
    "#original is 13th column index\n",
    "righty_set['prev_pfx_x'] = 38\n",
    "lefty_set['prev_pfx_x'] = 38\n",
    "\n",
    "#original is 14th column index\n",
    "righty_set['prev_pfx_z'] = 39\n",
    "lefty_set['prev_pfx_z'] = 39\n",
    "\n",
    "#original is 19th column index\n",
    "righty_set['prev_vx0'] = 40\n",
    "lefty_set['prev_vx0'] = 40\n",
    "\n",
    "#original is 20th column index\n",
    "righty_set['prev_vy0'] = 41\n",
    "lefty_set['prev_vy0'] = 41\n",
    "\n",
    "#original is 21st column index\n",
    "righty_set['prev_vz0'] = 42\n",
    "lefty_set['prev_vz0'] = 42\n",
    "\n",
    "#original is 22nd column index\n",
    "righty_set['prev_ax'] = 43\n",
    "lefty_set['prev_ax'] = 43\n",
    "\n",
    "#original is 23rd column index\n",
    "righty_set['prev_ay'] = 44\n",
    "lefty_set['prev_ay'] = 44\n",
    "\n",
    "#original is 24th column index\n",
    "righty_set['prev_az'] = 45\n",
    "lefty_set['prev_az'] = 45\n",
    "\n",
    "#original is 28th column index\n",
    "righty_set['prev_release_spin_rate'] = 46\n",
    "lefty_set['prev_release_spin_rate'] = 46\n",
    "\n",
    "#original is 35 column index\n",
    "righty_set['prev_spin_axis'] = 47\n",
    "lefty_set['prev_spin_axis'] = 47"
   ]
  },
  {
   "cell_type": "markdown",
   "metadata": {
    "id": "e_kgy_vU2d7i"
   },
   "source": [
    "Now I'll split each dataframe into training, validation, and test sets. "
   ]
  },
  {
   "cell_type": "code",
   "execution_count": 212,
   "metadata": {
    "id": "HEh7bc6gZV2T"
   },
   "outputs": [],
   "source": [
    "#righty split\n",
    "righty_features = righty_set.drop('Missed_Swing', axis=1)\n",
    "righty_label = righty_set['Missed_Swing']\n",
    "righty_train_features, righty_temp_features, righty_train_y, righty_temp_y = train_test_split(righty_features, righty_label, test_size=0.50, random_state=5, shuffle=False)\n",
    "righty_val_features, righty_test_features, righty_val_y, righty_test_y = train_test_split(righty_temp_features, righty_temp_y, test_size=0.25, random_state=5, shuffle=False)\n",
    "\n",
    "#lefty split\n",
    "lefty_features = lefty_set.drop('Missed_Swing', axis=1)\n",
    "lefty_label = lefty_set['Missed_Swing']\n",
    "lefty_train_features, lefty_temp_features, lefty_train_y, lefty_temp_y = train_test_split(lefty_features, lefty_label, test_size=0.50, random_state=5, shuffle=False)\n",
    "lefty_val_features, lefty_test_features, lefty_val_y, lefty_test_y = train_test_split(lefty_temp_features, lefty_temp_y, test_size=0.25, random_state=5, shuffle=False)"
   ]
  },
  {
   "cell_type": "code",
   "execution_count": 213,
   "metadata": {
    "colab": {
     "base_uri": "https://localhost:8080/"
    },
    "id": "hBdN_AWhmGYl",
    "outputId": "34b22bb7-7b41-49c1-edf8-9bb85d422ec6"
   },
   "outputs": [
    {
     "name": "stdout",
     "output_type": "stream",
     "text": [
      "90.1 -0.51 0.76 5.543552910520634 -131.09852129848025 -4.27602536598665 -7.496699973974847 26.930507111799727 -22.850722218471827 2315.0 207.0\n"
     ]
    }
   ],
   "source": [
    "print(righty_train_features['release_speed'].median(), righty_train_features['pfx_x'].median(), righty_train_features['pfx_z'].median(), \n",
    "      righty_train_features['vx0'].median(), righty_train_features['vy0'].median(), righty_train_features['vz0'].median(), \n",
    "      righty_train_features['ax'].median(), righty_train_features['ay'].median(), righty_train_features['az'].median(), \n",
    "      righty_train_features['release_spin_rate'].median(), righty_train_features['spin_axis'].median())"
   ]
  },
  {
   "cell_type": "markdown",
   "metadata": {
    "id": "Xcr5_6_wdzru"
   },
   "source": [
    "Now I'll correctly populate those previous pitch columns. I define functions to do so and use them. "
   ]
  },
  {
   "cell_type": "code",
   "execution_count": 214,
   "metadata": {
    "id": "_eQUYPixhaIi"
   },
   "outputs": [],
   "source": [
    "def righty_prev_pitch_info(df):\n",
    "  z = 0\n",
    "  while z < (len(df) - 1):\n",
    "    if (df.iloc[z + 1, 30] == df.iloc[z, 30]) & (df.iloc[z, 33] != 1):\n",
    "      df.iloc[z, 37] = df.iloc[z + 1, 2]\n",
    "      df.iloc[z, 38] = df.iloc[z + 1, 13]\n",
    "      df.iloc[z, 39] = df.iloc[z + 1, 14]\n",
    "      df.iloc[z, 40] = df.iloc[z + 1, 19]\n",
    "      df.iloc[z, 41] = df.iloc[z + 1, 20]\n",
    "      df.iloc[z, 42] = df.iloc[z + 1, 21]\n",
    "      df.iloc[z, 43] = df.iloc[z + 1, 22]\n",
    "      df.iloc[z, 44] = df.iloc[z + 1, 23]\n",
    "      df.iloc[z, 45] = df.iloc[z + 1, 24]\n",
    "      df.iloc[z, 46] = df.iloc[z + 1, 28]\n",
    "      df.iloc[z, 47] = df.iloc[z + 1, 35]\n",
    "    else:\n",
    "      df.iloc[z, 37] = 90.1\n",
    "      df.iloc[z, 38] = -0.51\n",
    "      df.iloc[z, 39] = 0.76\n",
    "      df.iloc[z, 40] = 5.543552910520634\n",
    "      df.iloc[z, 41] = -131.09852129848025\n",
    "      df.iloc[z, 42] = -4.27602536598665\n",
    "      df.iloc[z, 43] = -7.496699973974847\n",
    "      df.iloc[z, 44] = 26.930507111799727\n",
    "      df.iloc[z, 45] = -22.850722218471827\n",
    "      df.iloc[z, 46] = 2315.0\n",
    "      df.iloc[z, 47] = 207.0\n",
    "    z += 1\n",
    "  df.iloc[len(df) - 1, 37] = 90.1\n",
    "  df.iloc[len(df) - 1, 38] = -0.51\n",
    "  df.iloc[len(df) - 1, 39] = 0.76\n",
    "  df.iloc[len(df) - 1, 40] = 5.543552910520634\n",
    "  df.iloc[len(df) - 1, 41] = -131.09852129848025\n",
    "  df.iloc[len(df) - 1, 42] = -4.27602536598665\n",
    "  df.iloc[len(df) - 1, 43] = -7.496699973974847\n",
    "  df.iloc[len(df) - 1, 44] = 26.930507111799727\n",
    "  df.iloc[len(df) - 1, 45] = -22.850722218471827\n",
    "  df.iloc[len(df) - 1, 46] = 2315.0\n",
    "  df.iloc[len(df) - 1, 47] = 207.0"
   ]
  },
  {
   "cell_type": "code",
   "execution_count": 215,
   "metadata": {
    "id": "laoObsjkpcNp"
   },
   "outputs": [],
   "source": [
    "righty_prev_pitch_info(righty_train_features)"
   ]
  },
  {
   "cell_type": "code",
   "execution_count": 216,
   "metadata": {
    "id": "BfyjvIMYsFJL"
   },
   "outputs": [],
   "source": [
    "righty_prev_pitch_info(righty_val_features)\n",
    "righty_prev_pitch_info(righty_test_features)"
   ]
  },
  {
   "cell_type": "code",
   "execution_count": 217,
   "metadata": {
    "colab": {
     "base_uri": "https://localhost:8080/"
    },
    "id": "-ILkm5N-sPoG",
    "outputId": "06805483-d150-46e7-cebc-50f54aca30fe"
   },
   "outputs": [
    {
     "name": "stdout",
     "output_type": "stream",
     "text": [
      "88.6 0.55 0.89 -5.80599411955417 -128.8998603078395 -4.330774558708322 7.823901037796297 26.429918314192925 -21.686642796533818 2249.0 149.0\n"
     ]
    }
   ],
   "source": [
    "print(lefty_train_features['release_speed'].median(), lefty_train_features['pfx_x'].median(), lefty_train_features['pfx_z'].median(), \n",
    "      lefty_train_features['vx0'].median(), lefty_train_features['vy0'].median(), lefty_train_features['vz0'].median(), \n",
    "      lefty_train_features['ax'].median(), lefty_train_features['ay'].median(), lefty_train_features['az'].median(), \n",
    "      lefty_train_features['release_spin_rate'].median(), lefty_train_features['spin_axis'].median())"
   ]
  },
  {
   "cell_type": "code",
   "execution_count": 218,
   "metadata": {
    "id": "_l4Up5rasqaO"
   },
   "outputs": [],
   "source": [
    "def lefty_prev_pitch_info(df):\n",
    "  z = 0\n",
    "  while z < (len(df) - 1):\n",
    "    if (df.iloc[z + 1, 30] == df.iloc[z, 30]) & (df.iloc[z, 33] != 1):\n",
    "      df.iloc[z, 37] = df.iloc[z + 1, 2]\n",
    "      df.iloc[z, 38] = df.iloc[z + 1, 13]\n",
    "      df.iloc[z, 39] = df.iloc[z + 1, 14]\n",
    "      df.iloc[z, 40] = df.iloc[z + 1, 19]\n",
    "      df.iloc[z, 41] = df.iloc[z + 1, 20]\n",
    "      df.iloc[z, 42] = df.iloc[z + 1, 21]\n",
    "      df.iloc[z, 43] = df.iloc[z + 1, 22]\n",
    "      df.iloc[z, 44] = df.iloc[z + 1, 23]\n",
    "      df.iloc[z, 45] = df.iloc[z + 1, 24]\n",
    "      df.iloc[z, 46] = df.iloc[z + 1, 28]\n",
    "      df.iloc[z, 47] = df.iloc[z + 1, 35]\n",
    "    else:\n",
    "      df.iloc[z, 37] = 88.6\n",
    "      df.iloc[z, 38] = 0.55\n",
    "      df.iloc[z, 39] = 0.89\n",
    "      df.iloc[z, 40] = -5.80599411955417\n",
    "      df.iloc[z, 41] = -128.8998603078395\n",
    "      df.iloc[z, 42] = -4.330774558708322\n",
    "      df.iloc[z, 43] = 7.823901037796297\n",
    "      df.iloc[z, 44] = 26.429918314192925\n",
    "      df.iloc[z, 45] = -21.686642796533818\n",
    "      df.iloc[z, 46] = 2249.0\n",
    "      df.iloc[z, 47] = 149.0\n",
    "    z += 1\n",
    "  df.iloc[len(df) - 1, 37] = 88.6\n",
    "  df.iloc[len(df) - 1, 38] = 0.55\n",
    "  df.iloc[len(df) - 1, 39] = 0.89\n",
    "  df.iloc[len(df) - 1, 40] = -5.80599411955417\n",
    "  df.iloc[len(df) - 1, 41] = -128.8998603078395\n",
    "  df.iloc[len(df) - 1, 42] = -4.330774558708322\n",
    "  df.iloc[len(df) - 1, 43] = 7.823901037796297\n",
    "  df.iloc[len(df) - 1, 44] = 26.429918314192925\n",
    "  df.iloc[len(df) - 1, 45] = -21.686642796533818\n",
    "  df.iloc[len(df) - 1, 46] = 2249.0\n",
    "  df.iloc[len(df) - 1, 47] = 149.0"
   ]
  },
  {
   "cell_type": "code",
   "execution_count": 219,
   "metadata": {
    "id": "JKyyZMnwvYyY"
   },
   "outputs": [],
   "source": [
    "lefty_prev_pitch_info(lefty_train_features)"
   ]
  },
  {
   "cell_type": "code",
   "execution_count": 220,
   "metadata": {
    "id": "SzDTnqOkt6iV"
   },
   "outputs": [],
   "source": [
    "lefty_prev_pitch_info(lefty_val_features)\n",
    "lefty_prev_pitch_info(lefty_test_features)"
   ]
  },
  {
   "cell_type": "code",
   "execution_count": 221,
   "metadata": {
    "id": "8YWWa8y37q2I"
   },
   "outputs": [],
   "source": [
    "from sklearn.preprocessing import StandardScaler\n",
    "scaler = StandardScaler()"
   ]
  },
  {
   "cell_type": "markdown",
   "metadata": {
    "id": "-v_qiwLy2_dE"
   },
   "source": [
    "Now I filter to features and scale them for later use."
   ]
  },
  {
   "cell_type": "code",
   "execution_count": 222,
   "metadata": {
    "id": "j56RwJhY4zrD"
   },
   "outputs": [],
   "source": [
    "X_list = ['release_speed', 'pfx_x', 'pfx_z', 'vx0', 'vy0', 'vz0', 'ax', 'ay', 'az', 'release_spin_rate', 'spin_axis', 'release_pos_x', 'release_pos_z', 'zone', 'balls', 'strikes', 'plate_x', 'plate_z', 'effective_speed', 'release_extension', 'release_pos_y', 'prev_release_speed', 'prev_pfx_x', 'prev_pfx_z', 'prev_vx0', 'prev_vy0', 'prev_vz0', 'prev_ax', 'prev_ay', 'prev_az', 'prev_release_spin_rate', 'prev_spin_axis']\n",
    "\n",
    "righty_train_X = righty_train_features[X_list]\n",
    "righty_train_X_scaled = scaler.fit_transform(righty_train_X)\n",
    "\n",
    "righty_val_X = righty_val_features[X_list]\n",
    "righty_val_X_scaled = scaler.fit_transform(righty_val_X)\n",
    "\n",
    "righty_test_X = righty_test_features[X_list]\n",
    "righty_test_X_scaled = scaler.fit_transform(righty_test_X)\n",
    "\n",
    "\n",
    "lefty_train_X = lefty_train_features[X_list]\n",
    "lefty_train_X_scaled = scaler.fit_transform(lefty_train_X)\n",
    "\n",
    "lefty_val_X = lefty_val_features[X_list]\n",
    "lefty_val_X_scaled = scaler.fit_transform(lefty_val_X)\n",
    "\n",
    "lefty_test_X = lefty_test_features[X_list]\n",
    "lefty_test_X_scaled = scaler.fit_transform(lefty_test_X)"
   ]
  },
  {
   "cell_type": "markdown",
   "metadata": {
    "id": "M_zjHvik6rBe"
   },
   "source": [
    "**Note:** In addressing my prediction task, I went through a number of different model variations and cross-validations, with models including logistic regression, k-nearest neighbors, and bagging and boosting classifiers, and modifications including weighting the loss functions behind several of those algorithms and tinkering with prediction probability thresholds.  \n",
    "\n",
    "The upshot ended up being that, after this trial, I was unable to beat the baseline dummy model's accuracy. So instead, I resorted to trying to reasonably optimize (i.e. without decimating accuracy) recall, with the idea being that identification of swing-and-miss-quality pitches is high reward for baseball-interested people and false positives relatively uncostly.  \n",
    "\n",
    "I end up choosing a random forest model fitted on upsampled data, with the results described below."
   ]
  },
  {
   "cell_type": "markdown",
   "metadata": {
    "id": "DlMaiVvHYeh_"
   },
   "source": [
    "# Section 2 Conclusion"
   ]
  },
  {
   "cell_type": "markdown",
   "metadata": {
    "id": "uz4ZZsPgA55S"
   },
   "source": [
    "After doing the above cross-validation and other adjustments, I further evaluate the best lefty and righty models identified for accomplishing the task of optimizing recall without decimating overall model accuracy. "
   ]
  },
  {
   "cell_type": "markdown",
   "metadata": {
    "id": "AobNZh5XB0f2"
   },
   "source": [
    "The lefty model most up for this task among those I evaluated in Section is fit on upsampled data. Below are some of its metrics. I decide to tune it so that precision on the validation set is at least 20% before testing it. "
   ]
  },
  {
   "cell_type": "code",
   "execution_count": 223,
   "metadata": {
    "id": "z2lkXT2FIDTE"
   },
   "outputs": [],
   "source": [
    "lefty_synth_train_X, lefty_synth_train_y = oversample.fit_resample(lefty_train_X, lefty_train_y)\n",
    "lefty_synth_train_X_scaled = scaler.fit_transform(lefty_synth_train_X)"
   ]
  },
  {
   "cell_type": "code",
   "execution_count": 224,
   "metadata": {
    "id": "EHBYWsceGUuy"
   },
   "outputs": [],
   "source": [
    "RFCLF2 = RandomForestClassifier(n_estimators=800, oob_score=True, random_state=5).fit(lefty_synth_train_X_scaled, lefty_synth_train_y)"
   ]
  },
  {
   "cell_type": "code",
   "execution_count": 225,
   "metadata": {
    "colab": {
     "base_uri": "https://localhost:8080/"
    },
    "id": "AC0Hb8CaIj4A",
    "outputId": "e1f0b5b1-7a8d-4f03-e9a1-dca2cc578f92"
   },
   "outputs": [
    {
     "data": {
      "text/plain": [
       "0.771"
      ]
     },
     "execution_count": 225,
     "metadata": {},
     "output_type": "execute_result"
    }
   ],
   "source": [
    "np.round(RFCLF2.score(lefty_val_X_scaled, lefty_val_y), 3)"
   ]
  },
  {
   "cell_type": "code",
   "execution_count": 226,
   "metadata": {
    "colab": {
     "base_uri": "https://localhost:8080/"
    },
    "id": "ZJQbkvfbJekr",
    "outputId": "80777b38-b5f7-41df-a586-d5147cb4696f"
   },
   "outputs": [
    {
     "data": {
      "text/plain": [
       "0.2439024390243902"
      ]
     },
     "execution_count": 226,
     "metadata": {},
     "output_type": "execute_result"
    }
   ],
   "source": [
    "f1_score(lefty_val_y, RFCLF2.predict(lefty_val_X_scaled))"
   ]
  },
  {
   "cell_type": "code",
   "execution_count": 227,
   "metadata": {
    "colab": {
     "base_uri": "https://localhost:8080/",
     "height": 297
    },
    "id": "yQa50DsiJjYw",
    "outputId": "adc33efa-a169-4da7-9a3d-9397f315ab4e"
   },
   "outputs": [
    {
     "data": {
      "text/plain": [
       "<sklearn.metrics._plot.confusion_matrix.ConfusionMatrixDisplay at 0x7f7019834bd0>"
      ]
     },
     "execution_count": 227,
     "metadata": {},
     "output_type": "execute_result"
    },
    {
     "data": {
      "image/png": "[encoded data removed]",
      "text/plain": [
       "<Figure size 432x288 with 2 Axes>"
      ]
     },
     "metadata": {
      "needs_background": "light"
     },
     "output_type": "display_data"
    }
   ],
   "source": [
    "metrics.ConfusionMatrixDisplay(metrics.confusion_matrix(lefty_val_y, RFCLF2.predict(lefty_val_X_scaled))).plot()"
   ]
  },
  {
   "cell_type": "code",
   "execution_count": 228,
   "metadata": {
    "colab": {
     "base_uri": "https://localhost:8080/"
    },
    "id": "GPSCr_T2KDtG",
    "outputId": "98a1887f-c792-478f-8c07-c606e608f2d5"
   },
   "outputs": [
    {
     "name": "stdout",
     "output_type": "stream",
     "text": [
      "              precision    recall  f1-score   support\n",
      "\n",
      "           0       0.91      0.83      0.86      3963\n",
      "           1       0.19      0.33      0.24       495\n",
      "\n",
      "    accuracy                           0.77      4458\n",
      "   macro avg       0.55      0.58      0.55      4458\n",
      "weighted avg       0.83      0.77      0.80      4458\n",
      "\n"
     ]
    }
   ],
   "source": [
    "print(classification_report(lefty_val_y, RFCLF2.predict(lefty_val_X_scaled)))"
   ]
  },
  {
   "cell_type": "code",
   "execution_count": 229,
   "metadata": {
    "colab": {
     "base_uri": "https://localhost:8080/"
    },
    "id": "yICKZDz_R4K3",
    "outputId": "521a284f-71d9-4aeb-b5b1-8190f301a97d"
   },
   "outputs": [
    {
     "name": "stdout",
     "output_type": "stream",
     "text": [
      "Lefty AUC Score: 0.6522474301429638\n"
     ]
    }
   ],
   "source": [
    "print(\"Lefty AUC Score: {}\".format(roc_auc_score(lefty_val_y, RFCLF2.predict_proba(lefty_val_X_scaled)[:,1])))"
   ]
  },
  {
   "cell_type": "code",
   "execution_count": 230,
   "metadata": {
    "colab": {
     "base_uri": "https://localhost:8080/"
    },
    "id": "-lqxcTBtR4K4",
    "outputId": "d3a8beb4-a1b1-481e-9044-afcc2eb17724"
   },
   "outputs": [
    {
     "name": "stdout",
     "output_type": "stream",
     "text": [
      "Lefty Average Precision Score: 0.17682318607316833\n"
     ]
    }
   ],
   "source": [
    "print(\"Lefty Average Precision Score: {}\".format(average_precision_score(lefty_val_y, RFCLF2.predict_proba(lefty_val_X_scaled)[:,1])))"
   ]
  },
  {
   "cell_type": "code",
   "execution_count": 231,
   "metadata": {
    "id": "q0C-7dMPKDtO"
   },
   "outputs": [],
   "source": [
    "#lefty random forest model\n",
    "pr_l, r_l, pr_thresholds_l = precision_recall_curve(lefty_val_y, RFCLF2.predict_proba(lefty_val_X_scaled)[:,1])"
   ]
  },
  {
   "cell_type": "code",
   "execution_count": 232,
   "metadata": {
    "colab": {
     "base_uri": "https://localhost:8080/"
    },
    "id": "V0fLrBnJOV7w",
    "outputId": "27a32917-585a-4469-91bb-e7f5315cbce6"
   },
   "outputs": [
    {
     "data": {
      "text/plain": [
       "363"
      ]
     },
     "execution_count": 232,
     "metadata": {},
     "output_type": "execute_result"
    }
   ],
   "source": [
    "np.argmin(np.abs(pr_l-0.2))"
   ]
  },
  {
   "cell_type": "code",
   "execution_count": 233,
   "metadata": {
    "colab": {
     "base_uri": "https://localhost:8080/"
    },
    "id": "G0jUnbiNO4hW",
    "outputId": "d327d817-e82c-4f8d-d96c-54336f18ff00"
   },
   "outputs": [
    {
     "data": {
      "text/plain": [
       "0.545"
      ]
     },
     "execution_count": 233,
     "metadata": {},
     "output_type": "execute_result"
    }
   ],
   "source": [
    "lefty_threshold = pr_thresholds_l[363]\n",
    "lefty_threshold"
   ]
  },
  {
   "cell_type": "code",
   "execution_count": 234,
   "metadata": {
    "colab": {
     "base_uri": "https://localhost:8080/",
     "height": 388
    },
    "id": "tltZRAlwKDtP",
    "outputId": "66979f78-c693-4f33-c18a-b680c7eff2a4"
   },
   "outputs": [
    {
     "data": {
      "image/png": "[encoded data removed]",
      "text/plain": [
       "<Figure size 576x432 with 1 Axes>"
      ]
     },
     "metadata": {
      "needs_background": "light"
     },
     "output_type": "display_data"
    }
   ],
   "source": [
    "plt.figure(figsize=(8,6))\n",
    "plt.plot(pr_l, r_l, label='Lefty Model')\n",
    "plt.xlabel('Precision')\n",
    "plt.ylabel('Recall')\n",
    "plt.plot(pr_l[363], r_l[363],'^',c='k',markersize=10)\n",
    "plt.legend(['Lefty Model'],loc='best')\n",
    "plt.show()"
   ]
  },
  {
   "cell_type": "markdown",
   "metadata": {
    "id": "Z3GuDAKICDee"
   },
   "source": [
    "The righty model most up for this task was "
   ]
  },
  {
   "cell_type": "code",
   "execution_count": 235,
   "metadata": {
    "id": "sZ_33rIlIOgx"
   },
   "outputs": [],
   "source": [
    "righty_synth_train_X, righty_synth_train_y = oversample.fit_resample(righty_train_X, righty_train_y)\n",
    "righty_synth_train_X_scaled = scaler.fit_transform(righty_synth_train_X)"
   ]
  },
  {
   "cell_type": "code",
   "execution_count": 236,
   "metadata": {
    "id": "p73toRoBGvKq"
   },
   "outputs": [],
   "source": [
    "RFCLF_r2 = RandomForestClassifier(n_estimators=600, oob_score=True, random_state=5).fit(righty_synth_train_X_scaled, righty_synth_train_y)"
   ]
  },
  {
   "cell_type": "code",
   "execution_count": 237,
   "metadata": {
    "colab": {
     "base_uri": "https://localhost:8080/"
    },
    "id": "oPGAegaSTHhW",
    "outputId": "f5d40fc5-810c-4b5c-f0ea-3325f2a65a76"
   },
   "outputs": [
    {
     "data": {
      "text/plain": [
       "0.738"
      ]
     },
     "execution_count": 237,
     "metadata": {},
     "output_type": "execute_result"
    }
   ],
   "source": [
    "np.round(RFCLF_r2.score(righty_val_X_scaled, righty_val_y), 3)"
   ]
  },
  {
   "cell_type": "code",
   "execution_count": 238,
   "metadata": {
    "colab": {
     "base_uri": "https://localhost:8080/"
    },
    "id": "CxdRXtcCTHhX",
    "outputId": "97c241f1-2d70-4fbc-dccc-90f6fc45cbe1"
   },
   "outputs": [
    {
     "data": {
      "text/plain": [
       "0.23731632935957858"
      ]
     },
     "execution_count": 238,
     "metadata": {},
     "output_type": "execute_result"
    }
   ],
   "source": [
    "f1_score(righty_val_y, RFCLF_r2.predict(righty_val_X_scaled))"
   ]
  },
  {
   "cell_type": "code",
   "execution_count": 239,
   "metadata": {
    "colab": {
     "base_uri": "https://localhost:8080/",
     "height": 297
    },
    "id": "DcdoyMjITHhX",
    "outputId": "e8e945cb-a37b-4bc7-a403-a0eb1c7c7460"
   },
   "outputs": [
    {
     "data": {
      "text/plain": [
       "<sklearn.metrics._plot.confusion_matrix.ConfusionMatrixDisplay at 0x7f701dbb9f50>"
      ]
     },
     "execution_count": 239,
     "metadata": {},
     "output_type": "execute_result"
    },
    {
     "data": {
      "image/png": "[encoded data removed]",
      "text/plain": [
       "<Figure size 432x288 with 2 Axes>"
      ]
     },
     "metadata": {
      "needs_background": "light"
     },
     "output_type": "display_data"
    }
   ],
   "source": [
    "metrics.ConfusionMatrixDisplay(metrics.confusion_matrix(righty_val_y, RFCLF_r2.predict(righty_val_X_scaled))).plot()"
   ]
  },
  {
   "cell_type": "code",
   "execution_count": 240,
   "metadata": {
    "colab": {
     "base_uri": "https://localhost:8080/"
    },
    "id": "2PCdDE4ATHhX",
    "outputId": "678d91bd-852d-4f2e-a736-7821c7b1b366"
   },
   "outputs": [
    {
     "name": "stdout",
     "output_type": "stream",
     "text": [
      "              precision    recall  f1-score   support\n",
      "\n",
      "           0       0.91      0.78      0.84      9352\n",
      "           1       0.17      0.38      0.24      1136\n",
      "\n",
      "    accuracy                           0.74     10488\n",
      "   macro avg       0.54      0.58      0.54     10488\n",
      "weighted avg       0.83      0.74      0.78     10488\n",
      "\n"
     ]
    }
   ],
   "source": [
    "print(classification_report(righty_val_y, RFCLF_r2.predict(righty_val_X_scaled)))"
   ]
  },
  {
   "cell_type": "code",
   "execution_count": 241,
   "metadata": {
    "colab": {
     "base_uri": "https://localhost:8080/"
    },
    "id": "crz1VEdCTHhY",
    "outputId": "8c867115-0db4-4ad6-dfff-09511456e457"
   },
   "outputs": [
    {
     "name": "stdout",
     "output_type": "stream",
     "text": [
      "Righty AUC Score: 0.6495866102302438\n"
     ]
    }
   ],
   "source": [
    "print(\"Righty AUC Score: {}\".format(roc_auc_score(righty_val_y, RFCLF_r2.predict_proba(righty_val_X_scaled)[:,1])))"
   ]
  },
  {
   "cell_type": "code",
   "execution_count": 242,
   "metadata": {
    "colab": {
     "base_uri": "https://localhost:8080/"
    },
    "id": "J6qauv2wTHhY",
    "outputId": "a7371798-baf5-41f5-890f-2666f41ff0cd"
   },
   "outputs": [
    {
     "name": "stdout",
     "output_type": "stream",
     "text": [
      "Righty Average Precision Score: 0.16958750596779654\n"
     ]
    }
   ],
   "source": [
    "print(\"Righty Average Precision Score: {}\".format(average_precision_score(righty_val_y, RFCLF_r2.predict_proba(righty_val_X_scaled)[:,1])))"
   ]
  },
  {
   "cell_type": "code",
   "execution_count": 243,
   "metadata": {
    "id": "tx54oLqVTHhY"
   },
   "outputs": [],
   "source": [
    "#lefty random forest model\n",
    "pr_2, r_2, pr_thresholds_2 = precision_recall_curve(righty_val_y, RFCLF_r2.predict_proba(righty_val_X_scaled)[:,1])"
   ]
  },
  {
   "cell_type": "code",
   "execution_count": 244,
   "metadata": {
    "colab": {
     "base_uri": "https://localhost:8080/"
    },
    "id": "O3qKj6efTHhY",
    "outputId": "44bb20b3-2a8a-488f-9ebc-29c29547ade5"
   },
   "outputs": [
    {
     "data": {
      "text/plain": [
       "440"
      ]
     },
     "execution_count": 244,
     "metadata": {},
     "output_type": "execute_result"
    }
   ],
   "source": [
    "np.argmin(np.abs(pr_2-0.2))"
   ]
  },
  {
   "cell_type": "code",
   "execution_count": 245,
   "metadata": {
    "id": "cJJmuhKITHhY"
   },
   "outputs": [],
   "source": [
    "righty_threshold = pr_thresholds_2[440]"
   ]
  },
  {
   "cell_type": "code",
   "execution_count": 246,
   "metadata": {
    "colab": {
     "base_uri": "https://localhost:8080/"
    },
    "id": "wRRyXxvGUGQZ",
    "outputId": "6d77e74e-04ab-4363-8738-ea0d65fcc44d"
   },
   "outputs": [
    {
     "data": {
      "text/plain": [
       "0.7916666666666666"
      ]
     },
     "execution_count": 246,
     "metadata": {},
     "output_type": "execute_result"
    }
   ],
   "source": [
    "righty_threshold"
   ]
  },
  {
   "cell_type": "code",
   "execution_count": 247,
   "metadata": {
    "colab": {
     "base_uri": "https://localhost:8080/",
     "height": 388
    },
    "id": "mQMI8NzNTHhZ",
    "outputId": "b05b622c-b0f6-468f-89a8-0771d6049e70"
   },
   "outputs": [
    {
     "data": {
      "image/png": "[encoded data removed]",
      "text/plain": [
       "<Figure size 576x432 with 1 Axes>"
      ]
     },
     "metadata": {
      "needs_background": "light"
     },
     "output_type": "display_data"
    }
   ],
   "source": [
    "plt.figure(figsize=(8,6))\n",
    "plt.plot(pr_2, r_2, label='Righty Model')\n",
    "plt.xlabel('Precision')\n",
    "plt.ylabel('Recall')\n",
    "plt.plot(pr_2[440], r_2[440],'^',c='k',markersize=10)\n",
    "plt.legend(['Righty Model'],loc='best')\n",
    "plt.show()"
   ]
  },
  {
   "cell_type": "markdown",
   "metadata": {
    "id": "P2NdDN97RzYK"
   },
   "source": [
    "Comparing Models"
   ]
  },
  {
   "cell_type": "code",
   "execution_count": 248,
   "metadata": {
    "id": "eUE6Mj_ba6fY"
   },
   "outputs": [],
   "source": [
    "#lefty random forest model\n",
    "fpr_l, tpr_l, roc_thresholds_1 = roc_curve(lefty_val_y, RFCLF2.predict_proba(lefty_val_X_scaled)[:,1])\n",
    "#righty random forest model\n",
    "fpr_2, tpr_2, roc_thresholds_2 = roc_curve(righty_val_y, RFCLF_r2.predict_proba(righty_val_X_scaled)[:,1])"
   ]
  },
  {
   "cell_type": "code",
   "execution_count": 249,
   "metadata": {
    "colab": {
     "base_uri": "https://localhost:8080/",
     "height": 388
    },
    "id": "82P1NUKpvG16",
    "outputId": "658faa02-f9cd-4ade-86b7-85f039191583"
   },
   "outputs": [
    {
     "data": {
      "image/png": "[encoded data removed]",
      "text/plain": [
       "<Figure size 576x432 with 1 Axes>"
      ]
     },
     "metadata": {
      "needs_background": "light"
     },
     "output_type": "display_data"
    }
   ],
   "source": [
    "plt.figure(figsize=(8,6))\n",
    "plt.plot(fpr_l, tpr_l, label='Lefty Model')\n",
    "plt.plot(fpr_2, tpr_2, label='Righty Model')\n",
    "plt.xlabel('False Positive Rate')\n",
    "plt.ylabel('True Positive Rate (Recall)')\n",
    "plt.legend(['Lefty Model','Righty Model'],loc='best')\n",
    "plt.show()"
   ]
  },
  {
   "cell_type": "markdown",
   "metadata": {
    "id": "y-GA_IeJVPQp"
   },
   "source": [
    "Testing Models"
   ]
  },
  {
   "cell_type": "markdown",
   "metadata": {
    "id": "xcc_p3o8VRRl"
   },
   "source": [
    "Lefty Model"
   ]
  },
  {
   "cell_type": "code",
   "execution_count": 250,
   "metadata": {
    "colab": {
     "base_uri": "https://localhost:8080/"
    },
    "id": "dWbBnzpnWFDl",
    "outputId": "46a41c98-d34b-48a5-cf28-a3970c4f30ef"
   },
   "outputs": [
    {
     "name": "stdout",
     "output_type": "stream",
     "text": [
      "              precision    recall  f1-score   support\n",
      "\n",
      "           0       0.90      0.83      0.86      1317\n",
      "           1       0.17      0.27      0.21       170\n",
      "\n",
      "    accuracy                           0.77      1487\n",
      "   macro avg       0.53      0.55      0.54      1487\n",
      "weighted avg       0.81      0.77      0.79      1487\n",
      "\n"
     ]
    }
   ],
   "source": [
    "lefty_preds = (RFCLF2.predict_proba(lefty_test_X_scaled)[:,1] > lefty_threshold) * 1\n",
    "print(classification_report(lefty_test_y, lefty_preds))"
   ]
  },
  {
   "cell_type": "code",
   "execution_count": 251,
   "metadata": {
    "colab": {
     "base_uri": "https://localhost:8080/",
     "height": 297
    },
    "id": "ews-k_5PXMp2",
    "outputId": "2efa5c44-6748-4bd4-83f1-f847582b8504"
   },
   "outputs": [
    {
     "data": {
      "text/plain": [
       "<sklearn.metrics._plot.confusion_matrix.ConfusionMatrixDisplay at 0x7f701e13b290>"
      ]
     },
     "execution_count": 251,
     "metadata": {},
     "output_type": "execute_result"
    },
    {
     "data": {
      "image/png": "[encoded data removed]",
      "text/plain": [
       "<Figure size 432x288 with 2 Axes>"
      ]
     },
     "metadata": {
      "needs_background": "light"
     },
     "output_type": "display_data"
    }
   ],
   "source": [
    "metrics.ConfusionMatrixDisplay(metrics.confusion_matrix(lefty_test_y, lefty_preds)).plot()"
   ]
  },
  {
   "cell_type": "markdown",
   "metadata": {
    "id": "pCZpF8kqXrb1"
   },
   "source": [
    "Righty Model"
   ]
  },
  {
   "cell_type": "code",
   "execution_count": 252,
   "metadata": {
    "colab": {
     "base_uri": "https://localhost:8080/"
    },
    "id": "LPVJ9uhtXvhk",
    "outputId": "153a9f9f-b65b-4075-f372-0600ce7c88a6"
   },
   "outputs": [
    {
     "name": "stdout",
     "output_type": "stream",
     "text": [
      "              precision    recall  f1-score   support\n",
      "\n",
      "           0       0.89      0.98      0.93      3099\n",
      "           1       0.30      0.06      0.09       398\n",
      "\n",
      "    accuracy                           0.88      3497\n",
      "   macro avg       0.59      0.52      0.51      3497\n",
      "weighted avg       0.82      0.88      0.84      3497\n",
      "\n"
     ]
    }
   ],
   "source": [
    "righty_preds = (RFCLF_r2.predict_proba(righty_test_X_scaled)[:,1] > righty_threshold) * 1\n",
    "print(classification_report(righty_test_y, righty_preds))"
   ]
  },
  {
   "cell_type": "code",
   "execution_count": 253,
   "metadata": {
    "colab": {
     "base_uri": "https://localhost:8080/",
     "height": 298
    },
    "id": "VBVPPIkHYDFv",
    "outputId": "3d851b32-8268-4389-9034-a50237affd75"
   },
   "outputs": [
    {
     "data": {
      "text/plain": [
       "<sklearn.metrics._plot.confusion_matrix.ConfusionMatrixDisplay at 0x7f701defa350>"
      ]
     },
     "execution_count": 253,
     "metadata": {},
     "output_type": "execute_result"
    },
    {
     "data": {
      "image/png": "[encoded data removed]",
      "text/plain": [
       "<Figure size 432x288 with 2 Axes>"
      ]
     },
     "metadata": {
      "needs_background": "light"
     },
     "output_type": "display_data"
    }
   ],
   "source": [
    "metrics.ConfusionMatrixDisplay(metrics.confusion_matrix(righty_test_y, righty_preds)).plot()"
   ]
  },
  {
   "cell_type": "markdown",
   "metadata": {
    "id": "I2P9Az1GYJG2"
   },
   "source": [
    "Our lefty model holds up worse against the test data in our task, while the righty model performs as the validation set indicated.  \n",
    "\n",
    "This discrepancy might have to do with a difference in sample size. In finishing up in the final section below, I correct for a mistake I made of throwing out rows with NAs in variables I don't care about, e.g. hit coordinates. "
   ]
  },
  {
   "cell_type": "markdown",
   "metadata": {
    "id": "A8wgAmy2KofY"
   },
   "source": [
    "# **Section 3**"
   ]
  },
  {
   "cell_type": "markdown",
   "metadata": {
    "id": "u03eAz_YgALK"
   },
   "source": [
    "# Supervised Learning Models Pt. 2"
   ]
  },
  {
   "cell_type": "code",
   "execution_count": 254,
   "metadata": {
    "colab": {
     "base_uri": "https://localhost:8080/",
     "height": 374
    },
    "id": "nhJv2dY-f76Y",
    "outputId": "3d2e638f-9f4a-42db-d687-be2988db2ee8"
   },
   "outputs": [
    {
     "data": {
      "image/png": "[encoded data removed]",
      "text/plain": [
       "<Figure size 576x432 with 1 Axes>"
      ]
     },
     "metadata": {
      "needs_background": "light"
     },
     "output_type": "display_data"
    }
   ],
   "source": [
    "#lefty feature importances\n",
    "plt.figure(figsize=(8,6))\n",
    "nfeat=lefty_train_X.shape[1]\n",
    "plt.barh(np.arange(nfeat), RFCLF2.feature_importances_,align='center')\n",
    "plt.yticks(np.arange(nfeat),list(lefty_train_X.columns))\n",
    "plt.ylim(-1,nfeat)\n",
    "plt.show()"
   ]
  },
  {
   "cell_type": "code",
   "execution_count": 255,
   "metadata": {
    "colab": {
     "base_uri": "https://localhost:8080/",
     "height": 374
    },
    "id": "0uNorne9hhK9",
    "outputId": "528f2df9-e3e4-4241-ecfc-5bd878653cc3"
   },
   "outputs": [
    {
     "data": {
      "image/png": "[encoded data removed]",
      "text/plain": [
       "<Figure size 576x432 with 1 Axes>"
      ]
     },
     "metadata": {
      "needs_background": "light"
     },
     "output_type": "display_data"
    }
   ],
   "source": [
    "#righty feature importances\n",
    "plt.figure(figsize=(8,6))\n",
    "nfeat=righty_train_X.shape[1]\n",
    "plt.barh(np.arange(nfeat), RFCLF_r2.feature_importances_,align='center')\n",
    "plt.yticks(np.arange(nfeat),list(righty_train_X.columns))\n",
    "plt.ylim(-1,nfeat)\n",
    "plt.show()"
   ]
  },
  {
   "cell_type": "markdown",
   "metadata": {
    "id": "WsmxoJLjiFyc"
   },
   "source": [
    "In finishing up, I will narrow down my models to a smaller subset of features along with incorporating some information analyzed through my unsupervised learning model at the beginning. (It might be the case that the random forests were the least very flawed model out of all the very flawed models because of the algorithm's feature-selection randomization.) \n",
    "\n",
    "From features used so far, I'll keep pitch location (plate_x, plate_z, and zone), z-direction acceleration (vz0), x-direction acceleration (vX0), release extension, and spin rate.  \n",
    "\n",
    "In addition, because it seems like pitch location could be useful, I'll also utilize two new features, sz_top (top of strike zone) and sz_bot(bottom of strike zone). These indicate the height of a given batter's strike zone. \n",
    "\n",
    "Finally, we see that my previous pitch features were relatively unimportant. This time, I'll use my clustering info from before to create dummy variables indicating whether a given pitch is of a cluster different from the one that proceeded it. Like mentioned, an off-speed pitch following a fastball should be swung and missed at more often that an off-speed pitch following an off-speed pitch.  "
   ]
  },
  {
   "cell_type": "code",
   "execution_count": 256,
   "metadata": {
    "id": "Egf3s2bQB8cX"
   },
   "outputs": [],
   "source": [
    "new_lefty_set = pitches[pitches['p_throws'] == 'L'].dropna(subset=['release_spin_rate', 'spin_axis', 'release_extension']).copy()\n",
    "new_righty_set = pitches[pitches['p_throws'] == 'R'].dropna(subset=['release_spin_rate', 'spin_axis', 'release_extension']).copy()\n",
    "\n",
    "cluster_features = ['release_speed', 'pfx_x',\t'pfx_z', 'vx0',\t'vy0', 'vz0',\t'ax', 'ay', 'az', 'release_spin_rate', 'spin_axis']\n",
    "\n",
    "new_lefty_set_cluster_features = new_lefty_set[cluster_features]\n",
    "new_righty_set_cluster_features = new_righty_set[cluster_features]\n",
    "\n",
    "new_lefty_set_cluster_features_scaled = scaler.fit_transform(new_lefty_set_cluster_features)\n",
    "new_righty_set_cluster_features_scaled = scaler.fit_transform(new_righty_set_cluster_features)\n",
    "\n",
    "kmeans_lefties = KMeans(n_clusters=3, random_state=0).fit(new_lefty_set_cluster_features_scaled)\n",
    "kmeans_righties = KMeans(n_clusters=3, random_state=0).fit(new_righty_set_cluster_features_scaled)\n",
    "\n",
    "new_lefty_set['Cluster'] = kmeans_lefties.labels_\n",
    "new_righty_set['Cluster'] = kmeans_righties.labels_\n",
    "\n",
    "new_lefty_set['Missed_Swing'] = (new_lefty_set['description'].str.contains('swinging_strike')).apply(int)\n",
    "new_righty_set['Missed_Swing'] = (new_righty_set['description'].str.contains('swinging_strike')).apply(int)\n",
    "\n",
    "new_lefty_set['prev_cluster'] = 0\n",
    "new_righty_set['prev_cluster'] = 0"
   ]
  },
  {
   "cell_type": "markdown",
   "metadata": {
    "id": "gyMQ-rEdB8cX"
   },
   "source": [
    "Lefties  \n",
    "- 0: off-speed\n",
    "- 1: Fastball  \n",
    "- 2: Breaking pitch  \n",
    "\n",
    "Righties  \n",
    "- 0: off-speed  \n",
    "- 1: Breaking Pitch  \n",
    "- 2: Fastball"
   ]
  },
  {
   "cell_type": "code",
   "execution_count": 257,
   "metadata": {
    "id": "yEyMsGHZB8cX"
   },
   "outputs": [],
   "source": [
    "#encoding first pitches in a cluster '3'\n",
    "def prev_cluster_func(df):\n",
    "  z = 0\n",
    "  while z < (len(df) - 1):\n",
    "    if (df.iloc[z + 1, 30] == df.iloc[z, 30]) & (df.iloc[z, 33] != 1):\n",
    "      df.iloc[z, 39] = df.iloc[z + 1, 37]\n",
    "    else:\n",
    "      df.iloc[z, 39] = 3\n",
    "    z += 1\n",
    "  df.iloc[len(df) - 1, 39] = 3"
   ]
  },
  {
   "cell_type": "code",
   "execution_count": 258,
   "metadata": {
    "id": "hGXKXEwdHFxa"
   },
   "outputs": [],
   "source": [
    "prev_cluster_func(new_lefty_set)\n",
    "prev_cluster_func(new_righty_set)"
   ]
  },
  {
   "cell_type": "code",
   "execution_count": 259,
   "metadata": {
    "id": "IPM7oEo8B8cX"
   },
   "outputs": [],
   "source": [
    "# righty train, val, test split\n",
    "righty_features1 = new_righty_set.drop('Missed_Swing', axis=1)\n",
    "righty_label1 = new_righty_set['Missed_Swing']\n",
    "righty_train_features1, righty_temp_features1, righty_train_y1, righty_temp_y1 = train_test_split(righty_features1, righty_label1, test_size=0.50, random_state=5, shuffle=False)\n",
    "righty_val_features1, righty_test_features1, righty_val_y1, righty_test_y1 = train_test_split(righty_temp_features1, righty_temp_y1, test_size=0.25, random_state=5, shuffle=False)\n",
    "\n",
    "# lefty train, val, test split\n",
    "lefty_features1 = new_lefty_set.drop('Missed_Swing', axis=1)\n",
    "lefty_label1 = new_lefty_set['Missed_Swing']\n",
    "lefty_train_features1, lefty_temp_features1, lefty_train_y1, lefty_temp_y1 = train_test_split(lefty_features1, lefty_label1, test_size=0.50, random_state=5, shuffle=False)\n",
    "lefty_val_features1, lefty_test_features1, lefty_val_y1, lefty_test_y1 = train_test_split(lefty_temp_features1, lefty_temp_y1, test_size=0.25, random_state=5, shuffle=False)"
   ]
  },
  {
   "cell_type": "code",
   "execution_count": 260,
   "metadata": {
    "id": "rGLq7sAECHvo"
   },
   "outputs": [],
   "source": [
    "new_feats = ['Cluster', 'prev_cluster', 'plate_x', 'plate_z', 'sz_top', 'sz_bot', 'vz0', 'vx0', 'release_extension', 'release_spin_rate']\n",
    "\n",
    "righty_train_X_2 = righty_train_features1[new_feats]\n",
    "righty_val_X_2 = righty_val_features1[new_feats]\n",
    "righty_test_X_2 = righty_test_features1[new_feats]\n",
    "\n",
    "lefty_train_X_2 = lefty_train_features1[new_feats]\n",
    "lefty_val_X_2 = lefty_val_features1[new_feats]\n",
    "lefty_test_X_2 = lefty_test_features1[new_feats]"
   ]
  },
  {
   "cell_type": "code",
   "execution_count": 261,
   "metadata": {
    "id": "WQXm3qLrN7HG"
   },
   "outputs": [],
   "source": [
    "#new synthetic data\n",
    "new_lefty_synth_train_X, new_lefty_synth_train_y = oversample.fit_resample(lefty_train_X_2, lefty_train_y1)\n",
    "new_righty_synth_train_X, new_righty_synth_train_y = oversample.fit_resample(righty_train_X_2, righty_train_y1)"
   ]
  },
  {
   "cell_type": "code",
   "execution_count": 262,
   "metadata": {
    "id": "hQw0dl1nPvzC"
   },
   "outputs": [],
   "source": [
    "righty_train_X_2_scaled = scaler.fit_transform(righty_train_X_2)\n",
    "righty_val_X_2_scaled = scaler.fit_transform(righty_val_X_2)\n",
    "lefty_train_X_2_scaled = scaler.fit_transform(lefty_train_X_2)\n",
    "lefty_val_X_2_scaled = scaler.fit_transform(lefty_val_X_2)\n",
    "\n",
    "new_lefty_synth_train_X_scaled = scaler.fit_transform(new_lefty_synth_train_X)\n",
    "new_righty_synth_train_X_scaled = scaler.fit_transform(new_righty_synth_train_X)"
   ]
  },
  {
   "cell_type": "markdown",
   "metadata": {
    "id": "_d_PMyiExuCf"
   },
   "source": [
    "# Section 3 Conclusion"
   ]
  },
  {
   "cell_type": "markdown",
   "metadata": {
    "id": "gtinjM9Mx4XV"
   },
   "source": [
    "My best re-specified model for lefties and righties came again using random forests, this time not through upsampled data. In the same way I did in section 2, I'll further evaluate these two models before testing them. "
   ]
  },
  {
   "cell_type": "code",
   "execution_count": 107,
   "metadata": {
    "colab": {
     "base_uri": "https://localhost:8080/"
    },
    "id": "YJcZUpH4o0Zz",
    "outputId": "20ab150a-21eb-44eb-9fdc-dee55b33b829"
   },
   "outputs": [
    {
     "name": "stderr",
     "output_type": "stream",
     "text": [
      "100%|██████████| 10/10 [01:17<00:00,  7.76s/it]\n"
     ]
    }
   ],
   "source": [
    "# #Random Forest \n",
    "# num_trees = np.linspace(250,800,10)\n",
    "# oob_res = []\n",
    "# for trees in tqdm(num_trees):\n",
    "#   RFCLR = RandomForestClassifier(n_estimators=int(trees), max_features='sqrt', oob_score=True, random_state=5).fit(lefty_train_X_2, lefty_train_y1)\n",
    "#   oob_res.append(RFCLR.oob_score_)"
   ]
  },
  {
   "cell_type": "code",
   "execution_count": 108,
   "metadata": {
    "colab": {
     "base_uri": "https://localhost:8080/",
     "height": 283
    },
    "id": "L9RMr0Z6pZ15",
    "outputId": "fba82f0b-006d-4424-cf21-a3725a35e820"
   },
   "outputs": [
    {
     "data": {
      "text/plain": [
       "[<matplotlib.lines.Line2D at 0x7f701e4d4150>]"
      ]
     },
     "execution_count": 108,
     "metadata": {},
     "output_type": "execute_result"
    },
    {
     "data": {
      "image/png": "[encoded data removed]",
      "text/plain": [
       "<Figure size 432x288 with 1 Axes>"
      ]
     },
     "metadata": {
      "needs_background": "light"
     },
     "output_type": "display_data"
    }
   ],
   "source": [
    "plt.plot(num_trees, oob_res)"
   ]
  },
  {
   "cell_type": "code",
   "execution_count": 263,
   "metadata": {
    "id": "p6LmJfsOpfPm"
   },
   "outputs": [],
   "source": [
    "RF_L_temp = RandomForestClassifier(n_estimators=300, max_features='sqrt', oob_score=True, random_state=5).fit(lefty_train_X_2, lefty_train_y1)"
   ]
  },
  {
   "cell_type": "code",
   "execution_count": 264,
   "metadata": {
    "colab": {
     "base_uri": "https://localhost:8080/"
    },
    "id": "e3BbDMqJpul7",
    "outputId": "b88d5ab6-ef51-4232-a92b-db4111bfa07a"
   },
   "outputs": [
    {
     "data": {
      "text/plain": [
       "0.888"
      ]
     },
     "execution_count": 264,
     "metadata": {},
     "output_type": "execute_result"
    }
   ],
   "source": [
    "np.round(RF_L_temp.score(lefty_val_X_2, lefty_val_y1),3)"
   ]
  },
  {
   "cell_type": "code",
   "execution_count": 265,
   "metadata": {
    "colab": {
     "base_uri": "https://localhost:8080/"
    },
    "id": "ggMTmgaNpul8",
    "outputId": "eba0dd06-5aaa-4bae-c6c1-9c76c0dc20f7"
   },
   "outputs": [
    {
     "data": {
      "text/plain": [
       "0.05649717514124294"
      ]
     },
     "execution_count": 265,
     "metadata": {},
     "output_type": "execute_result"
    }
   ],
   "source": [
    "f1_score(lefty_val_y1, RF_L_temp.predict(lefty_val_X_2))"
   ]
  },
  {
   "cell_type": "code",
   "execution_count": 266,
   "metadata": {
    "colab": {
     "base_uri": "https://localhost:8080/"
    },
    "id": "xbRdOaJUpul8",
    "outputId": "f173f092-ccdd-4ad5-b803-515ebfd21aca"
   },
   "outputs": [
    {
     "data": {
      "text/plain": [
       "0.2929224061020699"
      ]
     },
     "execution_count": 266,
     "metadata": {},
     "output_type": "execute_result"
    }
   ],
   "source": [
    "average_precision_score(lefty_val_y1, RF_L_temp.predict_proba(lefty_val_X_2)[:, 1])"
   ]
  },
  {
   "cell_type": "code",
   "execution_count": 267,
   "metadata": {
    "colab": {
     "base_uri": "https://localhost:8080/"
    },
    "id": "LRECz1xZpul8",
    "outputId": "c28102e6-11e2-4faf-f713-4cd449bf0b54"
   },
   "outputs": [
    {
     "data": {
      "text/plain": [
       "0.7774234905196298"
      ]
     },
     "execution_count": 267,
     "metadata": {},
     "output_type": "execute_result"
    }
   ],
   "source": [
    "roc_auc_score(lefty_val_y1, RF_L_temp.predict_proba(lefty_val_X_2)[:, 1])"
   ]
  },
  {
   "cell_type": "code",
   "execution_count": 268,
   "metadata": {
    "colab": {
     "base_uri": "https://localhost:8080/",
     "height": 297
    },
    "id": "RtdSh0kcpul8",
    "outputId": "f80985b3-c8a3-41ef-fe3b-ca8b24aa44c6"
   },
   "outputs": [
    {
     "data": {
      "text/plain": [
       "<sklearn.metrics._plot.confusion_matrix.ConfusionMatrixDisplay at 0x7f70206d4510>"
      ]
     },
     "execution_count": 268,
     "metadata": {},
     "output_type": "execute_result"
    },
    {
     "data": {
      "image/png": "[encoded data removed]",
      "text/plain": [
       "<Figure size 432x288 with 2 Axes>"
      ]
     },
     "metadata": {
      "needs_background": "light"
     },
     "output_type": "display_data"
    }
   ],
   "source": [
    "metrics.ConfusionMatrixDisplay(metrics.confusion_matrix(lefty_val_y1, RF_L_temp.predict(lefty_val_X_2))).plot()"
   ]
  },
  {
   "cell_type": "code",
   "execution_count": null,
   "metadata": {
    "id": "biRCeWSCqO1A"
   },
   "outputs": [],
   "source": [
    "# #Random Forest\n",
    "# num_trees = np.linspace(250,800,10)\n",
    "# oob_res = []\n",
    "# for trees in tqdm(num_trees):\n",
    "#   RFCLR = RandomForestClassifier(n_estimators=int(trees), max_features='sqrt', oob_score=True, random_state=5).fit(righty_train_X_2, righty_train_y1)\n",
    "#   oob_res.append(RFCLR.oob_score_)"
   ]
  },
  {
   "cell_type": "code",
   "execution_count": 116,
   "metadata": {
    "colab": {
     "base_uri": "https://localhost:8080/",
     "height": 283
    },
    "id": "WyewMNxMrEm1",
    "outputId": "e650b50d-a37f-4bea-ebb6-15fe8a8eb606"
   },
   "outputs": [
    {
     "data": {
      "text/plain": [
       "[<matplotlib.lines.Line2D at 0x7f701e5434d0>]"
      ]
     },
     "execution_count": 116,
     "metadata": {},
     "output_type": "execute_result"
    },
    {
     "data": {
      "image/png": "[encoded data removed]",
      "text/plain": [
       "<Figure size 432x288 with 1 Axes>"
      ]
     },
     "metadata": {
      "needs_background": "light"
     },
     "output_type": "display_data"
    }
   ],
   "source": [
    "plt.plot(num_trees, oob_res)"
   ]
  },
  {
   "cell_type": "code",
   "execution_count": 270,
   "metadata": {
    "id": "oQuzqxMzrIMq"
   },
   "outputs": [],
   "source": [
    "RF_R_temp = RandomForestClassifier(n_estimators=300, max_features='sqrt', oob_score=True, random_state=5).fit(righty_train_X_2, righty_train_y1)"
   ]
  },
  {
   "cell_type": "code",
   "execution_count": 271,
   "metadata": {
    "colab": {
     "base_uri": "https://localhost:8080/"
    },
    "id": "TdpZ38dhrUcK",
    "outputId": "6edd0bd7-7f2b-41a9-d749-fe07bf902c6b"
   },
   "outputs": [
    {
     "data": {
      "text/plain": [
       "0.893"
      ]
     },
     "execution_count": 271,
     "metadata": {},
     "output_type": "execute_result"
    }
   ],
   "source": [
    "np.round(RF_R_temp.score(righty_val_X_2, righty_val_y1),3)"
   ]
  },
  {
   "cell_type": "code",
   "execution_count": 272,
   "metadata": {
    "colab": {
     "base_uri": "https://localhost:8080/"
    },
    "id": "1ivCGhgQrUcL",
    "outputId": "1988a871-895e-41b3-e519-596bd0509ff6"
   },
   "outputs": [
    {
     "data": {
      "text/plain": [
       "0.11653543307086615"
      ]
     },
     "execution_count": 272,
     "metadata": {},
     "output_type": "execute_result"
    }
   ],
   "source": [
    "f1_score(righty_val_y1, RF_R_temp.predict(righty_val_X_2))"
   ]
  },
  {
   "cell_type": "code",
   "execution_count": 273,
   "metadata": {
    "colab": {
     "base_uri": "https://localhost:8080/"
    },
    "id": "5MkIH287rUcL",
    "outputId": "260d1e54-8699-475b-8513-af9acfc3a5ef"
   },
   "outputs": [
    {
     "data": {
      "text/plain": [
       "0.3336135986968142"
      ]
     },
     "execution_count": 273,
     "metadata": {},
     "output_type": "execute_result"
    }
   ],
   "source": [
    "average_precision_score(righty_val_y1, RF_R_temp.predict_proba(righty_val_X_2)[:, 1])"
   ]
  },
  {
   "cell_type": "code",
   "execution_count": 275,
   "metadata": {
    "colab": {
     "base_uri": "https://localhost:8080/"
    },
    "id": "zeyiAzyKrUcL",
    "outputId": "e12764a1-440e-4aeb-a376-52eb477f32ef"
   },
   "outputs": [
    {
     "data": {
      "text/plain": [
       "0.8042016601856649"
      ]
     },
     "execution_count": 275,
     "metadata": {},
     "output_type": "execute_result"
    }
   ],
   "source": [
    "roc_auc_score(righty_val_y1, RF_R_temp.predict_proba(righty_val_X_2)[:, 1])"
   ]
  },
  {
   "cell_type": "code",
   "execution_count": 276,
   "metadata": {
    "colab": {
     "base_uri": "https://localhost:8080/",
     "height": 297
    },
    "id": "AAprA3KkrUcN",
    "outputId": "d54db2dd-bcee-43de-f9d1-96150f8b1bf5"
   },
   "outputs": [
    {
     "data": {
      "text/plain": [
       "<sklearn.metrics._plot.confusion_matrix.ConfusionMatrixDisplay at 0x7f701960f310>"
      ]
     },
     "execution_count": 276,
     "metadata": {},
     "output_type": "execute_result"
    },
    {
     "data": {
      "image/png": "[encoded data removed]",
      "text/plain": [
       "<Figure size 432x288 with 2 Axes>"
      ]
     },
     "metadata": {
      "needs_background": "light"
     },
     "output_type": "display_data"
    }
   ],
   "source": [
    "metrics.ConfusionMatrixDisplay(metrics.confusion_matrix(righty_val_y1, RF_R_temp.predict(righty_val_X_2))).plot()"
   ]
  },
  {
   "cell_type": "markdown",
   "metadata": {
    "id": "jtaWNvrey-Tv"
   },
   "source": [
    "Starting with the lefty model:"
   ]
  },
  {
   "cell_type": "code",
   "execution_count": 277,
   "metadata": {
    "colab": {
     "base_uri": "https://localhost:8080/"
    },
    "id": "IFOEhtnYy30N",
    "outputId": "e14b9ace-c5af-4bac-e7ee-7fe63dfb4238"
   },
   "outputs": [
    {
     "name": "stdout",
     "output_type": "stream",
     "text": [
      "              precision    recall  f1-score   support\n",
      "\n",
      "           0       0.89      0.99      0.94      3963\n",
      "           1       0.42      0.03      0.06       495\n",
      "\n",
      "    accuracy                           0.89      4458\n",
      "   macro avg       0.65      0.51      0.50      4458\n",
      "weighted avg       0.84      0.89      0.84      4458\n",
      "\n"
     ]
    }
   ],
   "source": [
    "print(classification_report(lefty_val_y1, RF_L_temp.predict(lefty_val_X_2)))"
   ]
  },
  {
   "cell_type": "code",
   "execution_count": 278,
   "metadata": {
    "colab": {
     "base_uri": "https://localhost:8080/"
    },
    "id": "2vnPZORWzShW",
    "outputId": "91aed056-e15b-4e90-9dfa-b4c245b9a2c3"
   },
   "outputs": [
    {
     "name": "stdout",
     "output_type": "stream",
     "text": [
      "Lefty AUC Score: 0.7774234905196298\n"
     ]
    }
   ],
   "source": [
    "print(\"Lefty AUC Score: {}\".format(roc_auc_score(lefty_val_y1, RF_L_temp.predict_proba(lefty_val_X_2)[:,1])))"
   ]
  },
  {
   "cell_type": "code",
   "execution_count": 279,
   "metadata": {
    "colab": {
     "base_uri": "https://localhost:8080/"
    },
    "id": "81XLMjHSzShW",
    "outputId": "c0a7a586-55ef-4e6c-d643-28fb76be8f6c"
   },
   "outputs": [
    {
     "name": "stdout",
     "output_type": "stream",
     "text": [
      "Lefty Average Precision Score: 0.2929224061020699\n"
     ]
    }
   ],
   "source": [
    "print(\"Lefty Average Precision Score: {}\".format(average_precision_score(lefty_val_y1, RF_L_temp.predict_proba(lefty_val_X_2)[:,1])))"
   ]
  },
  {
   "cell_type": "code",
   "execution_count": 280,
   "metadata": {
    "id": "IIy4F0XDzShX"
   },
   "outputs": [],
   "source": [
    "#lefty random forest model\n",
    "pr_L1, r_L1, pr_thresholds_Ll = precision_recall_curve(lefty_val_y1, RF_L_temp.predict_proba(lefty_val_X_2)[:,1])"
   ]
  },
  {
   "cell_type": "code",
   "execution_count": 281,
   "metadata": {
    "colab": {
     "base_uri": "https://localhost:8080/"
    },
    "id": "5dJtsnSWzShX",
    "outputId": "ea56d203-f9a2-4b09-aa26-41633441e577"
   },
   "outputs": [
    {
     "data": {
      "text/plain": [
       "27"
      ]
     },
     "execution_count": 281,
     "metadata": {},
     "output_type": "execute_result"
    }
   ],
   "source": [
    "np.argmin(np.abs(pr_L1-0.2))"
   ]
  },
  {
   "cell_type": "code",
   "execution_count": 282,
   "metadata": {
    "colab": {
     "base_uri": "https://localhost:8080/"
    },
    "id": "iNIypjAvzShX",
    "outputId": "07a5acf3-499e-4766-e9e3-44c19962aa4a"
   },
   "outputs": [
    {
     "data": {
      "text/plain": [
       "0.10333333333333333"
      ]
     },
     "execution_count": 282,
     "metadata": {},
     "output_type": "execute_result"
    }
   ],
   "source": [
    "lefty_threshold2 = pr_thresholds_Ll[27]\n",
    "lefty_threshold2"
   ]
  },
  {
   "cell_type": "code",
   "execution_count": 283,
   "metadata": {
    "colab": {
     "base_uri": "https://localhost:8080/",
     "height": 388
    },
    "id": "k_VcE7rFzShX",
    "outputId": "ba9f55a1-76e9-40d8-e344-708453fc18ce"
   },
   "outputs": [
    {
     "data": {
      "image/png": "[encoded data removed]",
      "text/plain": [
       "<Figure size 576x432 with 1 Axes>"
      ]
     },
     "metadata": {
      "needs_background": "light"
     },
     "output_type": "display_data"
    }
   ],
   "source": [
    "plt.figure(figsize=(8,6))\n",
    "plt.plot(pr_L1, r_L1, label='New Lefty Model')\n",
    "plt.xlabel('Precision')\n",
    "plt.ylabel('Recall')\n",
    "plt.plot(pr_L1[27], r_L1[27],'^',c='k',markersize=10)\n",
    "plt.legend(['New Lefty Model'],loc='best')\n",
    "plt.show()"
   ]
  },
  {
   "cell_type": "markdown",
   "metadata": {
    "id": "sHX2_TXX0llx"
   },
   "source": [
    "To the righty model:"
   ]
  },
  {
   "cell_type": "code",
   "execution_count": 284,
   "metadata": {
    "colab": {
     "base_uri": "https://localhost:8080/"
    },
    "id": "htySwt0y0v5a",
    "outputId": "a649db63-76c3-4fcb-c721-daec14bc2f3e"
   },
   "outputs": [
    {
     "name": "stdout",
     "output_type": "stream",
     "text": [
      "              precision    recall  f1-score   support\n",
      "\n",
      "           0       0.90      0.99      0.94      9352\n",
      "           1       0.55      0.07      0.12      1136\n",
      "\n",
      "    accuracy                           0.89     10488\n",
      "   macro avg       0.72      0.53      0.53     10488\n",
      "weighted avg       0.86      0.89      0.85     10488\n",
      "\n"
     ]
    }
   ],
   "source": [
    "print(classification_report(righty_val_y1, RF_R_temp.predict(righty_val_X_2)))"
   ]
  },
  {
   "cell_type": "code",
   "execution_count": 285,
   "metadata": {
    "colab": {
     "base_uri": "https://localhost:8080/"
    },
    "id": "9Eq42poJ0v5b",
    "outputId": "f91022dd-d1ed-461a-ecac-e494c6d9177f"
   },
   "outputs": [
    {
     "name": "stdout",
     "output_type": "stream",
     "text": [
      "Righty AUC Score: 0.8042016601856649\n"
     ]
    }
   ],
   "source": [
    "print(\"Righty AUC Score: {}\".format(roc_auc_score(righty_val_y1, RF_R_temp.predict_proba(righty_val_X_2)[:,1])))"
   ]
  },
  {
   "cell_type": "code",
   "execution_count": 286,
   "metadata": {
    "colab": {
     "base_uri": "https://localhost:8080/"
    },
    "id": "DHb7HCmi0v5b",
    "outputId": "1e76bdfb-bfe3-49c1-ee9b-60a6d78b4916"
   },
   "outputs": [
    {
     "name": "stdout",
     "output_type": "stream",
     "text": [
      "Righty Average Precision Score: 0.3336135986968142\n"
     ]
    }
   ],
   "source": [
    "print(\"Righty Average Precision Score: {}\".format(average_precision_score(righty_val_y1, RF_R_temp.predict_proba(righty_val_X_2)[:,1])))"
   ]
  },
  {
   "cell_type": "code",
   "execution_count": 287,
   "metadata": {
    "id": "da4qGT1s0v5b"
   },
   "outputs": [],
   "source": [
    "#righty random forest model\n",
    "pr_R1, r_R1, pr_thresholds_Rl = precision_recall_curve(righty_val_y1, RF_R_temp.predict_proba(righty_val_X_2)[:,1])"
   ]
  },
  {
   "cell_type": "code",
   "execution_count": 288,
   "metadata": {
    "colab": {
     "base_uri": "https://localhost:8080/"
    },
    "id": "8TstpDb10v5b",
    "outputId": "09076aa1-dbc9-4960-f42d-54d8791dba28"
   },
   "outputs": [
    {
     "data": {
      "text/plain": [
       "31"
      ]
     },
     "execution_count": 288,
     "metadata": {},
     "output_type": "execute_result"
    }
   ],
   "source": [
    "np.argmin(np.abs(pr_R1-0.2))"
   ]
  },
  {
   "cell_type": "code",
   "execution_count": 289,
   "metadata": {
    "colab": {
     "base_uri": "https://localhost:8080/"
    },
    "id": "BsweUCxU0v5b",
    "outputId": "81fb0995-a7d9-4f77-cc3f-8ac7019d2f99"
   },
   "outputs": [
    {
     "data": {
      "text/plain": [
       "0.10333333333333333"
      ]
     },
     "execution_count": 289,
     "metadata": {},
     "output_type": "execute_result"
    }
   ],
   "source": [
    "righty_threshold2 = pr_thresholds_Rl[31]\n",
    "righty_threshold2"
   ]
  },
  {
   "cell_type": "code",
   "execution_count": 290,
   "metadata": {
    "colab": {
     "base_uri": "https://localhost:8080/",
     "height": 388
    },
    "id": "v4c5B6xG0v5b",
    "outputId": "b2a8cbcd-5b6f-402e-f8e9-3dc63916647d"
   },
   "outputs": [
    {
     "data": {
      "image/png": "[encoded data removed]",
      "text/plain": [
       "<Figure size 576x432 with 1 Axes>"
      ]
     },
     "metadata": {
      "needs_background": "light"
     },
     "output_type": "display_data"
    }
   ],
   "source": [
    "plt.figure(figsize=(8,6))\n",
    "plt.plot(pr_R1, r_R1, label='New Righty Model')\n",
    "plt.xlabel('Precision')\n",
    "plt.ylabel('Recall')\n",
    "plt.plot(pr_R1[30], r_R1[30],'^',c='k',markersize=10)\n",
    "plt.legend(['New Righty Model'],loc='best')\n",
    "plt.show()"
   ]
  },
  {
   "cell_type": "markdown",
   "metadata": {
    "id": "5WtZ9SyI2EOB"
   },
   "source": [
    "Comparing Models"
   ]
  },
  {
   "cell_type": "code",
   "execution_count": 291,
   "metadata": {
    "id": "nYC1EXCZ2FKP"
   },
   "outputs": [],
   "source": [
    "#new lefty random forest model\n",
    "fpr_L2, tpr_L2, roc_thresholds_L2 = roc_curve(lefty_val_y1, RF_L_temp.predict_proba(lefty_val_X_2)[:,1])\n",
    "#new righty random forest model\n",
    "fpr_R2, tpr_R2, roc_thresholds_R2 = roc_curve(righty_val_y1, RF_R_temp.predict_proba(righty_val_X_2)[:,1])"
   ]
  },
  {
   "cell_type": "code",
   "execution_count": 292,
   "metadata": {
    "colab": {
     "base_uri": "https://localhost:8080/",
     "height": 388
    },
    "id": "UhjxPukO2fGt",
    "outputId": "344429cb-0669-45cd-8f03-a1e6243eaffa"
   },
   "outputs": [
    {
     "data": {
      "image/png": "[encoded data removed]",
      "text/plain": [
       "<Figure size 576x432 with 1 Axes>"
      ]
     },
     "metadata": {
      "needs_background": "light"
     },
     "output_type": "display_data"
    }
   ],
   "source": [
    "plt.figure(figsize=(8,6))\n",
    "plt.plot(fpr_L2, tpr_L2, label='New Lefty Model')\n",
    "plt.plot(fpr_R2, tpr_R2, label='New Righty Model')\n",
    "plt.xlabel('False Positive Rate')\n",
    "plt.ylabel('True Positive Rate (Recall)')\n",
    "plt.legend(['New Lefty Model','New Righty Model'],loc='best')\n",
    "plt.show()"
   ]
  },
  {
   "cell_type": "markdown",
   "metadata": {
    "id": "yjwOnbqi2x2H"
   },
   "source": [
    "Testing The Models"
   ]
  },
  {
   "cell_type": "markdown",
   "metadata": {
    "id": "5n0i-rEa3ygx"
   },
   "source": [
    "Final Lefty Model Compared to Earlier Version"
   ]
  },
  {
   "cell_type": "code",
   "execution_count": 293,
   "metadata": {
    "colab": {
     "base_uri": "https://localhost:8080/"
    },
    "id": "gHbICnDn2y4j",
    "outputId": "57810032-37b2-482c-f74f-aff8f22f161a"
   },
   "outputs": [
    {
     "name": "stdout",
     "output_type": "stream",
     "text": [
      "              precision    recall  f1-score   support\n",
      "\n",
      "           0       0.95      0.62      0.75      1317\n",
      "           1       0.20      0.74      0.32       170\n",
      "\n",
      "    accuracy                           0.64      1487\n",
      "   macro avg       0.58      0.68      0.53      1487\n",
      "weighted avg       0.86      0.64      0.70      1487\n",
      "\n"
     ]
    }
   ],
   "source": [
    "lefty_preds_final = (RF_L_temp.predict_proba(lefty_test_X_2)[:,1] > lefty_threshold2) * 1\n",
    "print(classification_report(lefty_test_y1, lefty_preds_final))"
   ]
  },
  {
   "cell_type": "code",
   "execution_count": 294,
   "metadata": {
    "colab": {
     "base_uri": "https://localhost:8080/",
     "height": 297
    },
    "id": "A-cSiatI3doF",
    "outputId": "13c6a592-577a-47c2-e917-0b931066b210"
   },
   "outputs": [
    {
     "data": {
      "text/plain": [
       "<sklearn.metrics._plot.confusion_matrix.ConfusionMatrixDisplay at 0x7f701937d090>"
      ]
     },
     "execution_count": 294,
     "metadata": {},
     "output_type": "execute_result"
    },
    {
     "data": {
      "image/png": "[encoded data removed]",
      "text/plain": [
       "<Figure size 432x288 with 2 Axes>"
      ]
     },
     "metadata": {
      "needs_background": "light"
     },
     "output_type": "display_data"
    }
   ],
   "source": [
    "metrics.ConfusionMatrixDisplay(metrics.confusion_matrix(lefty_test_y1, lefty_preds_final)).plot()"
   ]
  },
  {
   "cell_type": "code",
   "execution_count": 295,
   "metadata": {
    "colab": {
     "base_uri": "https://localhost:8080/"
    },
    "id": "YfjrJQI53eKH",
    "outputId": "74339902-e5c0-4b95-e7c0-bee83455eed4"
   },
   "outputs": [
    {
     "name": "stdout",
     "output_type": "stream",
     "text": [
      "              precision    recall  f1-score   support\n",
      "\n",
      "           0       0.90      0.83      0.86      1317\n",
      "           1       0.17      0.27      0.21       170\n",
      "\n",
      "    accuracy                           0.77      1487\n",
      "   macro avg       0.53      0.55      0.54      1487\n",
      "weighted avg       0.81      0.77      0.79      1487\n",
      "\n"
     ]
    }
   ],
   "source": [
    "lefty_preds = (RFCLF2.predict_proba(lefty_test_X_scaled)[:,1] > lefty_threshold) * 1\n",
    "print(classification_report(lefty_test_y, lefty_preds))"
   ]
  },
  {
   "cell_type": "code",
   "execution_count": 296,
   "metadata": {
    "colab": {
     "base_uri": "https://localhost:8080/",
     "height": 297
    },
    "id": "ejv1MV7z3cdh",
    "outputId": "4d5417a2-31e4-4faa-bef8-6af27f976071"
   },
   "outputs": [
    {
     "data": {
      "text/plain": [
       "<sklearn.metrics._plot.confusion_matrix.ConfusionMatrixDisplay at 0x7f70192c8690>"
      ]
     },
     "execution_count": 296,
     "metadata": {},
     "output_type": "execute_result"
    },
    {
     "data": {
      "image/png": "[encoded data removed]",
      "text/plain": [
       "<Figure size 432x288 with 2 Axes>"
      ]
     },
     "metadata": {
      "needs_background": "light"
     },
     "output_type": "display_data"
    }
   ],
   "source": [
    "metrics.ConfusionMatrixDisplay(metrics.confusion_matrix(lefty_test_y, lefty_preds)).plot()"
   ]
  },
  {
   "cell_type": "markdown",
   "metadata": {
    "id": "pyVIheHGJKJX"
   },
   "source": [
    "In once again targeting whatever recall we can get with around 20% precision, this model sees much higher recall: above 70%.  "
   ]
  },
  {
   "cell_type": "markdown",
   "metadata": {
    "id": "R-Avwfn531BY"
   },
   "source": [
    "Final Righty Model Compared to Earlier Version"
   ]
  },
  {
   "cell_type": "code",
   "execution_count": 299,
   "metadata": {
    "colab": {
     "base_uri": "https://localhost:8080/"
    },
    "id": "yUzRuTsf32GA",
    "outputId": "b9bc3a9b-78fe-49a2-f4da-bfdb8602c0a6"
   },
   "outputs": [
    {
     "name": "stdout",
     "output_type": "stream",
     "text": [
      "              precision    recall  f1-score   support\n",
      "\n",
      "           0       0.97      0.61      0.75      3099\n",
      "           1       0.22      0.85      0.35       398\n",
      "\n",
      "    accuracy                           0.64      3497\n",
      "   macro avg       0.59      0.73      0.55      3497\n",
      "weighted avg       0.88      0.64      0.70      3497\n",
      "\n"
     ]
    }
   ],
   "source": [
    "righty_preds_final = (RF_R_temp.predict_proba(righty_test_X_2)[:,1] > righty_threshold2) * 1\n",
    "print(classification_report(righty_test_y1, righty_preds_final))"
   ]
  },
  {
   "cell_type": "code",
   "execution_count": 300,
   "metadata": {
    "colab": {
     "base_uri": "https://localhost:8080/",
     "height": 297
    },
    "id": "DeI0Bmp04Aqo",
    "outputId": "3a55e31d-b774-4dbd-f59b-de988d3f7f12"
   },
   "outputs": [
    {
     "data": {
      "text/plain": [
       "<sklearn.metrics._plot.confusion_matrix.ConfusionMatrixDisplay at 0x7f7019222fd0>"
      ]
     },
     "execution_count": 300,
     "metadata": {},
     "output_type": "execute_result"
    },
    {
     "data": {
      "image/png": "[encoded data removed]",
      "text/plain": [
       "<Figure size 432x288 with 2 Axes>"
      ]
     },
     "metadata": {
      "needs_background": "light"
     },
     "output_type": "display_data"
    }
   ],
   "source": [
    "metrics.ConfusionMatrixDisplay(metrics.confusion_matrix(righty_test_y1, righty_preds_final)).plot()"
   ]
  },
  {
   "cell_type": "code",
   "execution_count": 301,
   "metadata": {
    "colab": {
     "base_uri": "https://localhost:8080/"
    },
    "id": "QwDNaLLqJvL1",
    "outputId": "c015b0af-5c79-4b3d-d4de-4ac13e7f07c4"
   },
   "outputs": [
    {
     "name": "stdout",
     "output_type": "stream",
     "text": [
      "              precision    recall  f1-score   support\n",
      "\n",
      "           0       0.89      0.98      0.93      3099\n",
      "           1       0.30      0.06      0.09       398\n",
      "\n",
      "    accuracy                           0.88      3497\n",
      "   macro avg       0.59      0.52      0.51      3497\n",
      "weighted avg       0.82      0.88      0.84      3497\n",
      "\n"
     ]
    }
   ],
   "source": [
    "righty_preds = (RFCLF_r2.predict_proba(righty_test_X_scaled)[:,1] > righty_threshold) * 1\n",
    "print(classification_report(righty_test_y, righty_preds))"
   ]
  },
  {
   "cell_type": "code",
   "execution_count": 302,
   "metadata": {
    "colab": {
     "base_uri": "https://localhost:8080/",
     "height": 298
    },
    "id": "Iug9fDJXKEAe",
    "outputId": "3060f7a6-474d-461a-fb96-aeca42f9ade1"
   },
   "outputs": [
    {
     "data": {
      "text/plain": [
       "<sklearn.metrics._plot.confusion_matrix.ConfusionMatrixDisplay at 0x7f70195116d0>"
      ]
     },
     "execution_count": 302,
     "metadata": {},
     "output_type": "execute_result"
    },
    {
     "data": {
      "image/png": "[encoded data removed]",
      "text/plain": [
       "<Figure size 432x288 with 2 Axes>"
      ]
     },
     "metadata": {
      "needs_background": "light"
     },
     "output_type": "display_data"
    }
   ],
   "source": [
    "metrics.ConfusionMatrixDisplay(metrics.confusion_matrix(righty_test_y, righty_preds)).plot()"
   ]
  },
  {
   "cell_type": "markdown",
   "metadata": {
    "id": "JaSzeH70KM0h"
   },
   "source": [
    "For righties, we do even better with this task, obtaining a recall of 85%."
   ]
  },
  {
   "cell_type": "markdown",
   "metadata": {
    "id": "Ly9ulojL4P-4"
   },
   "source": [
    "We've done a lot better with the more lightweight model on a bigger dataset. As the feature importances below show, this had pretty much nothing to do with clustering information from section 1. What combination of more limited features, bigger data, or other factors (I consider some in my conclusion) led to this improvement are unknown to me, but it was probably indeed a combination leading to this improvement.  \n",
    "\n",
    "Furthermore, striving for 20% precision is arbritrary. Higher precision can be obtained by sacrificing some of these much higher recalls of about 80%."
   ]
  },
  {
   "cell_type": "code",
   "execution_count": 303,
   "metadata": {
    "colab": {
     "base_uri": "https://localhost:8080/",
     "height": 374
    },
    "id": "i5VgiYhg4Stk",
    "outputId": "6bb6b7b9-048f-4eb1-c2af-991711a754c3"
   },
   "outputs": [
    {
     "data": {
      "image/png": "[encoded data removed]",
      "text/plain": [
       "<Figure size 576x432 with 1 Axes>"
      ]
     },
     "metadata": {
      "needs_background": "light"
     },
     "output_type": "display_data"
    }
   ],
   "source": [
    "#new lefty feature importances\n",
    "plt.figure(figsize=(8,6))\n",
    "nfeat=lefty_train_X_2.shape[1]\n",
    "plt.barh(np.arange(nfeat), RF_L_temp.feature_importances_,align='center')\n",
    "plt.yticks(np.arange(nfeat),list(lefty_train_X_2.columns))\n",
    "plt.ylim(-1,nfeat)\n",
    "plt.show()"
   ]
  },
  {
   "cell_type": "code",
   "execution_count": 304,
   "metadata": {
    "colab": {
     "base_uri": "https://localhost:8080/",
     "height": 374
    },
    "id": "zCBONhcr49t4",
    "outputId": "0bad936b-962e-4e09-f518-023903c65167"
   },
   "outputs": [
    {
     "data": {
      "image/png": "[encoded data removed]",
      "text/plain": [
       "<Figure size 576x432 with 1 Axes>"
      ]
     },
     "metadata": {
      "needs_background": "light"
     },
     "output_type": "display_data"
    }
   ],
   "source": [
    "#new righty feature importances\n",
    "plt.figure(figsize=(8,6))\n",
    "nfeat=righty_train_X_2.shape[1]\n",
    "plt.barh(np.arange(nfeat), RF_R_temp.feature_importances_,align='center')\n",
    "plt.yticks(np.arange(nfeat),list(righty_train_X_2.columns))\n",
    "plt.ylim(-1,nfeat)\n",
    "plt.show()"
   ]
  },
  {
   "cell_type": "markdown",
   "metadata": {
    "id": "nAdfygtIKyJo"
   },
   "source": [
    "# **Conclusion**"
   ]
  },
  {
   "cell_type": "markdown",
   "metadata": {
    "id": "1uL89F32pA70"
   },
   "source": [
    "My analysis addressed both parts of my original question -- of whether data indicates baseball pitch typologies differing from convention and whether this info can be used to predict effectiveness -- with differing levels of effectiveness (though it's probably a stretch to compare the effectiveness of supervised versus unsupervised modeling analyses).\n",
    "\n",
    "In Section 1, the k-means clustering algorithm's use on Statcast pitch data showed that pitches do in fact fall into three broad categories based on their in-air movement, which is consistent with conventional widsom, but that some pitches labeled as fastballs actually act more like breaking balls or off-speed pitches -- especially cutters and sinkers. This indicates we might want to think about re-classifying some of these fastballs, or at least about thinking about them differently.  \n",
    "\n",
    "The other key conclusion from Section 1 is that the data indicates lefties may get by on inferior pitch quality, if we can define quality as extremes of speed and break, because they're weirder. Pitches of the fastball archetype from lefties tend to be slower, but the range of velocities is wider than that of righties. Further analyses of this would likely involve testing for whether these differences are statistically significant to better understand whether/how much lefties have a leg up.  \n",
    "\n",
    "In Sections 2 and 3, I had debatable success trying to get at the second part of my question: whether we can predict pitch effectiveness and if the unsupervised learning info helps in that regard. Regarding the latter part of my second question, we can say pretty confidently I was unable to translate my section 1 findings into better predictive power, given the feature importances. However, I did otherwise appear to have some predictive success at the end, at least when it came to identifying swing and miss pitches while being OK with a very high error rate.  \n",
    "\n",
    "As mentioned, this improvement could have come because I utilized more of the dataset or because I respecified the model. It also could have come from nuances of this specific dataset. Further analysis is needed to see how this model performs on other sample baseball periods, as I spent a lot of time looking at this one 11-day period. I'm currently unsure if the process that led me to this new-and-improved model -- including specifying a subsequent model based on feature importances from the first -- didn't lead to a sort of overfitting or introduce an element of data leakage I haven't caught on to.  \n",
    "\n",
    "Nevertheless, some headway appears to have been made at the difficult task of predicting swings and misses. It's likely only so high an accuracy can be achieved in this task, especially considering the importance of the batter himself in this dynamic. Batters are usually very aware of and prepared for what a given pitcher brings to the table -- i.e. their pitch arsenal -- which, for a given pitcher, is relatively limited compared to the vast range of possibilities found across Major League Baseball. Still, I have a hunch that this preparation can only go so far against truly great pitches (e.g. a 100-mph fastball placed up in the strike zone or a curveball that breaks 3 feet.).  \n",
    "\n",
    "At the very least, showing that we can identify, with reasonable recall, pitches that are 'swing-and-miss' material is of interest, as this is, again, a sign of pitch effectiveness/quality and, incidentally, very important in certain in-game situations such as when a runner is on third base. "
   ]
  }
 ],
 "metadata": {
  "colab": {
   "collapsed_sections": [
    "7ytegxkCv9Ym",
    "3g7I4xU6FJ8y",
    "hh8aJBNvBdIV",
    "DlMaiVvHYeh_",
    "u03eAz_YgALK",
    "_d_PMyiExuCf",
    "nAdfygtIKyJo"
   ],
   "name": "DeanBoernerMSDS599FinalProject.ipynb",
   "provenance": []
  },
  "kernelspec": {
   "display_name": "Python 3 (ipykernel)",
   "language": "python",
   "name": "python3"
  },
  "language_info": {
   "codemirror_mode": {
    "name": "ipython",
    "version": 3
   },
   "file_extension": ".py",
   "mimetype": "text/x-python",
   "name": "python",
   "nbconvert_exporter": "python",
   "pygments_lexer": "ipython3",
   "version": "3.9.7"
  }
 },
 "nbformat": 4,
 "nbformat_minor": 1
}
